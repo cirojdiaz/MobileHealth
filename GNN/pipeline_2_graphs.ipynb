{
 "cells": [
  {
   "cell_type": "code",
   "execution_count": 9,
   "metadata": {},
   "outputs": [],
   "source": [
    "import pandas as pd\n",
    "import numpy as np\n",
    "import dgl\n",
    "import createGraph\n",
    "from importlib import reload\n",
    "import torch\n",
    "from sklearn.experimental import enable_iterative_imputer\n",
    "from sklearn.impute import IterativeImputer\n",
    "import architecture\n",
    "import training_loop"
   ]
  },
  {
   "cell_type": "code",
   "execution_count": 10,
   "metadata": {},
   "outputs": [],
   "source": [
    "# Assign new indices to 2nd graph\n",
    "def offset_node_batches(node_batches, offset):\n",
    "    return [[idx + offset for idx in batch] for batch in node_batches]"
   ]
  },
  {
   "cell_type": "code",
   "execution_count": 11,
   "metadata": {},
   "outputs": [],
   "source": [
    "# Load in graphs directly from binary files\n",
    "train_g, train_labels_dict = dgl.load_graphs('upsampledTrain.bin')\n",
    "val_g, val_labels_dict = dgl.load_graphs('nonupsampledTest.bin')\n",
    "\n",
    "# Assign labels \n",
    "train_y = train_labels_dict['gLabel']\n",
    "val_y = val_labels_dict['gLabel']\n",
    "\n",
    "# Make a list of cumulative sums of nodes for each graph in training and val set\n",
    "train_cumsum_nodes = np.cumsum([g.number_of_nodes() for g in train_g])\n",
    "val_cumsum_nodes = np.cumsum([g.number_of_nodes() for g in val_g])"
   ]
  },
  {
   "cell_type": "code",
   "execution_count": 12,
   "metadata": {},
   "outputs": [],
   "source": [
    "# Create a list of lists containg indices of nodes for each graph in training and val set\n",
    "train_node_batches = [list(range(train_cumsum_nodes[i - 1] if i > 0 else 0, train_cumsum_nodes[i])) for i in range(len(train_g))]\n",
    "val_node_batches = [list(range(val_cumsum_nodes[i - 1] if i > 0 else 0, val_cumsum_nodes[i])) for i in range(len(val_g))]"
   ]
  },
  {
   "cell_type": "code",
   "execution_count": 13,
   "metadata": {},
   "outputs": [],
   "source": [
    "# Last indexed value from train_cumsum_nodes is total number of nodes in training set\n",
    "num_train_nodes = train_cumsum_nodes[-1]\n",
    "# Add number of train nodes to each idx in val set \n",
    "offset_val_node_batches = offset_node_batches(val_node_batches, num_train_nodes)\n",
    "# Combine into single graph\n",
    "combined_g = dgl.batch(train_g + val_g)\n",
    "# Get total number of batches/indices \n",
    "combined_node_batches = train_node_batches + offset_val_node_batches\n",
    "# Combine labels for train and val into single tensor\n",
    "combined_y = torch.cat([train_y, val_y])\n",
    "# Mask to select training set\n",
    "train_mask = list(range(len(train_y)))\n",
    "# Mask to select val set\n",
    "val_mask = list(range(len(train_y), len(train_y) + len(val_y)))"
   ]
  },
  {
   "cell_type": "code",
   "execution_count": 14,
   "metadata": {},
   "outputs": [
    {
     "name": "stderr",
     "output_type": "stream",
     "text": [
      "C:\\Users\\james\\AppData\\Roaming\\Python\\Python311\\site-packages\\dgl\\backend\\pytorch\\tensor.py:449: UserWarning: TypedStorage is deprecated. It will be removed in the future and UntypedStorage will be the only storage class. This should only matter to you if you are using storages directly.  To access UntypedStorage directly, use tensor.untyped_storage() instead of tensor.storage()\n",
      "  assert input.numel() == input.storage().size(), (\n"
     ]
    },
    {
     "name": "stdout",
     "output_type": "stream",
     "text": [
      "In epoch 0, loss: 0.685, train_acc: 0.525, train_bal_acc: 0.517, train_recall: 0.913, train_precision: 0.519 val loss: 0.668, val acc: 0.666, bal acc: 0.497, val recall: 0.911, val precision: 0.703\n",
      "In epoch 5, loss: 0.670, train_acc: 0.614, train_bal_acc: 0.614, train_recall: 0.569, train_precision: 0.634 val loss: 0.686, val acc: 0.503, bal acc: 0.469, val recall: 0.553, val precision: 0.681\n",
      "In epoch 10, loss: 0.660, train_acc: 0.630, train_bal_acc: 0.629, train_recall: 0.659, train_precision: 0.631 val loss: 0.678, val acc: 0.555, bal acc: 0.482, val recall: 0.659, val precision: 0.693\n",
      "In epoch 15, loss: 0.648, train_acc: 0.637, train_bal_acc: 0.637, train_recall: 0.653, train_precision: 0.642 val loss: 0.684, val acc: 0.549, bal acc: 0.481, val recall: 0.649, val precision: 0.692\n",
      "In epoch 20, loss: 0.638, train_acc: 0.640, train_bal_acc: 0.640, train_recall: 0.661, train_precision: 0.642 val loss: 0.687, val acc: 0.556, bal acc: 0.480, val recall: 0.666, val precision: 0.692\n"
     ]
    },
    {
     "ename": "KeyboardInterrupt",
     "evalue": "",
     "output_type": "error",
     "traceback": [
      "\u001b[1;31m---------------------------------------------------------------------------\u001b[0m",
      "\u001b[1;31mKeyboardInterrupt\u001b[0m                         Traceback (most recent call last)",
      "Cell \u001b[1;32mIn[14], line 6\u001b[0m\n\u001b[0;32m      2\u001b[0m reload(training_loop)\n\u001b[0;32m      4\u001b[0m model \u001b[39m=\u001b[39m architecture\u001b[39m.\u001b[39mGCN(combined_g\u001b[39m.\u001b[39mndata[\u001b[39m'\u001b[39m\u001b[39mfeat\u001b[39m\u001b[39m'\u001b[39m]\u001b[39m.\u001b[39mshape[\u001b[39m1\u001b[39m], \u001b[39m30\u001b[39m, \u001b[39m30\u001b[39m)\n\u001b[1;32m----> 6\u001b[0m training_loop\u001b[39m.\u001b[39;49mtrain(g\u001b[39m=\u001b[39;49mcombined_g, node_batches\u001b[39m=\u001b[39;49mcombined_node_batches, model\u001b[39m=\u001b[39;49mmodel, labels\u001b[39m=\u001b[39;49mcombined_y, train_mask\u001b[39m=\u001b[39;49mtrain_mask, val_mask\u001b[39m=\u001b[39;49mval_mask, validate\u001b[39m=\u001b[39;49m\u001b[39mTrue\u001b[39;49;00m, test\u001b[39m=\u001b[39;49m\u001b[39mFalse\u001b[39;49;00m)\n",
      "File \u001b[1;32mc:\\Users\\james\\Documents\\2023coop\\MHA_Summer_Dev\\GNN\\training_loop.py:93\u001b[0m, in \u001b[0;36mtrain\u001b[1;34m(g, node_batches, model, labels, train_mask, val_mask, test_mask, validate, test, init_lr, stoch, num_batches, early_stopping, early_stopping_patience, early_stopping_warmup, max_epochs)\u001b[0m\n\u001b[0;32m     85\u001b[0m \u001b[39m# Compute loss\u001b[39;00m\n\u001b[0;32m     86\u001b[0m \u001b[39m# Note that you should only compute the losses of the nodes in the current training set batch. <- don't worry about this note\u001b[39;00m\n\u001b[0;32m     87\u001b[0m \u001b[39m#print(class_weights_weighted.float())\u001b[39;00m\n\u001b[1;32m   (...)\u001b[0m\n\u001b[0;32m     90\u001b[0m \u001b[39m# Look into this, check alternatives \u001b[39;00m\n\u001b[0;32m     91\u001b[0m \u001b[39m# Clear gradients of optimized variables before backward pass\u001b[39;00m\n\u001b[0;32m     92\u001b[0m optimizer\u001b[39m.\u001b[39mzero_grad()\n\u001b[1;32m---> 93\u001b[0m loss\u001b[39m.\u001b[39;49mbackward()\n\u001b[0;32m     94\u001b[0m \u001b[39m# scheduler.step(F.cross_entropy(logits[train_mask], labels[train_mask], weight=class_weights_weighted))\u001b[39;00m\n\u001b[0;32m     95\u001b[0m optimizer\u001b[39m.\u001b[39mstep()\n",
      "File \u001b[1;32m~\\AppData\\Roaming\\Python\\Python311\\site-packages\\torch\\_tensor.py:487\u001b[0m, in \u001b[0;36mTensor.backward\u001b[1;34m(self, gradient, retain_graph, create_graph, inputs)\u001b[0m\n\u001b[0;32m    477\u001b[0m \u001b[39mif\u001b[39;00m has_torch_function_unary(\u001b[39mself\u001b[39m):\n\u001b[0;32m    478\u001b[0m     \u001b[39mreturn\u001b[39;00m handle_torch_function(\n\u001b[0;32m    479\u001b[0m         Tensor\u001b[39m.\u001b[39mbackward,\n\u001b[0;32m    480\u001b[0m         (\u001b[39mself\u001b[39m,),\n\u001b[1;32m   (...)\u001b[0m\n\u001b[0;32m    485\u001b[0m         inputs\u001b[39m=\u001b[39minputs,\n\u001b[0;32m    486\u001b[0m     )\n\u001b[1;32m--> 487\u001b[0m torch\u001b[39m.\u001b[39;49mautograd\u001b[39m.\u001b[39;49mbackward(\n\u001b[0;32m    488\u001b[0m     \u001b[39mself\u001b[39;49m, gradient, retain_graph, create_graph, inputs\u001b[39m=\u001b[39;49minputs\n\u001b[0;32m    489\u001b[0m )\n",
      "File \u001b[1;32m~\\AppData\\Roaming\\Python\\Python311\\site-packages\\torch\\autograd\\__init__.py:200\u001b[0m, in \u001b[0;36mbackward\u001b[1;34m(tensors, grad_tensors, retain_graph, create_graph, grad_variables, inputs)\u001b[0m\n\u001b[0;32m    195\u001b[0m     retain_graph \u001b[39m=\u001b[39m create_graph\n\u001b[0;32m    197\u001b[0m \u001b[39m# The reason we repeat same the comment below is that\u001b[39;00m\n\u001b[0;32m    198\u001b[0m \u001b[39m# some Python versions print out the first line of a multi-line function\u001b[39;00m\n\u001b[0;32m    199\u001b[0m \u001b[39m# calls in the traceback and some print out the last line\u001b[39;00m\n\u001b[1;32m--> 200\u001b[0m Variable\u001b[39m.\u001b[39;49m_execution_engine\u001b[39m.\u001b[39;49mrun_backward(  \u001b[39m# Calls into the C++ engine to run the backward pass\u001b[39;49;00m\n\u001b[0;32m    201\u001b[0m     tensors, grad_tensors_, retain_graph, create_graph, inputs,\n\u001b[0;32m    202\u001b[0m     allow_unreachable\u001b[39m=\u001b[39;49m\u001b[39mTrue\u001b[39;49;00m, accumulate_grad\u001b[39m=\u001b[39;49m\u001b[39mTrue\u001b[39;49;00m)\n",
      "File \u001b[1;32m~\\AppData\\Roaming\\Python\\Python311\\site-packages\\torch\\autograd\\function.py:264\u001b[0m, in \u001b[0;36mBackwardCFunction.apply\u001b[1;34m(self, *args)\u001b[0m\n\u001b[0;32m    263\u001b[0m \u001b[39mclass\u001b[39;00m \u001b[39mBackwardCFunction\u001b[39;00m(_C\u001b[39m.\u001b[39m_FunctionBase, FunctionCtx, _HookMixin):\n\u001b[1;32m--> 264\u001b[0m     \u001b[39mdef\u001b[39;00m \u001b[39mapply\u001b[39m(\u001b[39mself\u001b[39m, \u001b[39m*\u001b[39margs):\n\u001b[0;32m    265\u001b[0m         \u001b[39m# _forward_cls is defined by derived class\u001b[39;00m\n\u001b[0;32m    266\u001b[0m         \u001b[39m# The user should define either backward or vjp but never both.\u001b[39;00m\n\u001b[0;32m    267\u001b[0m         backward_fn \u001b[39m=\u001b[39m \u001b[39mself\u001b[39m\u001b[39m.\u001b[39m_forward_cls\u001b[39m.\u001b[39mbackward  \u001b[39m# type: ignore[attr-defined]\u001b[39;00m\n\u001b[0;32m    268\u001b[0m         vjp_fn \u001b[39m=\u001b[39m \u001b[39mself\u001b[39m\u001b[39m.\u001b[39m_forward_cls\u001b[39m.\u001b[39mvjp  \u001b[39m# type: ignore[attr-defined]\u001b[39;00m\n",
      "\u001b[1;31mKeyboardInterrupt\u001b[0m: "
     ]
    }
   ],
   "source": [
    "reload(architecture)\n",
    "reload(training_loop)\n",
    "\n",
    "model = architecture.GCN(combined_g.ndata['feat'].shape[1], 30, 30)\n",
    "\n",
    "training_loop.train(g=combined_g, node_batches=combined_node_batches, model=model, labels=combined_y, train_mask=train_mask, val_mask=val_mask, validate=True, test=False)"
   ]
  }
 ],
 "metadata": {
  "kernelspec": {
   "display_name": "Python 3",
   "language": "python",
   "name": "python3"
  },
  "language_info": {
   "codemirror_mode": {
    "name": "ipython",
    "version": 3
   },
   "file_extension": ".py",
   "mimetype": "text/x-python",
   "name": "python",
   "nbconvert_exporter": "python",
   "pygments_lexer": "ipython3",
   "version": "3.11.3"
  },
  "orig_nbformat": 4
 },
 "nbformat": 4,
 "nbformat_minor": 2
}
