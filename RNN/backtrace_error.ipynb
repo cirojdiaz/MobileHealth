/Users/aaran/MHA_Summer_Dev_Local/MHA_Summer_Dev/RNN/model.py:54: UserWarning: Implicit dimension choice for softmax has been deprecated. Change the call to include dim=X as an argument.
  logits = F.softmax(logits)
/Users/aaran/opt/anaconda3/envs/tensorflow/lib/python3.10/site-packages/torch/autograd/__init__.py:197: UserWarning: Error detected in MmBackward0. Traceback of forward call that caused the error:
  File "/Users/aaran/opt/anaconda3/envs/tensorflow/lib/python3.10/runpy.py", line 196, in _run_module_as_main
    return _run_code(code, main_globals, None,
  File "/Users/aaran/opt/anaconda3/envs/tensorflow/lib/python3.10/runpy.py", line 86, in _run_code
    exec(code, run_globals)
  File "/Users/aaran/opt/anaconda3/envs/tensorflow/lib/python3.10/site-packages/ipykernel_launcher.py", line 17, in <module>
    app.launch_new_instance()
  File "/Users/aaran/opt/anaconda3/envs/tensorflow/lib/python3.10/site-packages/traitlets/config/application.py", line 1041, in launch_instance
    app.start()
  File "/Users/aaran/opt/anaconda3/envs/tensorflow/lib/python3.10/site-packages/ipykernel/kernelapp.py", line 724, in start
    self.io_loop.start()
  File "/Users/aaran/opt/anaconda3/envs/tensorflow/lib/python3.10/site-packages/tornado/platform/asyncio.py", line 215, in start
    self.asyncio_loop.run_forever()
  File "/Users/aaran/opt/anaconda3/envs/tensorflow/lib/python3.10/asyncio/base_events.py", line 603, in run_forever
    self._run_once()
  File "/Users/aaran/opt/anaconda3/envs/tensorflow/lib/python3.10/asyncio/base_events.py", line 1899, in _run_once
    handle._run()
  File "/Users/aaran/opt/anaconda3/envs/tensorflow/lib/python3.10/asyncio/events.py", line 80, in _run
    self._context.run(self._callback, *self._args)
  File "/Users/aaran/opt/anaconda3/envs/tensorflow/lib/python3.10/site-packages/ipykernel/kernelbase.py", line 512, in dispatch_queue
    await self.process_one()
  File "/Users/aaran/opt/anaconda3/envs/tensorflow/lib/python3.10/site-packages/ipykernel/kernelbase.py", line 501, in process_one
    await dispatch(*args)
  File "/Users/aaran/opt/anaconda3/envs/tensorflow/lib/python3.10/site-packages/ipykernel/kernelbase.py", line 408, in dispatch_shell
    await result
  File "/Users/aaran/opt/anaconda3/envs/tensorflow/lib/python3.10/site-packages/ipykernel/kernelbase.py", line 731, in execute_request
    reply_content = await reply_content
  File "/Users/aaran/opt/anaconda3/envs/tensorflow/lib/python3.10/site-packages/ipykernel/ipkernel.py", line 417, in do_execute
    res = shell.run_cell(
  File "/Users/aaran/opt/anaconda3/envs/tensorflow/lib/python3.10/site-packages/ipykernel/zmqshell.py", line 540, in run_cell
    return super().run_cell(*args, **kwargs)
  File "/Users/aaran/opt/anaconda3/envs/tensorflow/lib/python3.10/site-packages/IPython/core/interactiveshell.py", line 2945, in run_cell
    result = self._run_cell(
  File "/Users/aaran/opt/anaconda3/envs/tensorflow/lib/python3.10/site-packages/IPython/core/interactiveshell.py", line 3000, in _run_cell
    return runner(coro)
  File "/Users/aaran/opt/anaconda3/envs/tensorflow/lib/python3.10/site-packages/IPython/core/async_helpers.py", line 129, in _pseudo_sync_runner
    coro.send(None)
  File "/Users/aaran/opt/anaconda3/envs/tensorflow/lib/python3.10/site-packages/IPython/core/interactiveshell.py", line 3203, in run_cell_async
    has_raised = await self.run_ast_nodes(code_ast.body, cell_name,
  File "/Users/aaran/opt/anaconda3/envs/tensorflow/lib/python3.10/site-packages/IPython/core/interactiveshell.py", line 3382, in run_ast_nodes
    if await self.run_code(code, result, async_=asy):
  File "/Users/aaran/opt/anaconda3/envs/tensorflow/lib/python3.10/site-packages/IPython/core/interactiveshell.py", line 3442, in run_code
    exec(code_obj, self.user_global_ns, self.user_ns)
  File "/var/folders/yv/fxtprh2s52j94nnjg1219s_w0000gn/T/ipykernel_9497/755750367.py", line 8, in <module>
    training_loop.train(model=m, X=features, labels=torch.tensor(y), train_mask=train_mask[0], val_mask=val_mask[0], validate=True, test=False)
  File "/Users/aaran/MHA_Summer_Dev_Local/MHA_Summer_Dev/RNN/training_loop.py", line 57, in train
    logits = model(X)
  File "/Users/aaran/opt/anaconda3/envs/tensorflow/lib/python3.10/site-packages/torch/nn/modules/module.py", line 1194, in _call_impl
    return forward_call(*input, **kwargs)
  File "/Users/aaran/MHA_Summer_Dev_Local/MHA_Summer_Dev/RNN/model.py", line 46, in forward
    self.hs_matrix[subj] = self.nsf_dense2(self.hs_matrix[subj])
  File "/Users/aaran/opt/anaconda3/envs/tensorflow/lib/python3.10/site-packages/torch/nn/modules/module.py", line 1194, in _call_impl
    return forward_call(*input, **kwargs)
  File "/Users/aaran/opt/anaconda3/envs/tensorflow/lib/python3.10/site-packages/torch/nn/modules/linear.py", line 114, in forward
    return F.linear(input, self.weight, self.bias)
  File "/Users/aaran/opt/anaconda3/envs/tensorflow/lib/python3.10/site-packages/torch/fx/traceback.py", line 57, in format_stack
    return traceback.format_stack()
 (Triggered internally at /Users/runner/work/_temp/anaconda/conda-bld/pytorch_1670525498485/work/torch/csrc/autograd/python_anomaly_mode.cpp:119.)
  Variable._execution_engine.run_backward(  # Calls into the C++ engine to run the backward pass
