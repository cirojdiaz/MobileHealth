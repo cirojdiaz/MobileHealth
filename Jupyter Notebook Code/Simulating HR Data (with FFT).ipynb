{
 "cells": [
  {
   "cell_type": "markdown",
   "metadata": {
    "id": "UatJOi_di0wr"
   },
   "source": [
    "# FFT Base Model\n",
    "Purpose:\n",
    "- Simulating good data to mimic a sinusoidal pattern for heart rate\n",
    "- Using this data to train the ANN model\n",
    "\n",
    "Notes:\n",
    "- no downsampling is applied\n",
    "- only realistically applicable for heart rate, as Dr.Qazi confirmed a sinusoidal pattern"
   ]
  },
  {
   "cell_type": "markdown",
   "metadata": {
    "id": "AK6el2xZiy_M"
   },
   "source": [
    "# Imports"
   ]
  },
  {
   "cell_type": "code",
   "execution_count": null,
   "metadata": {
    "id": "GJHS3zgHazK4"
   },
   "outputs": [],
   "source": [
    "# import libraries\n",
    "import matplotlib.pyplot as plt\n",
    "import math\n",
    "import numpy as np\n",
    "import os\n",
    "import openpyxl\n",
    "import pandas as pd\n",
    "import sklearn\n",
    "import random\n",
    "from sklearn.preprocessing import normalize\n",
    "from scipy.fft import fft, fftfreq, ifft"
   ]
  },
  {
   "cell_type": "markdown",
   "metadata": {
    "id": "8Oefwov_OmtC"
   },
   "source": [
    "# Loading/Preprocessing"
   ]
  },
  {
   "cell_type": "code",
   "execution_count": null,
   "metadata": {
    "id": "A516FGRMUIAc"
   },
   "outputs": [],
   "source": [
    "#Importing the data using an environment variable\n",
    "\n",
    "csv_folder_path = os.environ.get(\"CSV_Folder_Path\")\n",
    "file_path = os.path.join(csv_folder_path, \"uq_vsd_case04_alldata.csv\")\n"
   ]
  },
  {
   "cell_type": "code",
   "execution_count": null,
   "metadata": {
    "colab": {
     "base_uri": "https://localhost:8080/"
    },
    "executionInfo": {
     "elapsed": 4018,
     "status": "ok",
     "timestamp": 1671475969914,
     "user": {
      "displayName": "Joanne Jo",
      "userId": "01049188753505025865"
     },
     "user_tz": 300
    },
    "id": "DQY_XlDrQGbW",
    "outputId": "f562609f-b498-452c-be4f-38d5ee9175f0"
   },
   "outputs": [
    {
     "name": "stderr",
     "output_type": "stream",
     "text": [
      "/usr/local/lib/python3.8/dist-packages/IPython/core/interactiveshell.py:3326: FutureWarning: The error_bad_lines argument has been deprecated and will be removed in a future version.\n",
      "\n",
      "\n",
      "  exec(code_obj, self.user_global_ns, self.user_ns)\n"
     ]
    },
    {
     "name": "stdout",
     "output_type": "stream",
     "text": [
      "         HR  SpO2  NBP (Mean)    ECG\n",
      "6758  112.0  97.0        93.0 -0.005\n",
      "6759  112.0  97.0        93.0  0.040\n",
      "6760  112.0  97.0        93.0  0.080\n",
      "6761  112.0  97.0        93.0  0.115\n",
      "6762  112.0  97.0        93.0  0.140\n",
      "6763  112.0  97.0        93.0  0.140\n",
      "6764  112.0  97.0        93.0  0.115\n",
      "6765  112.0  97.0        93.0  0.055\n",
      "6766  112.0  97.0        93.0  0.000\n",
      "6767  112.0  97.0        93.0 -0.035\n",
      "           HR   SpO2  NBP (Mean)    ECG\n",
      "837315  131.0  100.0        98.0 -0.005\n",
      "837316  131.0  100.0        98.0 -0.005\n",
      "837317  131.0  100.0        98.0 -0.005\n",
      "837318  131.0  100.0        98.0 -0.005\n",
      "837319  131.0  100.0        98.0 -0.005\n",
      "837320  131.0  100.0        98.0 -0.005\n",
      "837321  131.0  100.0        98.0 -0.005\n",
      "837322  131.0  100.0        98.0 -0.005\n",
      "837323  131.0  100.0        98.0 -0.005\n",
      "837324  131.0  100.0        98.0 -0.005\n",
      "(785853, 4)\n"
     ]
    }
   ],
   "source": [
    "# Filtering the data\n",
    "df = pd.read_excel(file_path, index_col=False, error_bad_lines=False, usecols=['Time', 'HR', 'SpO2', 'NBP (Mean)', 'ECG'])\n",
    "\n",
    "df = df.dropna() #drop rows with NaN\n",
    "\n",
    "case4_filteredData = df.loc[(~df['HR'].isnull()) & (~df['SpO2'].isnull()) & (~df['NBP (Mean)'].isnull()) & (~df['ECG'].isnull())]\n",
    "case4_filteredData.drop('Time', axis=1, inplace=True)\n",
    "print(case4_filteredData.head(10))\n",
    "print(case4_filteredData.tail(10))\n",
    "print(case4_filteredData.shape)"
   ]
  },
  {
   "cell_type": "code",
   "execution_count": null,
   "metadata": {
    "colab": {
     "base_uri": "https://localhost:8080/"
    },
    "executionInfo": {
     "elapsed": 1196,
     "status": "ok",
     "timestamp": 1671475971098,
     "user": {
      "displayName": "Joanne Jo",
      "userId": "01049188753505025865"
     },
     "user_tz": 300
    },
    "id": "GPIHnjvtewhv",
    "outputId": "740bd9bf-76c2-4c78-bf7b-875b149a75e9"
   },
   "outputs": [
    {
     "data": {
      "image/png": "[encoded data removed]",
      "text/plain": [
       "<Figure size 432x288 with 4 Axes>"
      ]
     },
     "metadata": {
      "needs_background": "light"
     },
     "output_type": "display_data"
    }
   ],
   "source": [
    "# plot data\n",
    "dataset = case4_filteredData # use if google drive\n",
    "values = dataset.values\n",
    "\n",
    "# specify columns to plot\n",
    "groups = [0,1,2,3]\n",
    "i = 1\n",
    "for g in groups:\n",
    "  plt.subplot(len(groups), 1, i)\n",
    "  plt.plot(values[:, g])\n",
    "  plt.title(dataset.columns[g], y=0.5, loc='right')\n",
    "  i += 1\n",
    "# plt.show()"
   ]
  },
  {
   "cell_type": "markdown",
   "metadata": {
    "id": "-QGiFljobX7S"
   },
   "source": [
    "# FFT Forecasting"
   ]
  },
  {
   "cell_type": "code",
   "execution_count": null,
   "metadata": {
    "id": "FIEAK850jGyk"
   },
   "outputs": [],
   "source": [
    "# Prepping the data\n",
    "raw_var_data = case4_filteredData['HR'] # replace column name with variable you want"
   ]
  },
  {
   "cell_type": "code",
   "execution_count": null,
   "metadata": {
    "colab": {
     "base_uri": "https://localhost:8080/"
    },
    "executionInfo": {
     "elapsed": 3635,
     "status": "ok",
     "timestamp": 1671475974729,
     "user": {
      "displayName": "Joanne Jo",
      "userId": "01049188753505025865"
     },
     "user_tz": 300
    },
    "id": "-6vCB2Azjc4U",
    "outputId": "6ec964f4-c002-4ba0-feab-bc7f109afa35"
   },
   "outputs": [
    {
     "name": "stdout",
     "output_type": "stream",
     "text": [
      "0.84\n",
      "0.87\n",
      "0.94\n",
      "0.98\n",
      "0.82\n",
      "0.97\n",
      "0.92\n",
      "0.92\n",
      "0.93\n",
      "0.91\n"
     ]
    }
   ],
   "source": [
    "all_modified_data = np.copy(np.array(raw_var_data))\n",
    "\n",
    "# looping to fill desired time\n",
    "for j in range(0, 10):\n",
    "  # Applying fft\n",
    "  original_data = np.copy(np.array(raw_var_data))\n",
    "  fft_sig = fft(np.array(raw_var_data))\n",
    "\n",
    "  # leaving first two values of fft signal\n",
    "  input_fft_sig = np.copy(fft_sig[2:])\n",
    "\n",
    "  # taking absolute value since signal is complex numbers\n",
    "  abs_sig = np.absolute(input_fft_sig)\n",
    "\n",
    "  # getting indices of 20 highest values\n",
    "  sorted_index_array = np.argpartition(abs_sig, -20)[-20:]\n",
    "\n",
    "  # modifying maximum values by a randomized percentage\n",
    "  percentage = random.randint(80,100)/100\n",
    "  # percentage = 0.5 # testing\n",
    "  print(percentage)\n",
    "  for i in range(0, len(sorted_index_array) - 1):\n",
    "    index = sorted_index_array[i]\n",
    "    fft_sig[index+2] = fft_sig[index+2] * percentage # fixing offset of 2\n",
    "\n",
    "  # Applying inverse fft\n",
    "  inversed_sig = np.real(ifft(fft_sig))\n",
    "\n",
    "  all_modified_data = np.append(all_modified_data, inversed_sig)"
   ]
  },
  {
   "cell_type": "code",
   "execution_count": null,
   "metadata": {
    "colab": {
     "base_uri": "https://localhost:8080/"
    },
    "executionInfo": {
     "elapsed": 33250,
     "status": "ok",
     "timestamp": 1671476007977,
     "user": {
      "displayName": "Joanne Jo",
      "userId": "01049188753505025865"
     },
     "user_tz": 300
    },
    "id": "3zfFP0kekQ27",
    "outputId": "5950b2b4-aabf-4701-c036-f52a3380037f"
   },
   "outputs": [
    {
     "name": "stderr",
     "output_type": "stream",
     "text": [
      "/usr/local/lib/python3.8/dist-packages/IPython/core/pylabtools.py:128: UserWarning: Creating legend with loc=\"best\" can be slow with large amounts of data.\n",
      "  fig.canvas.print_figure(bytes_io, **kw)\n"
     ]
    },
    {
     "data": {
      "image/png": "[encoded data removed]",
      "text/plain": [
       "<Figure size 432x288 with 1 Axes>"
      ]
     },
     "metadata": {
      "needs_background": "light"
     },
     "output_type": "display_data"
    },
    {
     "data": {
      "text/plain": [
       "<Figure size 1440x576 with 0 Axes>"
      ]
     },
     "metadata": {},
     "output_type": "display_data"
    }
   ],
   "source": [
    "# Plotting\n",
    "\n",
    "plt.plot(all_modified_data, 'b', label='Modified')\n",
    "plt.plot(original_data, 'r', label='Original')\n",
    "plt.title(\"FFT Base Model - Heart Rate (HR)\")\n",
    "plt.legend()\n",
    "plt.figure(figsize=(20, 8))\n",
    "plt.show()"
   ]
  }
 ],
 "metadata": {
  "colab": {
   "authorship_tag": "ABX9TyOy+Ppe2ijMT3wcYuEzPADH",
   "collapsed_sections": [
    "AK6el2xZiy_M",
    "8Oefwov_OmtC"
   ],
   "provenance": [
    {
     "file_id": "1NX0nlTJMrXNZYjv6tmYuJfr7raOgQJY4",
     "timestamp": 1671034092808
    },
    {
     "file_id": "11oD1ANfPKFVHA82aEPRfSuVycx5p_DXl",
     "timestamp": 1669758529147
    },
    {
     "file_id": "1tMZTQqKPUtp6dcaU-lGqqhSK__dWbf8C",
     "timestamp": 1669738770215
    }
   ]
  },
  "kernelspec": {
   "display_name": "Python 3 (ipykernel)",
   "language": "python",
   "name": "python3"
  },
  "language_info": {
   "codemirror_mode": {
    "name": "ipython",
    "version": 3
   },
   "file_extension": ".py",
   "mimetype": "text/x-python",
   "name": "python",
   "nbconvert_exporter": "python",
   "pygments_lexer": "ipython3",
   "version": "3.9.13"
  }
 },
 "nbformat": 4,
 "nbformat_minor": 1
}
