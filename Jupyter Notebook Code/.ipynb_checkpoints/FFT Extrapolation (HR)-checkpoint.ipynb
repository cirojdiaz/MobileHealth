{
 "cells": [
  {
   "cell_type": "markdown",
   "metadata": {
    "id": "UatJOi_di0wr"
   },
   "source": [
    "# FFT Base Model\n",
    "Purpose:\n",
    "- deriving a sinusoidal curve from the HR data, and extrapolating the trend to predict the testing set\n",
    "\n",
    "Notes:\n",
    "- no downsampling is applied\n",
    "- uses fast fourier transform from the scipy library"
   ]
  },
  {
   "cell_type": "markdown",
   "metadata": {
    "id": "AK6el2xZiy_M"
   },
   "source": [
    "# Imports"
   ]
  },
  {
   "cell_type": "code",
   "execution_count": null,
   "metadata": {
    "id": "GJHS3zgHazK4"
   },
   "outputs": [],
   "source": [
    "# import libraries\n",
    "import matplotlib.pyplot as plt\n",
    "import math\n",
    "from mpl_toolkits import mplot3d\n",
    "import numpy as np\n",
    "import os\n",
    "import pandas as pd\n",
    "import sklearn\n",
    "from sklearn.model_selection import train_test_split\n",
    "import tensorflow as tf\n",
    "\n",
    "from sklearn.preprocessing import normalize\n",
    "from scipy.fft import fft, fftfreq, ifft\n",
    "from scipy.fft import rfft, rfftfreq\n",
    "from scipy.fft import irfft "
   ]
  },
  {
   "cell_type": "markdown",
   "metadata": {
    "id": "8Oefwov_OmtC"
   },
   "source": [
    "# Loading/Preprocessing"
   ]
  },
  {
   "cell_type": "code",
   "execution_count": null,
   "metadata": {
    "colab": {
     "base_uri": "https://localhost:8080/"
    },
    "executionInfo": {
     "elapsed": 30318,
     "status": "ok",
     "timestamp": 1670530360342,
     "user": {
      "displayName": "Joanne Jo",
      "userId": "01049188753505025865"
     },
     "user_tz": 300
    },
    "id": "uQSIquGIT4Cu",
    "outputId": "8d8d221a-f13c-4453-bb2d-2c67751753fa"
   },
   "outputs": [
    {
     "name": "stdout",
     "output_type": "stream",
     "text": [
      "Mounted at /content/drive\n"
     ]
    }
   ],
   "source": [
    "#Importing the data using an environment variable\n",
    "\n",
    "csv_folder_path = os.environ.get(\"CSV_Folder_Path\")\n",
    "file_path = os.path.join(csv_folder_path, \"uq_vsd_case04_alldata.csv\")\n"
   ]
  },
  {
   "cell_type": "code",
   "execution_count": null,
   "metadata": {
    "colab": {
     "base_uri": "https://localhost:8080/"
    },
    "executionInfo": {
     "elapsed": 4376,
     "status": "ok",
     "timestamp": 1670530367347,
     "user": {
      "displayName": "Joanne Jo",
      "userId": "01049188753505025865"
     },
     "user_tz": 300
    },
    "id": "DQY_XlDrQGbW",
    "outputId": "9511db8f-2b2c-430a-8a1c-11289badbab7"
   },
   "outputs": [
    {
     "name": "stderr",
     "output_type": "stream",
     "text": [
      "/usr/local/lib/python3.8/dist-packages/IPython/core/interactiveshell.py:3326: FutureWarning: The error_bad_lines argument has been deprecated and will be removed in a future version.\n",
      "\n",
      "\n",
      "  exec(code_obj, self.user_global_ns, self.user_ns)\n"
     ]
    },
    {
     "name": "stdout",
     "output_type": "stream",
     "text": [
      "         HR  SpO2  NBP (Mean)    ECG\n",
      "6758  112.0  97.0        93.0 -0.005\n",
      "6759  112.0  97.0        93.0  0.040\n",
      "6760  112.0  97.0        93.0  0.080\n",
      "6761  112.0  97.0        93.0  0.115\n",
      "6762  112.0  97.0        93.0  0.140\n",
      "6763  112.0  97.0        93.0  0.140\n",
      "6764  112.0  97.0        93.0  0.115\n",
      "6765  112.0  97.0        93.0  0.055\n",
      "6766  112.0  97.0        93.0  0.000\n",
      "6767  112.0  97.0        93.0 -0.035\n",
      "           HR   SpO2  NBP (Mean)    ECG\n",
      "837315  131.0  100.0        98.0 -0.005\n",
      "837316  131.0  100.0        98.0 -0.005\n",
      "837317  131.0  100.0        98.0 -0.005\n",
      "837318  131.0  100.0        98.0 -0.005\n",
      "837319  131.0  100.0        98.0 -0.005\n",
      "837320  131.0  100.0        98.0 -0.005\n",
      "837321  131.0  100.0        98.0 -0.005\n",
      "837322  131.0  100.0        98.0 -0.005\n",
      "837323  131.0  100.0        98.0 -0.005\n",
      "837324  131.0  100.0        98.0 -0.005\n",
      "(785853, 4)\n"
     ]
    }
   ],
   "source": [
    "# Filtering the data\n",
    "df = pd.read_csv(file_path, index_col=False, error_bad_lines=False, usecols=['Time', 'HR', 'SpO2', 'NBP (Mean)', 'ECG'])\n",
    "\n",
    "df = df.dropna() #drop rows with NaN\n",
    "\n",
    "case4_filteredData = df.loc[(~df['HR'].isnull()) & (~df['SpO2'].isnull()) & (~df['NBP (Mean)'].isnull()) & (~df['ECG'].isnull())]\n",
    "case4_filteredData.drop('Time', axis=1, inplace=True)\n",
    "print(case4_filteredData.head(10))\n",
    "print(case4_filteredData.tail(10))\n",
    "print(case4_filteredData.shape)"
   ]
  },
  {
   "cell_type": "code",
   "execution_count": null,
   "metadata": {
    "colab": {
     "base_uri": "https://localhost:8080/"
    },
    "executionInfo": {
     "elapsed": 1138,
     "status": "ok",
     "timestamp": 1670530368433,
     "user": {
      "displayName": "Joanne Jo",
      "userId": "01049188753505025865"
     },
     "user_tz": 300
    },
    "id": "GPIHnjvtewhv",
    "outputId": "0a052e05-d77f-4555-9a97-a71eee80512c"
   },
   "outputs": [
    {
     "data": {
      "image/png": "[encoded data removed]",
      "text/plain": [
       "<Figure size 432x288 with 4 Axes>"
      ]
     },
     "metadata": {
      "needs_background": "light"
     },
     "output_type": "display_data"
    }
   ],
   "source": [
    "# plot data\n",
    "dataset = case4_filteredData # use if google drive\n",
    "values = dataset.values\n",
    "\n",
    "# specify columns to plot\n",
    "groups = [0,1,2,3]\n",
    "i =1\n",
    "for g in groups:\n",
    "  plt.subplot(len(groups), 1, i)\n",
    "  plt.plot(values[:, g])\n",
    "  plt.title(dataset.columns[g], y=0.5, loc='right')\n",
    "  i += 1\n",
    "# plt.show()"
   ]
  },
  {
   "cell_type": "markdown",
   "metadata": {
    "id": "-QGiFljobX7S"
   },
   "source": [
    "# FFT Forecasting"
   ]
  },
  {
   "cell_type": "code",
   "execution_count": null,
   "metadata": {
    "id": "FIEAK850jGyk"
   },
   "outputs": [],
   "source": [
    "# Prepping the data\n",
    "raw_var_data = case4_filteredData['HR'] # replace column name with variable you want\n",
    "\n",
    "# Defining train, test, and axis arrays\n",
    "ytrain_set = np.array(raw_var_data[0:int(len(raw_var_data)*0.8)])\n",
    "xtrain_set = np.linspace(1, len(ytrain_set), len(ytrain_set))\n",
    "ytest_set = np.array(raw_var_data[int(len(raw_var_data)*0.8):])\n",
    "xtest_set = np.linspace(len(ytrain_set)+1, len(ytrain_set) + len(ytest_set), len(ytest_set))"
   ]
  },
  {
   "cell_type": "code",
   "execution_count": null,
   "metadata": {
    "id": "-6vCB2Azjc4U"
   },
   "outputs": [],
   "source": [
    "# Applying fft\n",
    "fft_sig = fft(ytrain_set)\n",
    "\n",
    "# Filtering the fft signal\n",
    "fft_sig[2:] = 0\n",
    "\n",
    "# Applying inverse fft\n",
    "inversed_sig = np.real(ifft(fft_sig))"
   ]
  },
  {
   "cell_type": "code",
   "execution_count": null,
   "metadata": {
    "id": "03CtV4ZmkIJ4"
   },
   "outputs": [],
   "source": [
    "# Making \"predictions\" - extrapolating to test values\n",
    "K = [0,1]\n",
    "pred = np.zeros(len(xtest_set))\n",
    "L = len(xtrain_set)\n",
    "for n in xtest_set:\n",
    "    n = int(n)\n",
    "    for k in xtrain_set[K]:\n",
    "        k = int(k)\n",
    "        a = np.real(fft_sig[k-1])\n",
    "        b = -np.imag(fft_sig[k-1])\n",
    "        omk = 2 * np.pi * (k-1)/L\n",
    "        pred[n-L-1] += a * np.cos(omk * (n - 1)) + b * np.sin(omk * (n - 1))\n",
    "\n",
    "    pred[n-L-1] = pred[n-L-1] / L"
   ]
  },
  {
   "cell_type": "code",
   "execution_count": null,
   "metadata": {
    "colab": {
     "base_uri": "https://localhost:8080/",
     "height": 281
    },
    "executionInfo": {
     "elapsed": 2849,
     "status": "ok",
     "timestamp": 1670530374438,
     "user": {
      "displayName": "Joanne Jo",
      "userId": "01049188753505025865"
     },
     "user_tz": 300
    },
    "id": "3zfFP0kekQ27",
    "outputId": "5b1c874a-f203-49d1-b663-09264d522495"
   },
   "outputs": [
    {
     "data": {
      "image/png": "[encoded data removed]",
      "text/plain": [
       "<Figure size 432x288 with 1 Axes>"
      ]
     },
     "metadata": {
      "needs_background": "light"
     },
     "output_type": "display_data"
    }
   ],
   "source": [
    "# Plotting\n",
    "\n",
    "# Plotting extrapolation\n",
    "plt.plot(xtrain_set, ytrain_set, 'b', label=\"Actual Train\")\n",
    "plt.plot(xtest_set, ytest_set, 'r', label=\"Actual Test\")\n",
    "plt.plot(xtrain_set, inversed_sig, 'orange', label=\"Predicted Train\")\n",
    "plt.plot(xtest_set, pred, 'green', label=\"Predicted Test\")\n",
    "plt.title(\"FFT Base Model - Heart Rate (HR)\")\n",
    "plt.legend()\n",
    "plt.show()"
   ]
  },
  {
   "cell_type": "code",
   "execution_count": null,
   "metadata": {
    "colab": {
     "base_uri": "https://localhost:8080/"
    },
    "executionInfo": {
     "elapsed": 36,
     "status": "ok",
     "timestamp": 1670530374442,
     "user": {
      "displayName": "Joanne Jo",
      "userId": "01049188753505025865"
     },
     "user_tz": 300
    },
    "id": "74qJ_Pjh-GG-",
    "outputId": "7fb71954-b3d4-43de-fdad-57bbf8a37a37"
   },
   "outputs": [
    {
     "name": "stdout",
     "output_type": "stream",
     "text": [
      "[1.00000e+00 2.00000e+00 3.00000e+00 ... 6.28680e+05 6.28681e+05\n",
      " 6.28682e+05]\n",
      "(628682,)\n",
      "[     0      1      2 ... 785850 785851 785852]\n",
      "(785853,)\n"
     ]
    }
   ],
   "source": [
    "print(xtrain_set)\n",
    "print(xtrain_set.shape)\n",
    "othertest = np.arange(0, len(raw_var_data))\n",
    "print(othertest)\n",
    "print(othertest.shape)"
   ]
  },
  {
   "cell_type": "markdown",
   "metadata": {
    "id": "xrYx0HgakZxg"
   },
   "source": [
    "# Extra Code\n",
    "Commented out but might be useful in the future"
   ]
  },
  {
   "cell_type": "code",
   "execution_count": null,
   "metadata": {
    "id": "epuFNgRPbdYX"
   },
   "outputs": [],
   "source": [
    "# # Preprocessing/prepping data\n",
    "\n",
    "# # get column for HR\n",
    "# hr_filtered_data = case4_filteredData['HR'] # filtered data - HR\n",
    "# hr_unfiltered_data = old_data['HR']\n",
    "# # hr_unfiltered_data = hr_unfiltered_data[0:int(len(hr_unfiltered_data)*0.8)] # you don't want it to see the testing set\n",
    "\n",
    "# sampling_rate = 100\n",
    "# N = len(hr_unfiltered_data) # number of samples\n",
    "\n",
    "# # using unfiltered data until you figure out sampling rate\n",
    "# y = np.array(hr_unfiltered_data)\n",
    "# x = np.arange(0, len(hr_unfiltered_data))\n",
    "\n",
    "# # normalize data\n",
    "# normalized_y = normalize(y[:,np.newaxis], axis=0).ravel()\n",
    "\n",
    "# # REGULAR FFT\n",
    "# # apply fft\n",
    "# yf = fft(normalized_y)\n",
    "# xf = fftfreq(N, 1/sampling_rate)\n",
    "# yf[3:] = 0\n",
    "# inversed_data_fft = ifft(yf)\n",
    "# print(\"With FFT:\")\n",
    "# print(f\"normalized: {normalized_y.shape}\")\n",
    "# print(f\"fft: {yf.shape}\")\n",
    "# print(f\"after filter: {yf.shape}\")\n",
    "# print(f\"inversed: {inversed_data_fft.shape}\\n\")\n",
    "\n",
    "# # RFFT\n",
    "# # apply rfft\n",
    "# rffty = rfft(normalized_y)\n",
    "# rfftx = rfftfreq(N, 1 / sampling_rate)\n",
    "# rffty[3:] = 0\n",
    "# inversed_data_rfft = irfft(rffty)\n",
    "# print(\"With RFFT\")\n",
    "# print(f\"normalized: {normalized_y.shape}\")\n",
    "# print(f\"fft: {rffty.shape}\")\n",
    "# print(f\"after filter: {rffty.shape}\")\n",
    "# print(f\"inversed: {inversed_data_rfft.shape}\")\n",
    "\n",
    "# # plotting\n",
    "# plt.plot(normalized_y, label=\"Original\", c=\"pink\")\n",
    "# plt.plot(inversed_data_fft, label=\"FFT\", c=\"r\")\n",
    "# plt.plot(inversed_data_rfft, label=\"RFFT\", c=\"m\")\n",
    "# plt.title(\"HR data\")\n",
    "# plt.legend()\n",
    "# plt.show()"
   ]
  },
  {
   "cell_type": "code",
   "execution_count": null,
   "metadata": {
    "id": "UDLas8SqaIQ7"
   },
   "outputs": [],
   "source": [
    "# # integration with ciro's prediction code\n",
    "# # separating train and test sets\n",
    "# ytrain_set = np.array(hr_unfiltered_data[0:int(len(hr_unfiltered_data)*0.8)])\n",
    "# xtrain_set = np.linspace(1, len(ytrain_set), len(ytrain_set))\n",
    "# ytest_set = np.array(hr_unfiltered_data[int(len(hr_unfiltered_data)*0.8):])\n",
    "# xtest_set = np.linspace(len(ytrain_set)+1, len(ytrain_set) + len(ytest_set), len(ytest_set))\n",
    "\n",
    "# # apply fft\n",
    "# new_fft_sig = fft(ytrain_set)\n",
    "\n",
    "# # filtering\n",
    "# new_fft_sig[2:] = 0\n",
    "\n",
    "# # getting back filtered sequence\n",
    "# filtered_sig = np.real(ifft(new_fft_sig))\n",
    "\n",
    "# # extrapolating to test values\n",
    "# K = [0,1]\n",
    "# pred = np.zeros(len(xtest_set))\n",
    "# L = len(xtrain_set)\n",
    "# for n in xtest_set:\n",
    "#     n = int(n)\n",
    "#     for k in xtrain_set[K]:\n",
    "#         k = int(k)\n",
    "#         a = np.real(new_fft_sig[k-1])\n",
    "#         b = -np.imag(new_fft_sig[k-1])\n",
    "#         omk = 2 * np.pi * (k-1)/L\n",
    "#         pred[n-L-1] += a * np.cos(omk * (n - 1)) + b * np.sin(omk * (n - 1))\n",
    "\n",
    "#     pred[n-L-1] = pred[n-L-1] / L\n",
    "\n",
    "# # plotting\n",
    "# plt.plot(xtrain_set, ytrain_set, 'b', label=\"Actual Train\")\n",
    "# plt.plot(xtest_set, ytest_set, 'r', label=\"Actual Test\")\n",
    "# plt.plot(xtrain_set, filtered_sig, 'orange', label=\"Predicted Train\")\n",
    "# plt.plot(xtest_set, pred, 'green', label=\"Predicted Test\")\n",
    "# plt.title(\"FFT Base Model - Heart Rate (HR)\")\n",
    "# plt.legend()\n",
    "# plt.show()"
   ]
  },
  {
   "cell_type": "code",
   "execution_count": null,
   "metadata": {
    "id": "WV72D4H7S82c"
   },
   "outputs": [],
   "source": [
    "# # CLEANING THE SIGNAL\n",
    "\n",
    "# # 1. getting the difference\n",
    "# original_signal = normalized_y\n",
    "# modified_signal = np.copy(original_signal)\n",
    "# for j in range(5):\n",
    "#   difference_signal = np.subtract(modified_signal, inversed_data_fft)\n",
    "#   # sec_diff_sig = abs(np.subtract(modified_signal, difference_signal))\n",
    "\n",
    "#   # removing noise from diff signal\n",
    "#   max_val = max(difference_signal)\n",
    "#   min_val = min(difference_signal)\n",
    "#   half_val = (max_val - min_val)*0.9\n",
    "\n",
    "#   for i in range(0, len(difference_signal)):\n",
    "#     if difference_signal[i] > half_val:\n",
    "#       modified_signal[i] = inversed_data_fft[i]\n",
    "  \n",
    "#   og_yf = fft(modified_signal)\n",
    "#   og_xf = fftfreq(N, 1/sampling_rate)\n",
    "#   og_yf[2:] = 0\n",
    "#   inversed_data_fft = ifft(og_yf)\n",
    "  \n",
    "#   plt.plot(inversed_data_fft, label=\"FFT\", c=\"r\")\n",
    "\n",
    "\n",
    "#   # plotting\n",
    "#   plt.plot(original_signal, label=\"Original\", c=\"blue\")\n",
    "#   plt.plot(modified_signal, label=\"Modified\", c=\"pink\")\n",
    "#   plt.plot(difference_signal, label=\"Difference\", c=\"m\")\n",
    "#   # plt.plot(sec_diff_sig, label=\"2nd Difference\", linestyle=\"dotted\", c=\"black\")\n",
    "#   plt.title(\"HR data\")\n",
    "#   plt.legend()\n",
    "#   plt.show()"
   ]
  }
 ],
 "metadata": {
  "colab": {
   "authorship_tag": "ABX9TyMJRkrPvFE4kRHOVbXBRmRu",
   "collapsed_sections": [
    "AK6el2xZiy_M",
    "8Oefwov_OmtC",
    "xrYx0HgakZxg"
   ],
   "provenance": [
    {
     "file_id": "1NX0nlTJMrXNZYjv6tmYuJfr7raOgQJY4",
     "timestamp": 1671567916102
    },
    {
     "file_id": "11oD1ANfPKFVHA82aEPRfSuVycx5p_DXl",
     "timestamp": 1669758529147
    },
    {
     "file_id": "1tMZTQqKPUtp6dcaU-lGqqhSK__dWbf8C",
     "timestamp": 1669738770215
    }
   ]
  },
  "kernelspec": {
   "display_name": "Python 3 (ipykernel)",
   "language": "python",
   "name": "python3"
  },
  "language_info": {
   "codemirror_mode": {
    "name": "ipython",
    "version": 3
   },
   "file_extension": ".py",
   "mimetype": "text/x-python",
   "name": "python",
   "nbconvert_exporter": "python",
   "pygments_lexer": "ipython3",
   "version": "3.9.13"
  }
 },
 "nbformat": 4,
 "nbformat_minor": 1
}
