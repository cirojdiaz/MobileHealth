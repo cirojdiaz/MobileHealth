{
 "cells": [
  {
   "cell_type": "markdown",
   "metadata": {
    "id": "wX7T2YaFsUFg"
   },
   "source": [
    "# 4 Variable Many to Many MLP Model (Incomplete)\n",
    "\n",
    "This is the latest draft MLP model for the Fall 2022 Term\n",
    "\n",
    "Purpose:\n",
    "- This model uses Multilayer Perceptron (MLP) to predict future heart rate (HR), oxygen saturation (SpO2), electrocardiogram (ECG) and normal blood pressure (NBP) values based on the previous values for each corresponding variable. \n",
    "\n",
    "Notes:\n",
    "- As this model is incomplete, many of these steps are still in progress. The goal is to have functioning many-to-many predictions using MLP.\n"
   ]
  },
  {
   "cell_type": "markdown",
   "metadata": {
    "id": "yHhZUeT2uMEu"
   },
   "source": [
    "#Libraries"
   ]
  },
  {
   "cell_type": "code",
   "execution_count": null,
   "metadata": {
    "colab": {
     "base_uri": "https://localhost:8080/",
     "height": 34
    },
    "executionInfo": {
     "elapsed": 160,
     "status": "ok",
     "timestamp": 1671647775526,
     "user": {
      "displayName": "Taaibah",
      "userId": "14138282629540173661"
     },
     "user_tz": 480
    },
    "id": "QvtnGIdEtXwl",
    "outputId": "f002c122-3141-49da-ae3d-7f978e51bf16"
   },
   "outputs": [
    {
     "data": {
      "application/vnd.google.colaboratory.intrinsic+json": {
       "type": "string"
      },
      "text/plain": [
       "'2.9.2'"
      ]
     },
     "execution_count": 20,
     "metadata": {},
     "output_type": "execute_result"
    }
   ],
   "source": [
    "# import libraries\n",
    "import matplotlib.pyplot as plt\n",
    "import math\n",
    "from mpl_toolkits import mplot3d\n",
    "import numpy as np\n",
    "import os\n",
    "import pandas as pd\n",
    "import seaborn as sns\n",
    "import sklearn\n",
    "from sklearn.model_selection import train_test_split\n",
    "import tensorflow as tf\n",
    "import time\n",
    "\n",
    "tf.__version__"
   ]
  },
  {
   "cell_type": "markdown",
   "metadata": {
    "id": "LzfdRueDuRxh"
   },
   "source": [
    "# Preprocessing"
   ]
  },
  {
   "cell_type": "code",
   "execution_count": null,
   "metadata": {
    "id": "hJX1eZOaVlr3"
   },
   "outputs": [],
   "source": [
    "#Importing the data using an environment variable\n",
    "\n",
    "csv_folder_path = os.environ.get(\"CSV_Folder_Path\")\n",
    "file_path = os.path.join(csv_folder_path, \"uq_vsd_case04_alldata.csv\")\n"
   ]
  },
  {
   "cell_type": "code",
   "execution_count": null,
   "metadata": {
    "colab": {
     "base_uri": "https://localhost:8080/"
    },
    "executionInfo": {
     "elapsed": 2949,
     "status": "ok",
     "timestamp": 1671647916986,
     "user": {
      "displayName": "Taaibah",
      "userId": "14138282629540173661"
     },
     "user_tz": 480
    },
    "id": "5jps5STvJ43d",
    "outputId": "8ae82ac1-9d06-4f38-90f3-67e29bf7191d"
   },
   "outputs": [
    {
     "name": "stderr",
     "output_type": "stream",
     "text": [
      "/usr/local/lib/python3.8/dist-packages/IPython/core/interactiveshell.py:3326: FutureWarning: The error_bad_lines argument has been deprecated and will be removed in a future version.\n",
      "\n",
      "\n",
      "  exec(code_obj, self.user_global_ns, self.user_ns)\n"
     ]
    },
    {
     "name": "stdout",
     "output_type": "stream",
     "text": [
      "         HR  SpO2  NBP (Mean)    ECG\n",
      "6758  112.0  97.0        93.0 -0.005\n",
      "6759  112.0  97.0        93.0  0.040\n",
      "6760  112.0  97.0        93.0  0.080\n",
      "6761  112.0  97.0        93.0  0.115\n",
      "6762  112.0  97.0        93.0  0.140\n",
      "6763  112.0  97.0        93.0  0.140\n",
      "6764  112.0  97.0        93.0  0.115\n",
      "6765  112.0  97.0        93.0  0.055\n",
      "6766  112.0  97.0        93.0  0.000\n",
      "6767  112.0  97.0        93.0 -0.035\n",
      "           HR   SpO2  NBP (Mean)    ECG\n",
      "837315  131.0  100.0        98.0 -0.005\n",
      "837316  131.0  100.0        98.0 -0.005\n",
      "837317  131.0  100.0        98.0 -0.005\n",
      "837318  131.0  100.0        98.0 -0.005\n",
      "837319  131.0  100.0        98.0 -0.005\n",
      "837320  131.0  100.0        98.0 -0.005\n",
      "837321  131.0  100.0        98.0 -0.005\n",
      "837322  131.0  100.0        98.0 -0.005\n",
      "837323  131.0  100.0        98.0 -0.005\n",
      "837324  131.0  100.0        98.0 -0.005\n",
      "(785853, 4)\n"
     ]
    }
   ],
   "source": [
    "# Loading + filtering data \n",
    "df = pd.read_csv(file_path, index_col=False, error_bad_lines=False, usecols=[ 'Time','HR', 'SpO2', 'NBP (Mean)', 'ECG']) # issue with getting time column as index column?\n",
    "\n",
    "df = df.dropna() \n",
    "\n",
    "case4_filteredData = df.loc[(~df['HR'].isnull()) & (~df['SpO2'].isnull()) & (~df['NBP (Mean)'].isnull()) & (~df['ECG'].isnull())]\n",
    "case4_filteredData.drop('Time', axis=1, inplace=True)\n",
    "print(case4_filteredData.head(10))\n",
    "print(case4_filteredData.tail(10))\n",
    "print(case4_filteredData.shape)"
   ]
  },
  {
   "cell_type": "code",
   "execution_count": null,
   "metadata": {
    "colab": {
     "base_uri": "https://localhost:8080/",
     "height": 263
    },
    "executionInfo": {
     "elapsed": 1041,
     "status": "ok",
     "timestamp": 1671647923141,
     "user": {
      "displayName": "Taaibah",
      "userId": "14138282629540173661"
     },
     "user_tz": 480
    },
    "id": "GPIHnjvtewhv",
    "outputId": "6045263d-55f8-4698-b25e-8c4df2093b41"
   },
   "outputs": [
    {
     "data": {
      "image/png": "[encoded data removed]",
      "text/plain": [
       "<Figure size 432x288 with 4 Axes>"
      ]
     },
     "metadata": {
      "needs_background": "light"
     },
     "output_type": "display_data"
    }
   ],
   "source": [
    "# plot data\n",
    "dataset = case4_filteredData\n",
    "values = dataset.values\n",
    "\n",
    "# specify columns to plot\n",
    "groups = [0,1,2,3]\n",
    "i =1\n",
    "for g in groups:\n",
    "  plt.subplot(len(groups), 1, i)\n",
    "  plt.plot(values[:, g])\n",
    "  plt.title(dataset.columns[g], y=0.5, loc='right')\n",
    "  i += 1\n",
    "plt.show()"
   ]
  },
  {
   "cell_type": "code",
   "execution_count": null,
   "metadata": {
    "id": "79RiXJ0YJPV_"
   },
   "outputs": [],
   "source": [
    "# function to downsample data - manually resample\n",
    "def downsample_data(window):\n",
    "  df_temp = pd.DataFrame(columns=['HR', 'SpO2', 'NBP (Mean)', 'ECG'])\n",
    "  HR_sum = 0\n",
    "  SPO_sum = 0\n",
    "  NBP_sum = 0\n",
    "  ECG_sum = 0\n",
    "  for i in range(1, len(values) - 1):\n",
    "    HR_sum += values[i, 0]\n",
    "    SPO_sum += values[i, 1]\n",
    "    NBP_sum += values[i, 2]\n",
    "    ECG_sum += values[i, 3]\n",
    "    if (i + 1) % window == 0:\n",
    "      HR_sum = HR_sum/window\n",
    "      SPO_sum = SPO_sum/window\n",
    "      NBP_sum = NBP_sum/window\n",
    "      ECG_sum = ECG_sum/window\n",
    "      row = {'HR':HR_sum, 'SpO2':SPO_sum, 'NBP (Mean)':NBP_sum, 'ECG':ECG_sum}\n",
    "      df_temp = df_temp.append(row, ignore_index = True)\n",
    "      HR_sum = 0\n",
    "      SPO_sum = 0\n",
    "      NBP_sum = 0\n",
    "      ECG_sum = 0\n",
    "  return df_temp\n"
   ]
  },
  {
   "cell_type": "code",
   "execution_count": null,
   "metadata": {
    "colab": {
     "base_uri": "https://localhost:8080/"
    },
    "executionInfo": {
     "elapsed": 86396,
     "status": "ok",
     "timestamp": 1671648024328,
     "user": {
      "displayName": "Taaibah",
      "userId": "14138282629540173661"
     },
     "user_tz": 480
    },
    "id": "XoCzW31f9Tuw",
    "outputId": "4e25fa6b-4c8b-424f-8db0-4a66c704c382"
   },
   "outputs": [
    {
     "name": "stdout",
     "output_type": "stream",
     "text": [
      "Size of old data:\n",
      "(785853, 4)\n",
      "Size of new data:\n",
      "(52390, 4)\n"
     ]
    }
   ],
   "source": [
    "old_data = case4_filteredData\n",
    "print('Size of old data:')\n",
    "print(old_data.shape)\n",
    "\n",
    "case4_filteredData = downsample_data(15)\n",
    "print('Size of new data:')\n",
    "print(case4_filteredData.shape)"
   ]
  },
  {
   "cell_type": "code",
   "execution_count": null,
   "metadata": {
    "colab": {
     "base_uri": "https://localhost:8080/",
     "height": 263
    },
    "executionInfo": {
     "elapsed": 2180,
     "status": "ok",
     "timestamp": 1671648059992,
     "user": {
      "displayName": "Taaibah",
      "userId": "14138282629540173661"
     },
     "user_tz": 480
    },
    "id": "YZQkou8mnHjE",
    "outputId": "f180efa1-7aaf-4012-f345-0d9899441e7f"
   },
   "outputs": [
    {
     "data": {
      "image/png": "[encoded data removed]",
      "text/plain": [
       "<Figure size 432x288 with 4 Axes>"
      ]
     },
     "metadata": {
      "needs_background": "light"
     },
     "output_type": "display_data"
    }
   ],
   "source": [
    "# plot filtered data\n",
    "dataset = case4_filteredData\n",
    "values = dataset.values\n",
    "\n",
    "# specify columns to plot\n",
    "groups = [0,1,2,3]\n",
    "i =1\n",
    "for g in groups:\n",
    "  plt.subplot(len(groups), 1, i)\n",
    "  plt.plot(values[:, g])\n",
    "  plt.title(dataset.columns[g], y=0.5, loc='right')\n",
    "  i += 1\n",
    "plt.show()"
   ]
  },
  {
   "cell_type": "markdown",
   "metadata": {
    "id": "2yc13ah975Y_"
   },
   "source": [
    "# Functions\n"
   ]
  },
  {
   "cell_type": "code",
   "execution_count": null,
   "metadata": {
    "colab": {
     "base_uri": "https://localhost:8080/"
    },
    "executionInfo": {
     "elapsed": 239,
     "status": "ok",
     "timestamp": 1671663562215,
     "user": {
      "displayName": "Taaibah",
      "userId": "14138282629540173661"
     },
     "user_tz": 480
    },
    "id": "3B_gv4Q6G_-P",
    "outputId": "5d748015-64f3-4f32-b1cd-22f1f165bbaa"
   },
   "outputs": [
    {
     "name": "stderr",
     "output_type": "stream",
     "text": [
      "<>:275: SyntaxWarning: \"is not\" with a literal. Did you mean \"!=\"?\n",
      "<>:275: SyntaxWarning: \"is not\" with a literal. Did you mean \"!=\"?\n",
      "<ipython-input-37-391052e22887>:275: SyntaxWarning: \"is not\" with a literal. Did you mean \"!=\"?\n",
      "  if (len(numOfUnits) is not numOfLayers) and (len(numOfUnits) is not 1):\n"
     ]
    }
   ],
   "source": [
    "# Function for splitting data into training and test set non-randomly\n",
    "\"\"\"\n",
    "This functions splits the data into training and test sets.\n",
    "\n",
    "@param data_df : a Pandas Dataframe that contains the data to be split into training and test sets\n",
    "@param train_size : a double/float that is within the range of 0 and 1 and represents the fraction of the data to be used for the training set\n",
    "\n",
    "@returns two Numpy arrays that represent the training and test sets, respectively\n",
    "\"\"\"\n",
    "def split_data_train_test(data_df, train_size):\n",
    "  train_df, test_df = data_df[0:round(train_size * len(data_df)), :], data_df[round(train_size * len(data_df)):len(data_df), :]\n",
    "\n",
    "  return train_df, test_df\n",
    "\n",
    "# Function for scaling the data\n",
    "\"\"\"\n",
    "This function takes in the data to be scaled and uses Min-Max Scaling.\n",
    "\n",
    "@param data : a Numpy array that represents the inputted data to be scaled\n",
    "\n",
    "@returns the scaled data as a Numpy array, the MinMax scaler object, the scaling factor used, and the minimum value of the original inputted data\n",
    "\"\"\"\n",
    "def minMaxScaling(data):\n",
    "  scaler = sklearn.preprocessing.MinMaxScaler(feature_range=(0.1, 1))\n",
    "  scaler.fit(data)\n",
    "\n",
    "  scaleFactor = scaler.scale_\n",
    "  data_min = scaler.data_min_\n",
    "  data_max = scaler.data_max_\n",
    "  data = scaler.transform(data)\n",
    "\n",
    "  return data, scaler, scaleFactor, data_min, data_max\n",
    "\n",
    "\"\"\"\n",
    "This function plots the inputted data in a 2D scatterplot.\n",
    "\n",
    "@param xvals : a 1D Numpy array that contains the data to be plotted on the x-axis\n",
    "@param data : a 1D Numpy array that contains the data to be plotted on the y-axis\n",
    "@param xVariable : a string that represents the label of the data to be plotted for x-axis\n",
    "@param yVariable : a string that represents the label of the data to be plotted for y-axis\n",
    "\"\"\"\n",
    "def plot_data(xvals, data, xVariable, yVariable):\n",
    "  plt.figure(figsize=(10, 5))\n",
    "  plt.scatter(xvals, data)\n",
    "  plt.title(\"Plot of Data for \" + yVariable + \", \" + xVariable)\n",
    "  plt.ylabel(yVariable)\n",
    "  plt.xlabel(xVariable)\n",
    "  plt.show()\n",
    "\n",
    "# loss function\n",
    "\"\"\"\n",
    "This function plots a loss function based on the output of the model fitting.\n",
    "\n",
    "@param loss_vals : a Tensorflow History object from model fitting, which is used to get the training and validation loss values\n",
    "@param startRange : an integer that is >= 0, is within the indices of loss_vals, and represents the start indices of the loss values to plot\n",
    "@param endRange : an integer that is <= len(loss_vals) - 1, is larger than startRange, and represents the end indices of the loss values to plot\n",
    "\"\"\"\n",
    "def plot_loss(loss_vals, startRange, endRange):\n",
    "  plt.figure(figsize=(12, 8))\n",
    "  plt.plot(loss_vals.history['loss'][startRange:endRange], label=\"Training Loss\") \n",
    "  plt.plot(loss_vals.history['val_loss'][startRange:endRange], label=\"Validation Loss\") \n",
    "  plt.xlabel(\"Epoch\")\n",
    "  plt.ylabel(\"Error\")\n",
    "  plt.title(\"Learning Curve\")\n",
    "  plt.legend()\n",
    "\n",
    "# plot actual + predicted data 2D\n",
    "\"\"\"\n",
    "This function plots the inputted actual and predicted data in a 2D scatterplot.\n",
    "\n",
    "@param xvals : a 1D Numpy array that contains the data to be plotted on the x-axis\n",
    "@param actual_data : a 1D Numpy array that contains the actual data to be plotted on the y-axis\n",
    "@param predicted_data : a 1D Numpy array that contains the predicted data to be plotted on the y-axis\n",
    "@param xName : a string that represents the x-values and label for the x-axis\n",
    "@param yName : a string that represents the y-values and label for the y-axis\n",
    "\"\"\"\n",
    "def plot_model_data(xvals, actual_data, predicted_data, xName, yName):\n",
    "  plt.figure(figsize=(12, 8))\n",
    "  plt.scatter(xvals, actual_data, label=\"Actual Data\", color=\"r\")\n",
    "  plt.plot(xvals, predicted_data, label=\"Predicted Data\", color=\"black\")\n",
    "  plt.title(\"Plot of Model Data for \" + xName + \" Against \" + yName)\n",
    "  plt.xlabel(xName)\n",
    "  plt.ylabel(yName)\n",
    "  plt.legend()\n",
    "\n",
    "# plot actual + predicted data 3D\n",
    "\"\"\"\n",
    "This function plots the inputted actual and predicted data in a 3D scatterplot.\n",
    "\n",
    "@param x_val : a 1D Numpy array that contains the data to be plotted on the x-axis\n",
    "@param y_val : a 1D Numpy array that contains the data to be plotted on the y-axis\n",
    "@param actual_data : a 1D Numpy array that contains the actual data to be plotted on the z-axis\n",
    "@param predicted_data : a 1D Numpy array that contains the predicted data to be plotted on the z-axis\n",
    "@param xName : a string that represents the x-values and label for the x-axis\n",
    "@param yName : a string that represents the y-values and label for the y-axis\n",
    "@param zName : a string that represents the z-values and label for the z-axis\n",
    "\"\"\"\n",
    "def plot_model_data3D(x_val, y_val, actual_data, predicted_data, xName, yName, zName):\n",
    "  fig = plt.figure(figsize=(12, 8))\n",
    "\n",
    "  ax = plt.axes(projection='3d')\n",
    "  ax.scatter3D(x_val, y_val, actual_data, label='Actual Data', color=\"red\")\n",
    "  ax.plot3D(x_val, y_val, predicted_data, label='Predicted Data', color=\"black\")\n",
    "\n",
    "  ax.set_title(\"Plot of Model Data for \" + xName + \" And \" + yName + \" Against \" + zName, pad=20)\n",
    "  ax.set_xlabel(xName)\n",
    "  ax.set_ylabel(yName)\n",
    "  ax.set_zlabel(zName)\n",
    "  ax.legend()\n",
    "\n",
    "# RMSE\n",
    "\"\"\"\n",
    "This functions gets and prints the root mean squared error (RMSE) of the targets.\n",
    "\n",
    "@param test_targets : a Numpy array that represents the actual target values\n",
    "@param predicted_targets : a Numpy array that represents the predicted target values\n",
    "\n",
    "@returns the RMSE double/float value\n",
    "\n",
    "MANUAL RMSE \n",
    "\"\"\"\n",
    "def get_and_print_rmse_for_model(test_targets, predicted_targets):\n",
    "  mse = sklearn.metrics.mean_squared_error(y_true=test_targets, y_pred=predicted_targets)  \n",
    "  rmse = math.sqrt(mse)  \n",
    "  print(\"RMSE: \", rmse)  \n",
    "  \n",
    "  return rmse \n",
    "\"\"\"\n",
    "to calculate RMSE manually to add:\n",
    "\"\"\"\n",
    "\n",
    "#def calculate_rmse_manual(test_targets, predicted_targets):\n",
    "\n",
    "\"\"\"\n",
    "This functions gets and prints the coefficient of determination (R^2) of the targets.\n",
    "\n",
    "@param test_targets : a Numpy array that represents the actual target values\n",
    "@param predicted_targets : a Numpy array that represents the predicted target values\n",
    "\n",
    "@returns the R^2 double/float value\n",
    "\"\"\"\n",
    "\n",
    "def get_and_print_R2_for_model(test_targets, predicted_targets):\n",
    "    r2 = sklearn.metrics.r2_score(y_true=test_targets, y_pred=predicted_targets)\n",
    "    print(\"R2 (Sklearn): \" + str(r2))\n",
    "  \n",
    "    return r2\n",
    "\n",
    "\"\"\"\n",
    "This function uses the mean absolute percentage error (MAPE) to get a percentage error for a regression model. \n",
    "\n",
    "Note that if the output is a number above 1 or below 0, usually very big in magnitude, it is because \n",
    "some of the numbers in the test_targets are 0 or very close to 0, which gives a division by 0.\n",
    "\n",
    "@param test_targets : a Numpy array that represents the actual target values\n",
    "@param predicted_targets : a Numpy array that represents the predicted target values\n",
    "\n",
    "@returns the MAPE double/float value which represents the decimal form of the percentage, so generally between 0 and 1\n",
    "\"\"\"\n",
    "\n",
    "def get_and_print_mape_for_model(test_targets, predicted_targets):\n",
    "  mape = sklearn.metrics.mean_absolute_percentage_error(test_targets, predicted_targets)\n",
    "  print(\"MAPE: \" + str(mape))\n",
    "\n",
    "  return mape\n",
    "\n",
    "\"\"\"\n",
    "This function gets the mean absolute error (MAE) for a regression model. \n",
    "\n",
    "Note that if the output is a number below 0, usually very big in magnitude, it is because \n",
    "some of the numbers in the test_targets are 0 or very close to 0, which gives a division by 0.\n",
    "\n",
    "@param test_targets : a Numpy array that represents the actual target values\n",
    "@param predicted_targets : a Numpy array that represents the predicted target values\n",
    "\n",
    "@returns the MAPE double/float value, which should be greater than or equal to 0\n",
    "\"\"\"\n",
    "def get_and_print_mae_for_model(test_targets, predicted_targets):\n",
    "  mae = sklearn.metrics.mean_absolute_error(test_targets, predicted_targets)\n",
    "  print(\"MAE: \" + str(mae))\n",
    "\n",
    "  return mae\n",
    "\n",
    "\n",
    "# line plot \n",
    "\"\"\"\n",
    "This functions plots the actual and predicted values as a line plot.\n",
    "\n",
    "@param indices : the x-values of the plot as a 1-column Numpy array\n",
    "@param test_targets : a 1-column Numpy array that represents the actual target values\n",
    "@param predicted_targets : a 1-column Numpy array that represents the predicted target values\n",
    "\"\"\"\n",
    "def plot_actual_and_predictions_line(x_val, test_targets, predicted_targets):\n",
    "  # fig = plt.figure(figsize=(12, 8))\n",
    "  # fig2 = plt.figure(figsize=(12, 8))\n",
    "  \n",
    "  # HR\n",
    "  fig = plt.figure(figsize=(12, 8))\n",
    "  plt.plot(x_val, test_targets[:, 0], label=\"Actual HR\", c=\"b\", linestyle=\"dashed\")\n",
    "  plt.plot(x_val, predicted_targets[:, 0], label=\"Predicted HR\", c=\"lightblue\", linestyle=\"dashed\")\n",
    "  plt.ylabel(\"HR Values\")\n",
    "  plt.title(\"Plot of Actual and Predicted Values - HR\")\n",
    "  plt.legend()\n",
    "\n",
    "  # SPO2\n",
    "  fig2 = plt.figure(figsize=(12, 8))\n",
    "  plt.plot(x_val, test_targets[:, 1], label=\"Actual SPO2\", c=\"purple\")\n",
    "  plt.plot(x_val, predicted_targets[:, 1], label=\"Predicted SPO2\", c=\"lavender\")\n",
    "  plt.ylabel(\"SPO2 Values\")\n",
    "  plt.title(\"Plot of Actual and Predicted Values - SPO2\")\n",
    "  plt.legend()\n",
    "\n",
    "  # NBP\n",
    "  fig3 = plt.figure(figsize=(12, 8))\n",
    "  plt.plot(x_val, test_targets[:, 2], label=\"Actual NBP\", c=\"g\")\n",
    "  plt.plot(x_val, predicted_targets[:, 2], label=\"Predicted NBP\", c=\"lightgreen\")\n",
    "  plt.ylabel(\"NBP Values\")\n",
    "  plt.title(\"Plot of Actual and Predicted Values - NBP\")\n",
    "  plt.legend()\n",
    "\n",
    "  # ECG\n",
    "  fig4 = plt.figure(figsize=(12, 8))\n",
    "  plt.plot(x_val, test_targets[:, 3], label=\"Actual ECG\", c=\"r\")\n",
    "  plt.plot(x_val, predicted_targets[:, 3], label=\"Predicted ECG\", c=\"pink\")\n",
    "  plt.ylabel(\"ECG Values\")\n",
    "  plt.title(\"Plot of Actual and Predicted Values - ECG\")\n",
    "  plt.legend()\n",
    "\n",
    "  # plt.ylabel(\"Values\")\n",
    "  # plt.title(\"Plot of Actual and Predicted Values\")\n",
    "  # plt.legend()\n",
    "  plt.show()\n",
    "\n",
    "# scatter plot\n",
    "\"\"\"\n",
    "This functions plots the actual and predicted values as a scatter plot.\n",
    "\n",
    "@param indices : a 1-column Numpy array that represents x-values of the plot \n",
    "@param test_targets : a 1-column Numpy array that represents the actual target values\n",
    "@param predicted_targets : a 1-column Numpy array that represents the predicted target values\n",
    "\"\"\"\n",
    "def plot_actual_and_predictions_scatter(x_val, test_targets, predicted_targets):\n",
    "  fig = plt.figure(figsize=(12, 8))\n",
    "  plt.scatter(x_val, test_targets, label=\"Actual Values\", c=\"b\")\n",
    "  plt.scatter(x_val, predicted_targets, label=\"Predicted Values\", c=\"r\")\n",
    "\n",
    "  plt.ylabel(\"Value\")\n",
    "  plt.title(\"Plot of Actual and Predicted Values\")\n",
    "  plt.legend()\n",
    "\n",
    "\n",
    "# custom MLP neural network model\n",
    "\n",
    "\"\"\"\n",
    "This function makes a custom multilayer perceptron neural network model.\n",
    "\n",
    "@param train_features : a Numpy array that represents the training data features\n",
    "@param train_labels : a Numpy array that represents the training data targets\n",
    "@param numOfUnits : a list that contains the number of units for each layer, which could be customized by providing different integers in the desired order. \n",
    "                    The size of the list should either be equal to 1 or numOfLayers. If size = 1, then all layers will have that number of units in the list.\n",
    "                    (eg. [4, 8, 16] if numOfLayers = 3, or [4] for any value of numOfLayers)\n",
    "@param numOfLayers : an integer that represents the desired of layers to add to the model \n",
    "@param epochNum : the number of iterations/epochs for running the model\n",
    "@param learning_rate : a double/float that represents the learning rate of the model\n",
    "\n",
    "@returns the multilayer perceptron neural network TensorFlow model and the result from fitting the model\n",
    "\n",
    "\"\"\"\n",
    "def make_custom_MLP(train_features, train_labels, numOfUnits=[4], numOfLayers=3, batchNum=None, epochNum=100, learning_rate=0.01, min_delta=0.0007):\n",
    "  callback_valLoss = tf.keras.callbacks.EarlyStopping(monitor='val_loss', patience=1, min_delta=min_delta, mode='min', verbose=1)\n",
    "  callback_trainLoss = tf.keras.callbacks.EarlyStopping(monitor='loss', patience=1, min_delta=min_delta, mode='min', verbose=1)\n",
    "\n",
    "  limit = numOfLayers\n",
    "\n",
    "  if (len(numOfUnits) is not numOfLayers) and (len(numOfUnits) is not 1):\n",
    "    raise Exception(\"Invalid input for numOfUnits.\")\n",
    "  \n",
    "  for i in range(0, limit):\n",
    "    if len(numOfUnits) is numOfLayers:\n",
    "      numUnits = numOfUnits[i]\n",
    "    \n",
    "    else:\n",
    "      numUnits = numOfUnits[0]\n",
    "  \n",
    "  mlp_model = tf.keras.models.Sequential([\n",
    "    tf.keras.layers.Normalization(axis=-1),\n",
    "    tf.keras.layers.MLP(units=numUnits,return_sequences=True), # incorrect- does it need to be formatted like the convolutional layer?\n",
    "    tf.keras.layers.Convolution1D(64, 3, activation='relu'), # convolutional layer (filters, kernel size) \n",
    "    tf.keras.layers.Flatten(),\n",
    "    tf.keras.layers.Dense(units=512, activation=\"relu\"),\n",
    "    #tf.keras.layers.Dense(units=512, activation=\"relu\"),\n",
    "    #tf.keras.layers.Dense(units=512, activation=\"relu\"),\n",
    "    tf.keras.layers.Dense(4) # default activation of 'linear'\n",
    "    ])\n",
    "\n",
    "  mlp_model.compile(optimizer=tf.optimizers.Adam(learning_rate=learning_rate),\n",
    "                    loss='mean_squared_error', metrics=['accuracy'])\n",
    "  \n",
    "  mlp_model_fit = mlp_model.fit(train_features, train_labels, batch_size=batchNum, epochs=epochNum, validation_split=0.3, callbacks=[callback_valLoss, callback_trainLoss])\n",
    "  \n",
    "\n",
    "  return mlp_model, mlp_model_fit\n",
    "\n",
    "\n",
    "# split train test with prev features\n",
    "\"\"\"\n",
    "This function splits the training and test sets and turns a certain number of previous values as \"features\" and the next value as the \"target\"\n",
    "\n",
    "@param train_array : a Numpy array with at least 2 columns of the training set values\n",
    "@param test_array : a Numpy array with at least 2 columns of the test set values\n",
    "@param numOfPrevValues : an integer that represents the number of previous rows of values to use as features\n",
    "@param targetIndex : an integer that represents the column number to use for target values\n",
    "\n",
    "@returns four Numpy arrays for the previous values in the training set, the next 1 value in the training set, the previous values\n",
    "         in the test set, and the next 1 value in the test set\n",
    "\"\"\"\n",
    "def splitDataToFeaturesTargetValues(train_array, test_array, numOfPrevValues=3, targetIndex=1):\n",
    "\n",
    "  # prevData - features\n",
    "  # nextData - labels\n",
    "\n",
    "  prevData_train = []\n",
    "  nextData_train = [] \n",
    "  prevData_test = []\n",
    "  nextData_test = []\n",
    "\n",
    "  for i in range(numOfPrevValues, len(train_array)):\n",
    "    prevData_train.append(train_array[i-numOfPrevValues: i]) # append features as it's appending alls rows\n",
    "    nextData_train.append(train_array[i]) # append label as it's only the row at the target colun\n",
    "\n",
    "  # don't want to split test data this way\n",
    "  for j in range(numOfPrevValues, len(test_array)):\n",
    "    prevData_test.append(test_array[j-numOfPrevValues: j])\n",
    "    nextData_test.append(test_array[j])  \n",
    "\n",
    "  prevData_train = np.array(prevData_train)\n",
    "  nextData_train = np.array(nextData_train).reshape(len(nextData_train), 4)\n",
    "  print(\"TRAIN\")\n",
    "  print(f\"This is shape of train features array: {prevData_train.shape}\")\n",
    "  print(f\"This is shape of train labels array: {nextData_train.shape}\")\n",
    "\n",
    "  prevData_test = np.array(prevData_test)\n",
    "  nextData_test = np.array(nextData_test).reshape(len(nextData_test), 4) \n",
    "  print(\"TEST\")\n",
    "  print(f\"This is shape of test features array: {prevData_test.shape}\")\n",
    "  print(f\"This is shape of test labels array: {nextData_test.shape}\")\n",
    "\n",
    "  return prevData_train, nextData_train, prevData_test, nextData_test\n"
   ]
  },
  {
   "cell_type": "code",
   "execution_count": null,
   "metadata": {
    "colab": {
     "base_uri": "https://localhost:8080/"
    },
    "executionInfo": {
     "elapsed": 7,
     "status": "ok",
     "timestamp": 1671663562416,
     "user": {
      "displayName": "Taaibah",
      "userId": "14138282629540173661"
     },
     "user_tz": 480
    },
    "id": "NEwz2L1lHNlM",
    "outputId": "949df098-d9e8-4a35-dd71-259975ea6c07"
   },
   "outputs": [
    {
     "name": "stdout",
     "output_type": "stream",
     "text": [
      "            HR       SpO2  NBP (Mean)       ECG\n",
      "0   104.533333  90.533333        86.8  0.013333\n",
      "1   112.000000  97.000000        93.0 -0.021333\n",
      "2   112.000000  97.000000        93.0  0.071000\n",
      "3   112.000000  97.000000        93.0  0.014667\n",
      "4   112.000000  97.000000        93.0 -0.050333\n",
      "5   112.000000  97.000000        93.0  0.083333\n",
      "6   112.266667  97.000000        93.0 -0.204333\n",
      "7   114.000000  97.000000        93.0 -0.159000\n",
      "8   114.000000  97.000000        93.0 -0.192000\n",
      "9   114.000000  97.000000        93.0 -0.077333\n",
      "10  114.000000  97.000000        93.0 -0.103333\n",
      "11  114.000000  97.000000        93.0 -0.096333\n",
      "12  114.000000  97.000000        93.0  0.129000\n",
      "13  114.333333  97.333333        93.0 -0.058000\n",
      "14  115.000000  98.000000        93.0  0.198000\n",
      "15  115.000000  98.000000        93.0  0.166333\n",
      "16  115.000000  98.000000        93.0  0.231667\n",
      "17  115.000000  98.000000        93.0  0.188667\n",
      "18  115.000000  98.000000        93.0  0.103333\n",
      "19  115.000000  98.000000        93.0  0.291667\n",
      "case 4 max: \n",
      "[141.         100.         123.          16.65366667]\n",
      "case 4 min: \n",
      "[ 70.          90.53333333  59.         -15.27866667]\n",
      "\n",
      "Original data train and test: \n",
      "[[0.53774648 0.1        0.4909375  0.53099888]\n",
      " [0.63239437 0.71478873 0.578125   0.53002182]\n",
      " [0.63239437 0.71478873 0.578125   0.53262419]\n",
      " [0.63239437 0.71478873 0.578125   0.53103646]\n",
      " [0.63239437 0.71478873 0.578125   0.52920446]\n",
      " [0.63239437 0.71478873 0.578125   0.5329718 ]\n",
      " [0.63577465 0.71478873 0.578125   0.52486404]\n",
      " [0.65774648 0.71478873 0.578125   0.52614174]\n",
      " [0.65774648 0.71478873 0.578125   0.52521165]\n",
      " [0.65774648 0.71478873 0.578125   0.52844348]\n",
      " [0.65774648 0.71478873 0.578125   0.52771068]\n",
      " [0.65774648 0.71478873 0.578125   0.52790797]\n",
      " [0.65774648 0.71478873 0.578125   0.5342589 ]\n",
      " [0.66197183 0.74647887 0.578125   0.52898838]\n",
      " [0.67042254 0.80985915 0.578125   0.53620364]\n",
      " [0.67042254 0.80985915 0.578125   0.53531113]\n",
      " [0.67042254 0.80985915 0.578125   0.53715252]\n",
      " [0.67042254 0.80985915 0.578125   0.53594058]\n",
      " [0.67042254 0.80985915 0.578125   0.5335355 ]\n",
      " [0.67042254 0.80985915 0.578125   0.5388436 ]]\n",
      " Original test\n",
      "[[0.65774648 0.80985915 0.3390625  0.53807322]\n",
      " [0.65774648 0.80985915 0.3390625  0.53788532]\n",
      " [0.65774648 0.80985915 0.3390625  0.54089168]\n",
      " [0.65774648 0.80985915 0.3390625  0.5320605 ]\n",
      " [0.65774648 0.80985915 0.3390625  0.53343215]\n",
      " [0.65774648 0.80985915 0.3390625  0.53270875]\n",
      " [0.65774648 0.80985915 0.3390625  0.53339457]\n",
      " [0.65774648 0.80985915 0.3390625  0.53038822]\n",
      " [0.65774648 0.80985915 0.3390625  0.53016274]\n",
      " [0.65774648 0.80985915 0.3390625  0.53492594]\n",
      " [0.65774648 0.80985915 0.3390625  0.52814284]\n",
      " [0.65774648 0.80985915 0.3390625  0.53040701]\n",
      " [0.65605634 0.80985915 0.3390625  0.53109283]\n",
      " [0.64507042 0.80985915 0.3390625  0.534071  ]\n",
      " [0.64507042 0.80985915 0.3390625  0.53047277]\n",
      " [0.64507042 0.80985915 0.3390625  0.53201353]\n",
      " [0.64507042 0.80985915 0.3390625  0.53739679]\n",
      " [0.64507042 0.80985915 0.3390625  0.52909173]\n",
      " [0.64507042 0.80985915 0.3390625  0.53281209]\n",
      " [0.64507042 0.80985915 0.3390625  0.53262419]]\n",
      " Here to see the size of each data: \n",
      "This is the size of the train data: \n",
      "(41912, 4)\n",
      "This is the size of the test data: \n",
      "(10478, 4)\n"
     ]
    }
   ],
   "source": [
    "# Scaling and splitting dataset, using R-Wave Voltages and SpO2 as features\n",
    "#pd.set_option(\"max_rows\", 1000)\n",
    "print(case4_filteredData.head(20))\n",
    "\n",
    "case4_filteredData_arr_scaled, minMaxScaler, minMaxScaleFactor, case4_filteredData_min, case4_filteredData_max = minMaxScaling(case4_filteredData)\n",
    "print(\"case 4 max: \"), print(case4_filteredData_max)\n",
    "print(\"case 4 min: \"), print(case4_filteredData_min)\n",
    "\n",
    "# Add more columns names if more health variables are added.\n",
    "case4_filteredData_scaled = pd.DataFrame(case4_filteredData_arr_scaled, columns=[\"HR\", \"SpO2\",\"NBP\",\"ECG\"])\n",
    "\n",
    "#print()\n",
    "#print(case4_filteredData_scaled[0:20])\n",
    "\n",
    "listOfVariables = [\"HR\", \"SpO2\",\"NBP\",\"ECG\"] # Add more columns names if more health variables are added.\n",
    "listOfVariables_len = len(listOfVariables) - 1 \n",
    "\n",
    "data_train, data_test = split_data_train_test(np.array(case4_filteredData_scaled[listOfVariables]), train_size=0.8) # scaled data\n",
    "# data_train, data_test = split_data_train_test(np.array(combinedData_df[listOfVariables]), train_size=0.8) # non-scaled\n",
    "\n",
    "print(\"\\nOriginal data train and test: \")\n",
    "print(data_train[0:20])\n",
    "\n",
    "print(\" Original test\")\n",
    "print(data_test[0:20])\n",
    "\n",
    "\n",
    "print(\" Here to see the size of each data: \")\n",
    "print(\"This is the size of the train data: \")\n",
    "print(data_train.shape)\n",
    "print(\"This is the size of the test data: \")\n",
    "print(data_test.shape)"
   ]
  },
  {
   "cell_type": "markdown",
   "metadata": {
    "id": "IMUm6UQKGw-T"
   },
   "source": [
    "# MLP Model to Predict All Variables"
   ]
  },
  {
   "cell_type": "code",
   "execution_count": null,
   "metadata": {
    "id": "n4hvcKnu4EE5"
   },
   "outputs": [],
   "source": [
    "# Running the models to predict all 4 variables\n",
    "data_train_features, data_train_label, data_test_features, data_test_label = splitDataToFeaturesTargetValues(data_train, data_test, numOfPrevValues=500 ) #numofPrevValues only works with 4?\n",
    "print(data_train_features.shape)\n",
    "\n",
    "#batch_num = int(len(data_train_label) / 1550)\n",
    "batch_num = None\n",
    "epochNum = 5000\n",
    "learn_rate = 0.000001\n",
    "numOfUnits_list = [512]\n",
    "\n",
    "print(\"\\nBatch Size: \" + str(batch_num) + \"\\n\")\n",
    "\n",
    "# error with make_custom_mlp function --> does not run\n",
    "mlp_model, mlp_model_fit = make_custom_MLP(data_train_features, data_train_label, numOfUnits=numOfUnits_list, batchNum=batch_num,\n",
    "                                              numOfLayers=3, epochNum=epochNum, learning_rate=learn_rate, min_delta=0.0001)\n",
    "\n",
    "\n",
    "plot_loss(mlp_model_fit, 0, epochNum)\n",
    "mlp_model.summary()"
   ]
  },
  {
   "cell_type": "code",
   "execution_count": null,
   "metadata": {
    "colab": {
     "base_uri": "https://localhost:8080/"
    },
    "executionInfo": {
     "elapsed": 209,
     "status": "ok",
     "timestamp": 1671664410118,
     "user": {
      "displayName": "Taaibah",
      "userId": "14138282629540173661"
     },
     "user_tz": 480
    },
    "id": "7ns6ODgnFyBW",
    "outputId": "36b860af-0e85-4ca7-97cc-500d214b663e"
   },
   "outputs": [
    {
     "name": "stdout",
     "output_type": "stream",
     "text": [
      "(41412, 500, 4)\n",
      "(9978, 500, 4)\n",
      "[[[0.65774648 0.80985915 0.3390625  0.53807322]\n",
      "  [0.65774648 0.80985915 0.3390625  0.53788532]\n",
      "  [0.65774648 0.80985915 0.3390625  0.54089168]\n",
      "  ...\n",
      "  [0.65774648 0.90492958 0.353125   0.52975876]\n",
      "  [0.65774648 0.90492958 0.353125   0.53299999]\n",
      "  [0.65774648 0.90492958 0.353125   0.53003121]]\n",
      "\n",
      " [[0.65774648 0.80985915 0.3390625  0.53788532]\n",
      "  [0.65774648 0.80985915 0.3390625  0.54089168]\n",
      "  [0.65774648 0.80985915 0.3390625  0.5320605 ]\n",
      "  ...\n",
      "  [0.65774648 0.90492958 0.353125   0.53299999]\n",
      "  [0.65774648 0.90492958 0.353125   0.53003121]\n",
      "  [0.65774648 0.90492958 0.353125   0.52981513]]\n",
      "\n",
      " [[0.65774648 0.80985915 0.3390625  0.54089168]\n",
      "  [0.65774648 0.80985915 0.3390625  0.5320605 ]\n",
      "  [0.65774648 0.80985915 0.3390625  0.53343215]\n",
      "  ...\n",
      "  [0.65774648 0.90492958 0.353125   0.53003121]\n",
      "  [0.65774648 0.90492958 0.353125   0.52981513]\n",
      "  [0.65774648 0.90492958 0.353125   0.53509504]]\n",
      "\n",
      " ...\n",
      "\n",
      " [[0.73380282 1.         0.7046875  0.53805443]\n",
      "  [0.73380282 1.         0.7046875  0.54152113]\n",
      "  [0.73380282 1.         0.7046875  0.53667338]\n",
      "  ...\n",
      "  [0.87323944 1.         0.6484375  0.53048217]\n",
      "  [0.87323944 1.         0.6484375  0.53048217]\n",
      "  [0.87323944 1.         0.6484375  0.53048217]]\n",
      "\n",
      " [[0.73380282 1.         0.7046875  0.54152113]\n",
      "  [0.73380282 1.         0.7046875  0.53667338]\n",
      "  [0.73380282 1.         0.7046875  0.53925697]\n",
      "  ...\n",
      "  [0.87323944 1.         0.6484375  0.53048217]\n",
      "  [0.87323944 1.         0.6484375  0.53048217]\n",
      "  [0.87323944 1.         0.6484375  0.53048217]]\n",
      "\n",
      " [[0.73380282 1.         0.7046875  0.53667338]\n",
      "  [0.73380282 1.         0.7046875  0.53925697]\n",
      "  [0.73380282 1.         0.7046875  0.53750013]\n",
      "  ...\n",
      "  [0.87323944 1.         0.6484375  0.53048217]\n",
      "  [0.87323944 1.         0.6484375  0.53048217]\n",
      "  [0.87323944 1.         0.6484375  0.53048217]]]\n"
     ]
    }
   ],
   "source": [
    "print(data_train_features.shape)\n",
    "print(data_test_features.shape)\n",
    "print(data_test_features)"
   ]
  },
  {
   "cell_type": "code",
   "execution_count": null,
   "metadata": {
    "id": "RKOgf0704Kk2"
   },
   "outputs": [],
   "source": [
    "# Predicting with the model - training set - MLP\n",
    "\n",
    "print(\"\\nFor training set:\\n\")\n",
    "predictions = mlp_model.predict(data_train_features)\n",
    "print(\"Shape of predictions BEFORE reshape: \"), print(predictions.shape)\n",
    "print(predictions)\n",
    "\n",
    "# reshaping\n",
    "predictions = np.reshape(predictions, (41908, 4))\n",
    "# predictions[predictions > 1.0] = 1.0\n",
    "\n",
    "#plotting accuracies and losses\n",
    "get_and_print_rmse_for_model(data_train_label, predictions)\n",
    "get_and_print_R2_for_model(data_train_label, predictions)\n",
    "get_and_print_mae_for_model(data_train_label, predictions)\n",
    "get_and_print_mape_for_model(data_train_label, predictions)\n",
    "plot_actual_and_predictions_line(np.arange(0, len(data_train_label)), data_train_label, predictions)\n",
    "\n",
    "print(\"\\nAfter reversing the scaling:\\n\")\n",
    "\n",
    "# For when MinMaxScaler was used; change the column number/index to get the values for other health variables\n",
    "predictions_reversed = ((predictions - 0.1) / (1 - 0.1)) * (case4_filteredData_max[3] - case4_filteredData_min[3]) + case4_filteredData_min[3]\n",
    "data_train_label_reversed = ((data_train_label - 0.1) / (1 - 0.1)) * (case4_filteredData_max[3] - case4_filteredData_min[3]) + case4_filteredData_min[3]\n",
    "#data_train_features_reversed = ((data_train_features - 0.1) / (1 - 0.1)) * (case4_filteredData_max[1] - case4_filteredData_min[1]) + case4_filteredData_min[1]\n",
    "# predictions_reversed[predictions_reversed > 100] = 100\n",
    "\n",
    "# For when standard scaling was used; change the column number/index to get the values for other health variables\n",
    "# predictions_reversed = predictions * combinedData_stdDev[2] + combinedData_mean[2]\n",
    "# data_test_label_reversed = data_test_label * combinedData_stdDev[2] + combinedData_mean[2]\n",
    "# data_test_features_reversed = data_test_features * combinedData_stdDev[0] + combinedData_mean[0]\n",
    "\n",
    "get_and_print_rmse_for_model(data_train_label_reversed, predictions_reversed)\n",
    "get_and_print_R2_for_model(data_train_label_reversed, predictions_reversed)\n",
    "get_and_print_mae_for_model(data_train_label_reversed, predictions_reversed)\n",
    "get_and_print_mape_for_model(data_train_label_reversed, predictions_reversed)"
   ]
  },
  {
   "cell_type": "code",
   "execution_count": null,
   "metadata": {
    "id": "Gy9qCldA4N9Y"
   },
   "outputs": [],
   "source": [
    "# Predicting with the model - test set\n",
    "\n",
    "print(\"\\nFor testing set:\\n\")\n",
    "predictions = mlp_model.predict(data_test_features)\n",
    "\n",
    "# set initial values\n",
    "numOfPrevValues = 500\n",
    "batch = []\n",
    "all_values = []\n",
    "\n",
    "# ALL IMPLEMENTED INTO THE LOOP\n",
    "for i in range(0, len(data_test_features) - numOfPrevValues):\n",
    "  print(i)\n",
    "  # 1. set the batch accordingly\n",
    "  if i == 0:\n",
    "    # only first batch comes from data_test features\n",
    "    batch = data_test_features[0]\n",
    "    all_values = batch\n",
    "  else:\n",
    "    batch = all_values[i:]\n",
    "\n",
    "  # 2. reshape the batch\n",
    "  # old shape (2d) - (27,4)\n",
    "  # new shape (3d) - (1,27,4) - need to be 3d because shape of model input is also 3d \n",
    "  batch = batch.reshape(1, data_test_features[0].shape[0], data_test_features[0].shape[1])\n",
    "\n",
    "  # 3. make the prediction\n",
    "  predicted_val = mlp_model.predict(batch)\n",
    "  # revert reshaping to 2d\n",
    "  batch = batch.reshape(data_test_features[0].shape[0], data_test_features[0].shape[1])\n",
    "\n",
    "  # 4. append to all values array\n",
    "  # all_values = batch\n",
    "  all_values = np.append(all_values, [predicted_val[0]], axis=0)\n",
    "  all_values = np.array(all_values)\n",
    "\n",
    "  # 5. print everything\n",
    "  print(f\"LOOP #{i}:\")\n",
    "  print(f\"Batch {i} shape: {batch.shape}\")\n",
    "  # print(batch)\n",
    "  print(f\"Predicted {i} shape: {predicted_val.shape}\")\n",
    "  # print(predicted_val)\n",
    "  print(f\"All predicted values shape: {all_values.shape}\")\n",
    "  # print(all_values)\n"
   ]
  },
  {
   "cell_type": "code",
   "execution_count": null,
   "metadata": {
    "id": "QgTzdYf4Yjbt"
   },
   "outputs": [],
   "source": [
    "# Predicting with the model for HR - test set - MLP\n",
    "\n",
    "print(\"\\nFor testing set:\\n\")\n",
    "predictions = mlp_model.predict(data_test_features)\n",
    "\n",
    "#predictions = predictions.reshape(data_test_features.shape[0], data_test_features.shape[1]) # current shape is (length, numOfPrevValues, 1)\n",
    "#predictions = predictions[:, 0] # getting values for the next time step (t) and not (t+1, t+2, or t+3)\n",
    "#predictions = np.reshape(predictions, newshape=(len(predictions), 1))\n",
    "# predictions[predictions > 1.0] = 1.0\n",
    "\n",
    "get_and_print_rmse_for_model(data_test_label, predictions)\n",
    "get_and_print_R2_for_model(data_test_label, predictions)\n",
    "get_and_print_mae_for_model(data_test_label, predictions)\n",
    "get_and_print_mape_for_model(data_test_label, predictions)\n",
    "\n",
    "plot_actual_and_predictions_line(np.arange(0, len(data_test_label)), data_test_label, predictions)\n",
    "plot_actual_and_predictions_scatter(np.arange(0, len(data_test_label)), data_test_label, predictions)\n",
    "\n",
    "# # this function won't plot properly if there are more than 3 variables in the model\n",
    "# plot_model_data3D(data_test_features[:, :, 0][:, 0].flatten(), data_test_features[:, :, 2][:, 0].flatten(), data_test_features[:, :, 1][:, 0].flatten(),\n",
    "#                  predictions.flatten(), \"R-Wave Voltages\", \"SpO2\", \"HR\") \n",
    "\n",
    "# column 1 for HR values, 0 for ECG R-Wave Voltages\n",
    "print(\"\\nAfter reversing the scaling: \\n\")\n",
    "\n",
    "# For if MinMaxScaler was used; change the column number/index to get the values for other health variables\n",
    "predictions_reversed = ((predictions - 0.1) / (1 - 0.1)) * (case4_filteredData_max[0] - case4_filteredData_max[1]) + case4_filteredData_max[1]\n",
    "data_test_label_reversed = ((data_test_label - 0.1) / (1 - 0.1)) * (case4_filteredData_max[0] - case4_filteredData_max[1]) + case4_filteredData_max[1]\n",
    "# data_test_features_reversed = ((data_test_features - 0.1) / (1 - 0.1)) * (combinedData_max[0] - combinedData_min[0]) + combinedData_min[0]\n",
    "# predictions_reversed[predictions_reversed > 100] = 100\n",
    "\n",
    "# For if standard scaling was used; change the column number/index to get the values for other health variables\n",
    "# predictions_reversed = predictions * combinedData_stdDev[1] + combinedData_mean[1]\n",
    "# data_test_label_reversed = data_test_label * combinedData_stdDev[1] + combinedData_mean[1]\n",
    "# data_test_features_reversed = data_test_features * combinedData_stdDev[0] + combinedData_mean[0]\n",
    "\n",
    "get_and_print_rmse_for_model(data_test_label_reversed, predictions_reversed)\n",
    "get_and_print_R2_for_model(data_test_label_reversed, predictions_reversed)\n",
    "get_and_print_mae_for_model(data_test_label_reversed, predictions_reversed)\n",
    "get_and_print_mape_for_model(data_test_label_reversed, predictions_reversed)\n",
    "\n",
    "#print(\"DATA TEST\")\n",
    "#print(data_test_label)\n",
    "#print(\"this is the predictions\")\n",
    "#print(predictions)\n"
   ]
  },
  {
   "cell_type": "markdown",
   "metadata": {
    "id": "z1xXO1D5-dpb"
   },
   "source": [
    "#Plotting Results\n"
   ]
  },
  {
   "cell_type": "code",
   "execution_count": null,
   "metadata": {
    "id": "p03co7Ay-gAe"
   },
   "outputs": [],
   "source": [
    "#Plotting results - Same as Many to Many ANN Model\n",
    "\n",
    "#HR\n",
    "fig = plt.figure(figsize=(12, 8))\n",
    "xtrain_set = np.arange(0, len(data_train_features))\n",
    "ytrain_set = np.array(data_train_label[:,0])\n",
    "plt.plot(xtrain_set, ytrain_set, 'b', label=\"Actual Train\")\n",
    "\n",
    "xtest_set = np.arange(len(data_train_features),len(data_train_features) + len(data_test_features))\n",
    "ytest_set = np.array(data_test_label[:,0])\n",
    "plt.plot(xtest_set, ytest_set, 'r', label=\"Actual Test\")\n",
    "\n",
    "pred_train_sig = np.array(predictions[:,0])\n",
    "plt.plot(xtrain_set, pred_train_sig, 'orange', label=\"Predicted Train\", linestyle=\"dotted\")\n",
    "\n",
    "pred_test_sig = np.array(all_values[:,0])\n",
    "plt.plot(xtest_set, pred_test_sig,'green', label=\"Predicted Test\", linestyle=\"dotted\")\n",
    "plt.title(\"Heart Rate (HR)\")\n",
    "plt.legend()\n",
    "plt.show()\n",
    "\n",
    "\n",
    "\n",
    "#SpO2\n",
    "fig = plt.figure(figsize=(12, 8))\n",
    "xtrain_set = np.arange(0, len(data_train_features))\n",
    "ytrain_set = np.array(data_train_label[:,1])\n",
    "plt.plot(xtrain_set, ytrain_set, 'b', label=\"Actual Train\")\n",
    "\n",
    "xtest_set = np.arange(len(data_train_features),len(data_train_features) + len(data_test_features))\n",
    "ytest_set = np.array(data_test_label[:,1])\n",
    "plt.plot(xtest_set, ytest_set, 'r', label=\"Actual Test\")\n",
    "\n",
    "pred_train_sig = np.array(predictions[:,1])\n",
    "plt.plot(xtrain_set, pred_train_sig, 'orange', label=\"Predicted Train\", linestyle=\"dotted\")\n",
    "\n",
    "pred_test_sig = np.array(all_values[:,1])\n",
    "plt.plot(xtest_set, pred_test_sig,'green', label=\"Predicted Test\", linestyle=\"dotted\")\n",
    "plt.title(\"SpO2\")\n",
    "plt.legend()\n",
    "plt.show()\n",
    "\n",
    "\n",
    "\n",
    "\n",
    "\n",
    "#NBP\n",
    "fig = plt.figure(figsize=(12, 8))\n",
    "xtrain_set = np.arange(0, len(data_train_features))\n",
    "ytrain_set = np.array(data_train_label[:,2])\n",
    "plt.plot(xtrain_set, ytrain_set, 'b', label=\"Actual Train\")\n",
    "\n",
    "xtest_set = np.arange(len(data_train_features),len(data_train_features) + len(data_test_features))\n",
    "ytest_set = np.array(data_test_label[:,2])\n",
    "plt.plot(xtest_set, ytest_set, 'r', label=\"Actual Test\")\n",
    "\n",
    "pred_train_sig = np.array(predictions[:,2])\n",
    "plt.plot(xtrain_set, pred_train_sig, 'orange', label=\"Predicted Train\", linestyle=\"dotted\")\n",
    "\n",
    "pred_test_sig = np.array(all_values[:,2])\n",
    "plt.plot(xtest_set, pred_test_sig,'green', label=\"Predicted Test\", linestyle=\"dotted\")\n",
    "plt.title(\"NBP\")\n",
    "plt.legend()\n",
    "plt.show()\n",
    "\n",
    "\n",
    "\n",
    "\n",
    "\n",
    "#ECG\n",
    "fig = plt.figure(figsize=(12, 8))\n",
    "xtrain_set = np.arange(0, len(data_train_features))\n",
    "ytrain_set = np.array(data_train_label[:,3])\n",
    "plt.plot(xtrain_set, ytrain_set, 'b', label=\"Actual Train\")\n",
    "\n",
    "xtest_set = np.arange(len(data_train_features),len(data_train_features) + len(data_test_features))\n",
    "ytest_set = np.array(data_test_label[:,3])\n",
    "plt.plot(xtest_set, ytest_set, 'r', label=\"Actual Test\")\n",
    "\n",
    "pred_train_sig = np.array(predictions[:,3])\n",
    "plt.plot(xtrain_set, pred_train_sig, 'orange', label=\"Predicted Train\", linestyle=\"dotted\")\n",
    "\n",
    "pred_test_sig = np.array(all_values[:,3])\n",
    "plt.plot(xtest_set, pred_test_sig,'green', label=\"Predicted Test\", linestyle=\"dotted\")\n",
    "plt.title(\"ECG\")\n",
    "plt.legend()\n",
    "plt.show()"
   ]
  }
 ],
 "metadata": {
  "colab": {
   "provenance": [
    {
     "file_id": "1xJ_ERctBsebZZ-d4YJEcM8rgJExrk4YI",
     "timestamp": 1671664794864
    },
    {
     "file_id": "1P48klILAW6YgD9BvbNtmwymTNNsxPAs7",
     "timestamp": 1667408800585
    },
    {
     "file_id": "1ReI5AI72ngCoKXJgVvS75u708p6zjgJr",
     "timestamp": 1667370799436
    }
   ]
  },
  "kernelspec": {
   "display_name": "Python 3 (ipykernel)",
   "language": "python",
   "name": "python3"
  },
  "language_info": {
   "codemirror_mode": {
    "name": "ipython",
    "version": 3
   },
   "file_extension": ".py",
   "mimetype": "text/x-python",
   "name": "python",
   "nbconvert_exporter": "python",
   "pygments_lexer": "ipython3",
   "version": "3.9.13"
  }
 },
 "nbformat": 4,
 "nbformat_minor": 1
}
