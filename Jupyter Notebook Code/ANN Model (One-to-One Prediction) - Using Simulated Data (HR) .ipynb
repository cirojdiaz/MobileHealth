{
 "cells": [
  {
   "cell_type": "markdown",
   "metadata": {
    "id": "U8_G2sJZqlD3"
   },
   "source": [
    "# Variable ANN Model - One to One\n",
    "Purpose: \n",
    "- Predict one variable from one variable (one-to-one predictions)\n",
    "- testing the new way of predictions on the simulated data\n",
    "\n",
    "Notes:\n",
    "- NaN rows are removed\n",
    "- downsampling is applied to minimize redundancy (by 100)\n",
    "- Final ANN model using batch prediction method instead of manual (same method as the three variable model from Sumer 2022)\n",
    "- based off of the Many to Many model Fall 2022"
   ]
  },
  {
   "cell_type": "code",
   "execution_count": null,
   "metadata": {
    "id": "GJHS3zgHazK4"
   },
   "outputs": [],
   "source": [
    "# import libraries\n",
    "import matplotlib.pyplot as plt\n",
    "import math\n",
    "from mpl_toolkits import mplot3d\n",
    "import numpy as np\n",
    "import os\n",
    "import pandas as pd\n",
    "import seaborn as sns\n",
    "import sklearn\n",
    "from sklearn.model_selection import train_test_split\n",
    "import tensorflow as tf"
   ]
  },
  {
   "cell_type": "markdown",
   "metadata": {
    "id": "8Oefwov_OmtC"
   },
   "source": [
    "# Loading/Preprocessing"
   ]
  },
  {
   "cell_type": "code",
   "execution_count": null,
   "metadata": {
    "colab": {
     "base_uri": "https://localhost:8080/"
    },
    "executionInfo": {
     "elapsed": 50649,
     "status": "ok",
     "timestamp": 1671646299192,
     "user": {
      "displayName": "Joanne Jo",
      "userId": "01049188753505025865"
     },
     "user_tz": 300
    },
    "id": "uQSIquGIT4Cu",
    "outputId": "a9fecda3-54a0-46c0-8f8f-4de3f2889704"
   },
   "outputs": [
    {
     "name": "stdout",
     "output_type": "stream",
     "text": [
      "Mounted at /content/drive\n"
     ]
    }
   ],
   "source": [
    "# mounting google drive\n",
    "from google.colab import drive\n",
    "drive.mount('/content/drive')"
   ]
  },
  {
   "cell_type": "code",
   "execution_count": null,
   "metadata": {
    "colab": {
     "base_uri": "https://localhost:8080/"
    },
    "executionInfo": {
     "elapsed": 2858,
     "status": "ok",
     "timestamp": 1671646308415,
     "user": {
      "displayName": "Joanne Jo",
      "userId": "01049188753505025865"
     },
     "user_tz": 300
    },
    "id": "DQY_XlDrQGbW",
    "outputId": "1722ba4e-7b62-44a0-d1f5-89099ed0fddb"
   },
   "outputs": [
    {
     "name": "stderr",
     "output_type": "stream",
     "text": [
      "/usr/local/lib/python3.8/dist-packages/IPython/core/interactiveshell.py:3326: FutureWarning: The error_bad_lines argument has been deprecated and will be removed in a future version.\n",
      "\n",
      "\n",
      "  exec(code_obj, self.user_global_ns, self.user_ns)\n"
     ]
    },
    {
     "name": "stdout",
     "output_type": "stream",
     "text": [
      "      HR\n",
      "0    0.0\n",
      "1  112.0\n",
      "2  112.0\n",
      "3  112.0\n",
      "4  112.0\n",
      "5  112.0\n",
      "6  112.0\n",
      "7  112.0\n",
      "8  112.0\n",
      "9  112.0\n",
      "                 HR\n",
      "8644374  130.613209\n",
      "8644375  130.613242\n",
      "8644376  130.613274\n",
      "8644377  130.613307\n",
      "8644378  130.613340\n",
      "8644379  130.613372\n",
      "8644380  130.613405\n",
      "8644381  130.613438\n",
      "8644382  130.613471\n",
      "8644383  130.613503\n",
      "(8644384, 1)\n"
     ]
    }
   ],
   "source": [
    "# FILTERING THE DATA\n",
    "colnames=['TIME', 'HR'] \n",
    "# user1 = pd.read_csv('dataset/1.csv', names=colnames, header=None)\n",
    "df = pd.read_csv(\"simulated_data.csv\", names=colnames,header=None, index_col=False, error_bad_lines=False , usecols=[ 'HR'] )\n",
    "\n",
    "\n",
    "df = df.dropna() #drop rows with NaN\n",
    "\n",
    "# case4_filteredData = df.loc[(~df['HR'].isnull()) & (~df['SpO2'].isnull()) & (~df['NBP (Mean)'].isnull()) & (~df['ECG'].isnull())]\n",
    "# case4_filteredData.drop('Time', axis=1, inplace=True)\n",
    "case4_filteredData=df\n",
    "print(case4_filteredData.head(10))\n",
    "print(case4_filteredData.tail(10))\n",
    "print(case4_filteredData.shape)"
   ]
  },
  {
   "cell_type": "code",
   "execution_count": null,
   "metadata": {
    "colab": {
     "base_uri": "https://localhost:8080/",
     "height": 278
    },
    "executionInfo": {
     "elapsed": 1499,
     "status": "ok",
     "timestamp": 1671646309904,
     "user": {
      "displayName": "Joanne Jo",
      "userId": "01049188753505025865"
     },
     "user_tz": 300
    },
    "id": "GPIHnjvtewhv",
    "outputId": "4f1401e9-cadc-40a9-ae3b-62f0b59de496"
   },
   "outputs": [
    {
     "data": {
      "image/png": "[encoded data removed]",
      "text/plain": [
       "<Figure size 432x288 with 1 Axes>"
      ]
     },
     "metadata": {
      "needs_background": "light"
     },
     "output_type": "display_data"
    }
   ],
   "source": [
    "# plot data\n",
    "dataset = case4_filteredData # use if google drive\n",
    "values = dataset.values\n",
    "\n",
    "# specify columns to plot\n",
    "groups = [0]\n",
    "i =1\n",
    "for g in groups:\n",
    "  plt.subplot(len(groups), 1, i)\n",
    "  plt.plot(values[:, g])\n",
    "  plt.title(dataset.columns[g], y=0.5, loc='right')\n",
    "  i += 1\n",
    "# plt.show()"
   ]
  },
  {
   "cell_type": "code",
   "execution_count": null,
   "metadata": {
    "colab": {
     "base_uri": "https://localhost:8080/"
    },
    "executionInfo": {
     "elapsed": 110071,
     "status": "ok",
     "timestamp": 1671646419964,
     "user": {
      "displayName": "Joanne Jo",
      "userId": "01049188753505025865"
     },
     "user_tz": 300
    },
    "id": "txfSyvCv_5Wm",
    "outputId": "8232f351-2862-4b8d-c424-bcd3321b8c1e"
   },
   "outputs": [
    {
     "name": "stdout",
     "output_type": "stream",
     "text": [
      "Size of old data:\n",
      "(8644384, 1)\n",
      "Size of new data:\n",
      "(86443, 1)\n"
     ]
    }
   ],
   "source": [
    "# ----------------------------------------------------------------- MANUALLY RESAMPLE -------------------------------------------------------------------\n",
    "def downsample_data(window):\n",
    "  df_temp = pd.DataFrame(columns=['HR'])\n",
    "  HR_sum = 0\n",
    "  SPO_sum = 0\n",
    "  NBP_sum = 0\n",
    "  ECG_sum = 0\n",
    "\n",
    "  for i in range(1, len(values) - 1):\n",
    "    HR_sum += values[i, 0]\n",
    "    if (i + 1) % window == 0:\n",
    "      HR_sum = HR_sum/window\n",
    "    \n",
    "      row = {'HR':HR_sum}\n",
    "      df_temp = df_temp.append(row, ignore_index = True)\n",
    "      HR_sum = 0\n",
    "      SPO_sum = 0\n",
    "      NBP_sum = 0\n",
    "      ECG_sum = 0\n",
    "  return df_temp\n",
    "\n",
    "old_data = case4_filteredData\n",
    "print('Size of old data:')\n",
    "print(old_data.shape)\n",
    "\n",
    "# downsampling data\n",
    "case4_filteredData = downsample_data(100)\n",
    "\n",
    "print('Size of new data:')\n",
    "print(case4_filteredData.shape)"
   ]
  },
  {
   "cell_type": "markdown",
   "metadata": {
    "id": "aheFJSiTB_nG"
   },
   "source": [
    "## Functions"
   ]
  },
  {
   "cell_type": "code",
   "execution_count": null,
   "metadata": {
    "colab": {
     "base_uri": "https://localhost:8080/"
    },
    "executionInfo": {
     "elapsed": 46,
     "status": "ok",
     "timestamp": 1671646419966,
     "user": {
      "displayName": "Joanne Jo",
      "userId": "01049188753505025865"
     },
     "user_tz": 300
    },
    "id": "pqZ1GukOFPsv",
    "outputId": "9d0a5fa0-2267-4daf-ab81-774c550232e5"
   },
   "outputs": [
    {
     "name": "stderr",
     "output_type": "stream",
     "text": [
      "<>:283: SyntaxWarning: \"is not\" with a literal. Did you mean \"!=\"?\n",
      "<>:283: SyntaxWarning: \"is not\" with a literal. Did you mean \"!=\"?\n",
      "<ipython-input-7-e343aa9b8363>:283: SyntaxWarning: \"is not\" with a literal. Did you mean \"!=\"?\n",
      "  if (len(numOfUnits) is not numOfLayers) and (len(numOfUnits) is not 1):\n"
     ]
    }
   ],
   "source": [
    "# FUNCTIONS\n",
    "\"\"\"\n",
    "This functions splits the data into training and test sets.\n",
    "\n",
    "@param data_df : a Pandas Dataframe that contains the data to be split into training and test sets\n",
    "@param train_size : a double/float that is within the range of 0 and 1 and represents the fraction of the data to be used for the training set\n",
    "\n",
    "@returns two Numpy arrays that represent the training and test sets, respectively\n",
    "\"\"\"\n",
    "def split_data_train_test(data_df, train_size):\n",
    "  train_df, test_df = data_df[0:round(train_size * len(data_df)), :], data_df[round(train_size * len(data_df)):len(data_df), :]\n",
    "\n",
    "  return train_df, test_df\n",
    "\n",
    "\n",
    "\n",
    "\"\"\"\n",
    "This function takes in the data to be scaled and uses Min-Max Scaling.\n",
    "\n",
    "@param data : a Numpy array that represents the inputted data to be scaled\n",
    "\n",
    "@returns the scaled data as a Numpy array, the MinMax scaler object, the scaling factor used, and the minimum value of the original inputted data\n",
    "\"\"\"\n",
    "def minMaxScaling(data):\n",
    "  scaler = sklearn.preprocessing.MinMaxScaler(feature_range=(0.1, 1))\n",
    "  scaler.fit(data)\n",
    "\n",
    "  scaleFactor = scaler.scale_\n",
    "  data_min = scaler.data_min_\n",
    "  data_max = scaler.data_max_\n",
    "  data = scaler.transform(data)\n",
    "\n",
    "  return data, scaler, scaleFactor, data_min, data_max\n",
    "\n",
    "\n",
    "\"\"\"\n",
    "This function plots the inputted data in a 2D scatterplot.\n",
    "\n",
    "@param xvals : a 1D Numpy array that contains the data to be plotted on the x-axis\n",
    "@param data : a 1D Numpy array that contains the data to be plotted on the y-axis\n",
    "@param xVariable : a string that represents the label of the data to be plotted for x-axis\n",
    "@param yVariable : a string that represents the label of the data to be plotted for y-axis\n",
    "\"\"\"\n",
    "def plot_data(xvals, data, xVariable, yVariable):\n",
    "  plt.figure(figsize=(10, 5))\n",
    "  plt.scatter(xvals, data)\n",
    "  plt.title(\"Plot of Data for \" + yVariable + \", \" + xVariable)\n",
    "  plt.ylabel(yVariable)\n",
    "  plt.xlabel(xVariable)\n",
    "  plt.show()\n",
    "\n",
    "\n",
    "\"\"\"\n",
    "This function plots a loss function based on the output of the model fitting.\n",
    "\n",
    "@param loss_vals : a Tensorflow History object from model fitting, which is used to get the training and validation loss values\n",
    "@param startRange : an integer that is >= 0, is within the indices of loss_vals, and represents the start indices of the loss values to plot\n",
    "@param endRange : an integer that is <= len(loss_vals) - 1, is larger than startRange, and represents the end indices of the loss values to plot\n",
    "\"\"\"\n",
    "def plot_loss(loss_vals, startRange, endRange):\n",
    "  plt.figure(figsize=(12, 8))\n",
    "  plt.plot(loss_vals.history['loss'][startRange:endRange], label=\"Training Loss\") \n",
    "  plt.plot(loss_vals.history['val_loss'][startRange:endRange], label=\"Validation Loss\") \n",
    "  plt.xlabel(\"Epoch\")\n",
    "  plt.ylabel(\"Error\")\n",
    "  plt.title(\"Learning Curve\")\n",
    "  plt.legend()\n",
    "\n",
    "\n",
    "\"\"\"\n",
    "This function plots the inputted actual and predicted data in a 2D scatterplot.\n",
    "\n",
    "@param xvals : a 1D Numpy array that contains the data to be plotted on the x-axis\n",
    "@param actual_data : a 1D Numpy array that contains the actual data to be plotted on the y-axis\n",
    "@param predicted_data : a 1D Numpy array that contains the predicted data to be plotted on the y-axis\n",
    "@param xName : a string that represents the x-values and label for the x-axis\n",
    "@param yName : a string that represents the y-values and label for the y-axis\n",
    "\"\"\"\n",
    "def plot_model_data(xvals, actual_data, predicted_data, xName, yName):\n",
    "  plt.figure(figsize=(12, 8))\n",
    "  plt.scatter(xvals, actual_data, label=\"Actual Data\", color=\"r\")\n",
    "  plt.plot(xvals, predicted_data, label=\"Predicted Data\", color=\"black\")\n",
    "  plt.title(\"Plot of Model Data for \" + xName + \" Against \" + yName)\n",
    "  plt.xlabel(xName)\n",
    "  plt.ylabel(yName)\n",
    "  plt.legend()\n",
    "\n",
    "\n",
    "\n",
    "\"\"\"\n",
    "This function plots the inputted actual and predicted data in a 3D scatterplot.\n",
    "\n",
    "@param x_val : a 1D Numpy array that contains the data to be plotted on the x-axis\n",
    "@param y_val : a 1D Numpy array that contains the data to be plotted on the y-axis\n",
    "@param actual_data : a 1D Numpy array that contains the actual data to be plotted on the z-axis\n",
    "@param predicted_data : a 1D Numpy array that contains the predicted data to be plotted on the z-axis\n",
    "@param xName : a string that represents the x-values and label for the x-axis\n",
    "@param yName : a string that represents the y-values and label for the y-axis\n",
    "@param zName : a string that represents the z-values and label for the z-axis\n",
    "\"\"\"\n",
    "def plot_model_data3D(x_val, y_val, actual_data, predicted_data, xName, yName, zName):\n",
    "  fig = plt.figure(figsize=(12, 8))\n",
    "\n",
    "  ax = plt.axes(projection='3d')\n",
    "  ax.scatter3D(x_val, y_val, actual_data, label='Actual Data', color=\"red\")\n",
    "  ax.plot3D(x_val, y_val, predicted_data, label='Predicted Data', color=\"black\")\n",
    "\n",
    "  ax.set_title(\"Plot of Model Data for \" + xName + \" And \" + yName + \" Against \" + zName, pad=20)\n",
    "  ax.set_xlabel(xName)\n",
    "  ax.set_ylabel(yName)\n",
    "  ax.set_zlabel(zName)\n",
    "  ax.legend()\n",
    "\n",
    "\n",
    "\"\"\"\n",
    "This functions gets and prints the root mean squared error (RMSE) of the targets.\n",
    "\n",
    "@param test_targets : a Numpy array that represents the actual target values\n",
    "@param predicted_targets : a Numpy array that represents the predicted target values\n",
    "\n",
    "@returns the RMSE double/float value\n",
    "\n",
    "MANUAL RMSE \n",
    "\"\"\"\n",
    "def get_and_print_rmse_for_model(test_targets, predicted_targets):\n",
    "  mse = sklearn.metrics.mean_squared_error(y_true=test_targets, y_pred=predicted_targets)  \n",
    "  rmse = math.sqrt(mse)  \n",
    "  print(\"RMSE: \", rmse)  \n",
    "  \n",
    "  return rmse \n",
    "\"\"\"\n",
    "to calculate RMSE manually to add:\n",
    "\"\"\"\n",
    "\n",
    "#def calculate_rmse_manual(test_targets, predicted_targets):\n",
    "  \n",
    "\"\"\"\n",
    "This functions gets and prints the coefficient of determination (R^2) of the targets.\n",
    "\n",
    "@param test_targets : a Numpy array that represents the actual target values\n",
    "@param predicted_targets : a Numpy array that represents the predicted target values\n",
    "\n",
    "@returns the R^2 double/float value\n",
    "\"\"\"\n",
    "\n",
    "def get_and_print_R2_for_model(test_targets, predicted_targets):\n",
    "    r2 = sklearn.metrics.r2_score(y_true=test_targets, y_pred=predicted_targets)\n",
    "    print(\"R2 (Sklearn): \" + str(r2))\n",
    "  \n",
    "    return r2\n",
    "\n",
    "\n",
    "\n",
    "\"\"\"\n",
    "This function uses the mean absolute percentage error (MAPE) to get a percentage error for a regression model. \n",
    "\n",
    "Note that if the output is a number above 1 or below 0, usually very big in magnitude, it is because \n",
    "some of the numbers in the test_targets are 0 or very close to 0, which gives a division by 0.\n",
    "\n",
    "@param test_targets : a Numpy array that represents the actual target values\n",
    "@param predicted_targets : a Numpy array that represents the predicted target values\n",
    "\n",
    "@returns the MAPE double/float value which represents the decimal form of the percentage, so generally between 0 and 1\n",
    "\"\"\"\n",
    "\n",
    "def get_and_print_mape_for_model(test_targets, predicted_targets):\n",
    "  mape = sklearn.metrics.mean_absolute_percentage_error(test_targets, predicted_targets)\n",
    "  print(\"MAPE: \" + str(mape))\n",
    "\n",
    "  return mape\n",
    "\n",
    "\n",
    "\n",
    "\"\"\"\n",
    "This function gets the mean absolute error (MAE) for a regression model. \n",
    "\n",
    "Note that if the output is a number below 0, usually very big in magnitude, it is because \n",
    "some of the numbers in the test_targets are 0 or very close to 0, which gives a division by 0.\n",
    "\n",
    "@param test_targets : a Numpy array that represents the actual target values\n",
    "@param predicted_targets : a Numpy array that represents the predicted target values\n",
    "\n",
    "@returns the MAPE double/float value, which should be greater than or equal to 0\n",
    "\"\"\"\n",
    "def get_and_print_mae_for_model(test_targets, predicted_targets):\n",
    "  mae = sklearn.metrics.mean_absolute_error(test_targets, predicted_targets)\n",
    "  print(\"MAE: \" + str(mae))\n",
    "\n",
    "  return mae\n",
    "\n",
    "\n",
    "\n",
    "\"\"\"\n",
    "This functions plots the actual and predicted values as a line plot.\n",
    "\n",
    "@param indices : the x-values of the plot as a 1-column Numpy array\n",
    "@param test_targets : a 1-column Numpy array that represents the actual target values\n",
    "@param predicted_targets : a 1-column Numpy array that represents the predicted target values\n",
    "\"\"\"\n",
    "def plot_actual_and_predictions_line(x_val, test_targets, predicted_targets):\n",
    "  # fig = plt.figure(figsize=(12, 8))\n",
    "  # fig2 = plt.figure(figsize=(12, 8))\n",
    "  \n",
    "  # HR\n",
    "  fig = plt.figure(figsize=(12, 8))\n",
    "  plt.plot(x_val, test_targets[:, 0], label=\"Actual HR\", c=\"b\", linestyle=\"dashed\")\n",
    "  plt.plot(x_val, predicted_targets[:, 0], label=\"Predicted HR\", c=\"lightblue\", linestyle=\"dashed\")\n",
    "  plt.ylabel(\"HR Values\")\n",
    "  plt.title(\"Plot of Actual and Predicted Values - HR\")\n",
    "  plt.legend()\n",
    "\n",
    "  # # SPO2\n",
    "  # fig2 = plt.figure(figsize=(12, 8))\n",
    "  # plt.plot(x_val, test_targets[:, 1], label=\"Actual SPO2\", c=\"purple\")\n",
    "  # plt.plot(x_val, predicted_targets[:, 1], label=\"Predicted SPO2\", c=\"lavender\")\n",
    "  # plt.ylabel(\"SPO2 Values\")\n",
    "  # plt.title(\"Plot of Actual and Predicted Values - SPO2\")\n",
    "  # plt.legend()\n",
    "\n",
    "  # # NBP\n",
    "  # fig3 = plt.figure(figsize=(12, 8))\n",
    "  # plt.plot(x_val, test_targets[:, 2], label=\"Actual NBP\", c=\"g\")\n",
    "  # plt.plot(x_val, predicted_targets[:, 2], label=\"Predicted NBP\", c=\"lightgreen\")\n",
    "  # plt.ylabel(\"NBP Values\")\n",
    "  # plt.title(\"Plot of Actual and Predicted Values - NBP\")\n",
    "  # plt.legend()\n",
    "\n",
    "  # # ECG\n",
    "  # fig4 = plt.figure(figsize=(12, 8))\n",
    "  # plt.plot(x_val, test_targets[:, 3], label=\"Actual ECG\", c=\"r\")\n",
    "  # plt.plot(x_val, predicted_targets[:, 3], label=\"Predicted ECG\", c=\"pink\")\n",
    "  # plt.ylabel(\"ECG Values\")\n",
    "  # plt.title(\"Plot of Actual and Predicted Values - ECG\")\n",
    "  # plt.legend()\n",
    "\n",
    "  # plt.ylabel(\"Values\")\n",
    "  # plt.title(\"Plot of Actual and Predicted Values\")\n",
    "  # plt.legend()\n",
    "  plt.show()\n",
    "\n",
    "\n",
    "\n",
    "\"\"\"\n",
    "This functions plots the actual and predicted values as a scatter plot.\n",
    "\n",
    "@param indices : a 1-column Numpy array that represents x-values of the plot \n",
    "@param test_targets : a 1-column Numpy array that represents the actual target values\n",
    "@param predicted_targets : a 1-column Numpy array that represents the predicted target values\n",
    "\"\"\"\n",
    "def plot_actual_and_predictions_scatter(x_val, test_targets, predicted_targets):\n",
    "  fig = plt.figure(figsize=(12, 8))\n",
    "  plt.scatter(x_val, test_targets, label=\"Actual Values\", c=\"b\")\n",
    "  plt.scatter(x_val, predicted_targets, label=\"Predicted Values\", c=\"r\")\n",
    "\n",
    "  plt.ylabel(\"Value\")\n",
    "  plt.title(\"Plot of Actual and Predicted Values\")\n",
    "  plt.legend()\n",
    "\n",
    "\n",
    "\n",
    "\"\"\"\n",
    "This function makes a custom artificial neural network model.\n",
    "\n",
    "@param train_features : a Numpy array that represents the training data features\n",
    "@param train_labels : a Numpy array that represents the training data targets\n",
    "@param numOfUnits : a list that contains the number of units for each layer, which could be customized by providing different integers in the desired order. \n",
    "                    The size of the list should either be equal to 1 or numOfLayers. If size = 1, then all layers will have that number of units in the list.\n",
    "                    (eg. [4, 8, 16] if numOfLayers = 3, or [4] for any value of numOfLayers)\n",
    "@param numOfLayers : an integer that represents the desired of layers to add to the model \n",
    "@param epochNum : the number of iterations/epochs for running the model\n",
    "@param learning_rate : a double/float that represents the learning rate of the model\n",
    "\n",
    "@returns the artificial neural network TensorFlow model and the result from fitting the model\n",
    "\n",
    "\"\"\"\n",
    "def make_custom_ANN(train_features, train_labels, numOfUnits=[4], numOfLayers=3, batchNum=None, epochNum=100, learning_rate=0.01, min_delta=0.0007):\n",
    "  callback_valLoss = tf.keras.callbacks.EarlyStopping(monitor='val_loss', patience=1, min_delta=min_delta, mode='min', verbose=1)\n",
    "  callback_trainLoss = tf.keras.callbacks.EarlyStopping(monitor='loss', patience=1, min_delta=min_delta, mode='min', verbose=1)\n",
    "\n",
    "  # ann_model = tf.keras.Sequential()\n",
    "  limit = numOfLayers\n",
    "\n",
    "  if (len(numOfUnits) is not numOfLayers) and (len(numOfUnits) is not 1):\n",
    "    raise Exception(\"Invalid input for numOfUnits.\")\n",
    "  \n",
    "  for i in range(0, limit):\n",
    "    if len(numOfUnits) is numOfLayers:\n",
    "      numUnits = numOfUnits[i]\n",
    "    \n",
    "    else:\n",
    "      numUnits = numOfUnits[0]\n",
    "  \n",
    "  ann_model = tf.keras.models.Sequential([\n",
    "    tf.keras.layers.Normalization(axis=-1),\n",
    "    tf.keras.layers.Convolution1D(64, 3, activation='relu'), #add convolutional layer (filters, kernel size) \n",
    "    tf.keras.layers.Flatten(),\n",
    "    tf.keras.layers.Dense(units=512, activation=\"relu\"),\n",
    "    tf.keras.layers.Dense(units=512, activation=\"relu\"),\n",
    "    tf.keras.layers.Dense(units=512, activation=\"relu\"),\n",
    "    tf.keras.layers.Dense(1) # default activation is linear \n",
    "    ])\n",
    "\n",
    "  ann_model.compile(optimizer=tf.optimizers.Adam(learning_rate=learning_rate),\n",
    "                    loss='mean_squared_error', metrics=['accuracy'])\n",
    "  \n",
    "  ann_model_fit = ann_model.fit(train_features, train_labels, batch_size=batchNum, epochs=epochNum, validation_split=0.3, callbacks=[callback_valLoss, callback_trainLoss])\n",
    "  \n",
    "\n",
    "  return ann_model, ann_model_fit\n",
    "\n",
    "\n",
    "\"\"\"\n",
    "This function splits the training and test sets and turns a certain number of previous values as \"features\" and the next value as the \"target\"\n",
    "\n",
    "@param train_array : a Numpy array with at least 2 columns of the training set values\n",
    "@param test_array : a Numpy array with at least 2 columns of the test set values\n",
    "@param numOfPrevValues : an integer that represents the number of previous rows of values to use as features\n",
    "@param targetIndex : an integer that represents the column number to use for target values\n",
    "\n",
    "@returns four Numpy arrays for the previous values in the training set, the next 1 value in the training set, the previous values\n",
    "         in the test set, and the next 1 value in the test set\n",
    "\"\"\"\n",
    "def splitDataToFeaturesTargetValues(train_array, test_array, numOfPrevValues=3, targetIndex=1):\n",
    "\n",
    "  # prevData - features\n",
    "  # nextData - labels\n",
    "\n",
    "  prevData_train = []\n",
    "  nextData_train = [] \n",
    "  prevData_test = []\n",
    "  nextData_test = []\n",
    "\n",
    "  for i in range(numOfPrevValues, len(train_array)):\n",
    "    prevData_train.append(train_array[i-numOfPrevValues: i]) # append features as it's appending alls rows\n",
    "    nextData_train.append(train_array[i]) # append label as it's only the row at the target colun\n",
    "\n",
    "  # don't want to split test data this way\n",
    "  for j in range(numOfPrevValues, len(test_array)):\n",
    "    prevData_test.append(test_array[j-numOfPrevValues: j])\n",
    "    nextData_test.append(test_array[j])  \n",
    "\n",
    "  prevData_train = np.array(prevData_train)\n",
    "  nextData_train = np.array(nextData_train).reshape(len(nextData_train), 1)\n",
    "  print(\"TRAIN\")\n",
    "  print(f\"This is shape of train features array: {prevData_train.shape}\")\n",
    "  print(f\"This is shape of train labels array: {nextData_train.shape}\")\n",
    "\n",
    "  prevData_test = np.array(prevData_test)\n",
    "  nextData_test = np.array(nextData_test).reshape(len(nextData_test), 1) # used to be 1d array w many columns but one row, now it's many rows 1 column so it's a 2d array i think\n",
    "  print(\"TEST\")\n",
    "  print(f\"This is shape of test features array: {prevData_test.shape}\")\n",
    "  print(f\"This is shape of test labels array: {nextData_test.shape}\")\n",
    "\n",
    "  return prevData_train, nextData_train, prevData_test, nextData_test\n"
   ]
  },
  {
   "cell_type": "markdown",
   "metadata": {
    "id": "ezqbryrvCEqo"
   },
   "source": [
    "## Model Stuff"
   ]
  },
  {
   "cell_type": "code",
   "execution_count": null,
   "metadata": {
    "colab": {
     "base_uri": "https://localhost:8080/"
    },
    "executionInfo": {
     "elapsed": 30,
     "status": "ok",
     "timestamp": 1671646419968,
     "user": {
      "displayName": "Joanne Jo",
      "userId": "01049188753505025865"
     },
     "user_tz": 300
    },
    "id": "ht_auxeHCGem",
    "outputId": "c78fa50d-a1f4-4983-9bfa-b467461a0b15"
   },
   "outputs": [
    {
     "name": "stdout",
     "output_type": "stream",
     "text": [
      "        HR\n",
      "0   110.88\n",
      "1   113.92\n",
      "2   114.94\n",
      "3   115.91\n",
      "4   116.89\n",
      "5   116.13\n",
      "6   116.00\n",
      "7   115.18\n",
      "8   114.21\n",
      "9   114.00\n",
      "10  114.00\n",
      "11  114.00\n",
      "12  114.70\n",
      "13  115.00\n",
      "14  114.35\n",
      "15  114.00\n",
      "16  113.40\n",
      "17  112.42\n",
      "18  110.88\n",
      "19  109.47\n",
      "case 4 max: \n",
      "[141.]\n",
      "case 4 min: \n",
      "[70.]\n",
      "\n",
      "Original data train: \n",
      "[[0.61819718]\n",
      " [0.65673239]\n",
      " [0.66966197]\n",
      " [0.68195775]\n",
      " [0.69438028]\n",
      " [0.68474648]\n",
      " [0.68309859]\n",
      " [0.67270423]\n",
      " [0.66040845]\n",
      " [0.65774648]\n",
      " [0.65774648]\n",
      " [0.65774648]\n",
      " [0.66661972]\n",
      " [0.67042254]\n",
      " [0.6621831 ]\n",
      " [0.65774648]\n",
      " [0.65014085]\n",
      " [0.63771831]\n",
      " [0.61819718]\n",
      " [0.60032394]]\n",
      " Original test\n",
      "[[0.65992276]\n",
      " [0.65994948]\n",
      " [0.65972248]\n",
      " [0.64732625]\n",
      " [0.64735233]\n",
      " [0.65967395]\n",
      " [0.66007984]\n",
      " [0.6601052 ]\n",
      " [0.67153876]\n",
      " [0.67283122]\n",
      " [0.6728558 ]\n",
      " [0.67288011]\n",
      " [0.67290414]\n",
      " [0.67292787]\n",
      " [0.67295132]\n",
      " [0.67297445]\n",
      " [0.67299728]\n",
      " [0.6730198 ]\n",
      " [0.67304198]\n",
      " [0.67306384]]\n",
      " Here to see the size of each data: \n",
      "This is the size of the train data: \n",
      "(69154, 1)\n",
      "This is the size of the test data: \n",
      "(17289, 1)\n"
     ]
    }
   ],
   "source": [
    "# Scaling and splitting dataset, using R-Wave Voltages and SpO2 as features\n",
    "# pd.set_option(\"max_rows\", 1000)\n",
    "print(case4_filteredData.head(20))\n",
    "\n",
    "case4_filteredData_arr_scaled, minMaxScaler, minMaxScaleFactor, case4_filteredData_min, case4_filteredData_max = minMaxScaling(case4_filteredData)\n",
    "print(\"case 4 max: \"), print(case4_filteredData_max)\n",
    "print(\"case 4 min: \"), print(case4_filteredData_min)\n",
    "\n",
    "# Add more columns names if more health variables are added.\n",
    "case4_filteredData_scaled = pd.DataFrame(case4_filteredData_arr_scaled, columns=[\"HR\"])\n",
    "\n",
    "# print()\n",
    "# print(case4_filteredData_scaled[0:20])\n",
    "\n",
    "listOfVariables = [\"HR\"] # Add more columns names if more health variables are added.\n",
    "listOfVariables_len = len(listOfVariables) - 1 \n",
    "\n",
    "data_train, data_test = split_data_train_test(np.array(case4_filteredData_scaled[listOfVariables]), train_size=0.8) # scaled data\n",
    "\n",
    "print(\"\\nOriginal data train: \")\n",
    "print(data_train[0:20])\n",
    "\n",
    "print(\" Original test\")\n",
    "print(data_test[0:20])\n",
    "\n",
    "print(\" Here to see the size of each data: \")\n",
    "print(\"This is the size of the train data: \")\n",
    "print(data_train.shape)\n",
    "print(\"This is the size of the test data: \")\n",
    "print(data_test.shape)"
   ]
  },
  {
   "cell_type": "markdown",
   "metadata": {
    "id": "SDzSAjs7ByHy"
   },
   "source": [
    "##Artificial Neural Network Model for Using HR, SpO2, NBP (Mean), ECG to Predict HR"
   ]
  },
  {
   "cell_type": "code",
   "execution_count": null,
   "metadata": {
    "colab": {
     "base_uri": "https://localhost:8080/",
     "height": 1000
    },
    "executionInfo": {
     "elapsed": 2069319,
     "status": "ok",
     "timestamp": 1671648489267,
     "user": {
      "displayName": "Joanne Jo",
      "userId": "01049188753505025865"
     },
     "user_tz": 300
    },
    "id": "Rt6hvm7lCDh7",
    "outputId": "30f0e6dd-d9d0-45b0-93bb-ffe31bd4ef6a"
   },
   "outputs": [
    {
     "name": "stdout",
     "output_type": "stream",
     "text": [
      "TRAIN\n",
      "This is shape of train features array: (68154, 1000, 1)\n",
      "This is shape of train labels array: (68154, 1)\n",
      "TEST\n",
      "This is shape of test features array: (16289, 1000, 1)\n",
      "This is shape of test labels array: (16289, 1)\n",
      "Epoch 1/5000\n",
      "1491/1491 [==============================] - 510s 341ms/step - loss: 0.0101 - accuracy: 0.0000e+00 - val_loss: 0.0023 - val_accuracy: 0.0000e+00\n",
      "Epoch 2/5000\n",
      "1491/1491 [==============================] - 511s 343ms/step - loss: 0.0020 - accuracy: 0.0000e+00 - val_loss: 0.0013 - val_accuracy: 0.0000e+00\n",
      "Epoch 3/5000\n",
      "1491/1491 [==============================] - 510s 342ms/step - loss: 0.0013 - accuracy: 0.0000e+00 - val_loss: 9.5942e-04 - val_accuracy: 0.0000e+00\n",
      "Epoch 4/5000\n",
      "1491/1491 [==============================] - 511s 343ms/step - loss: 0.0010 - accuracy: 0.0000e+00 - val_loss: 9.0307e-04 - val_accuracy: 0.0000e+00\n",
      "Epoch 4: early stopping\n",
      "Model: \"sequential\"\n",
      "_________________________________________________________________\n",
      " Layer (type)                Output Shape              Param #   \n",
      "=================================================================\n",
      " normalization (Normalizatio  (None, 1000, 1)          3         \n",
      " n)                                                              \n",
      "                                                                 \n",
      " conv1d (Conv1D)             (None, 998, 64)           256       \n",
      "                                                                 \n",
      " flatten (Flatten)           (None, 63872)             0         \n",
      "                                                                 \n",
      " dense (Dense)               (None, 512)               32702976  \n",
      "                                                                 \n",
      " dense_1 (Dense)             (None, 512)               262656    \n",
      "                                                                 \n",
      " dense_2 (Dense)             (None, 512)               262656    \n",
      "                                                                 \n",
      " dense_3 (Dense)             (None, 1)                 513       \n",
      "                                                                 \n",
      "=================================================================\n",
      "Total params: 33,229,060\n",
      "Trainable params: 33,229,057\n",
      "Non-trainable params: 3\n",
      "_________________________________________________________________\n"
     ]
    },
    {
     "data": {
      "image/png": "[encoded data removed]",
      "text/plain": [
       "<Figure size 864x576 with 1 Axes>"
      ]
     },
     "metadata": {
      "needs_background": "light"
     },
     "output_type": "display_data"
    }
   ],
   "source": [
    "# Running the model for HR - artificial neural network\n",
    "\n",
    "data_train_features, data_train_label, data_test_features, data_test_label = splitDataToFeaturesTargetValues(data_train, data_test, numOfPrevValues=1000)\n",
    "\n",
    "# batch_num = int(len(data_train_label) / 1350)\n",
    "batch_num = None\n",
    "epochNum = 5000\n",
    "learn_rate = 0.000001\n",
    "numOfUnits_list = [512]\n",
    "\n",
    "ann_model_hr, ann_model_hr_fit = make_custom_ANN(data_train_features, data_train_label, numOfUnits=numOfUnits_list, batchNum=batch_num,\n",
    "                                           numOfLayers=3, epochNum=epochNum, learning_rate=learn_rate, min_delta=0.0001)\n",
    "\n",
    "plot_loss(ann_model_hr_fit, 0, epochNum)\n",
    "ann_model_hr.summary()"
   ]
  },
  {
   "cell_type": "code",
   "execution_count": null,
   "metadata": {
    "colab": {
     "base_uri": "https://localhost:8080/"
    },
    "executionInfo": {
     "elapsed": 209,
     "status": "ok",
     "timestamp": 1671648489273,
     "user": {
      "displayName": "Joanne Jo",
      "userId": "01049188753505025865"
     },
     "user_tz": 300
    },
    "id": "IQHUSHuqV9Gj",
    "outputId": "5e84d51f-9e2a-4faa-f392-2d32cbc956aa"
   },
   "outputs": [
    {
     "name": "stdout",
     "output_type": "stream",
     "text": [
      "(68154, 1000, 1)\n",
      "(16289, 1000, 1)\n",
      "[[[0.65992276]\n",
      "  [0.65994948]\n",
      "  [0.65972248]\n",
      "  ...\n",
      "  [0.50051094]\n",
      "  [0.50406746]\n",
      "  [0.50407478]]\n",
      "\n",
      " [[0.65994948]\n",
      "  [0.65972248]\n",
      "  [0.64732625]\n",
      "  ...\n",
      "  [0.50406746]\n",
      "  [0.50407478]\n",
      "  [0.50408221]]\n",
      "\n",
      " [[0.65972248]\n",
      "  [0.64732625]\n",
      "  [0.64735233]\n",
      "  ...\n",
      "  [0.50407478]\n",
      "  [0.50408221]\n",
      "  [0.50408975]]\n",
      "\n",
      " ...\n",
      "\n",
      " [[0.62103407]\n",
      "  [0.62952683]\n",
      "  [0.63370949]\n",
      "  ...\n",
      "  [0.8680863 ]\n",
      "  [0.86812517]\n",
      "  [0.8681645 ]]\n",
      "\n",
      " [[0.62952683]\n",
      "  [0.63370949]\n",
      "  [0.64156796]\n",
      "  ...\n",
      "  [0.86812517]\n",
      "  [0.8681645 ]\n",
      "  [0.86820428]]\n",
      "\n",
      " [[0.63370949]\n",
      "  [0.64156796]\n",
      "  [0.64638392]\n",
      "  ...\n",
      "  [0.8681645 ]\n",
      "  [0.86820428]\n",
      "  [0.86824452]]]\n",
      "[[0.50408221]\n",
      " [0.50408975]\n",
      " [0.5040974 ]\n",
      " ...\n",
      " [0.86820428]\n",
      " [0.86824452]\n",
      " [0.86828521]]\n"
     ]
    }
   ],
   "source": [
    "print(data_train_features.shape) # input shape into predictions\n",
    "print(data_test_features.shape)\n",
    "print(data_test_features)\n",
    "print(data_test_label)\n",
    "# print(\"This is the test predictions\",all_values)"
   ]
  },
  {
   "cell_type": "code",
   "execution_count": null,
   "metadata": {
    "colab": {
     "base_uri": "https://localhost:8080/",
     "height": 488
    },
    "executionInfo": {
     "elapsed": 153080,
     "status": "ok",
     "timestamp": 1671650249112,
     "user": {
      "displayName": "Joanne Jo",
      "userId": "01049188753505025865"
     },
     "user_tz": 300
    },
    "id": "ix3R-ePeUdlz",
    "outputId": "d7376def-ad17-4608-ea96-ad4f2c315788"
   },
   "outputs": [
    {
     "name": "stdout",
     "output_type": "stream",
     "text": [
      "\n",
      "For training set:\n",
      "\n",
      "2130/2130 [==============================] - 151s 71ms/step\n",
      "Shape of predictions BEFORE reshape: \n",
      "(68154, 1)\n",
      "[[0.3589976 ]\n",
      " [0.35873908]\n",
      " [0.3579944 ]\n",
      " ...\n",
      " [0.65946025]\n",
      " [0.66306967]\n",
      " [0.66422933]]\n",
      "RMSE:  0.031176949282109144\n",
      "R2 (Sklearn): 0.9687479299408869\n",
      "MAE: 0.02025448776314088\n",
      "MAPE: 0.03709705314974156\n"
     ]
    },
    {
     "data": {
      "image/png": "[encoded data removed]",
      "text/plain": [
       "<Figure size 864x576 with 1 Axes>"
      ]
     },
     "metadata": {
      "needs_background": "light"
     },
     "output_type": "display_data"
    },
    {
     "name": "stdout",
     "output_type": "stream",
     "text": [
      "\n",
      "After reversing the scaling:\n",
      "\n",
      "RMSE:  2.45951493859628\n",
      "R2 (Sklearn): 0.9687479286502662\n",
      "MAE: 1.597854193418637\n",
      "MAPE: 0.014470513844633085\n"
     ]
    },
    {
     "data": {
      "text/plain": [
       "0.014470513844633085"
      ]
     },
     "execution_count": 12,
     "metadata": {},
     "output_type": "execute_result"
    }
   ],
   "source": [
    "# Predicting with the model for HR - training set - ANN\n",
    "\n",
    "# making the predictions  -------------------------------------------------------------------------------------\n",
    "print(\"\\nFor training set:\\n\")\n",
    "predictions = ann_model_hr.predict(data_train_features)\n",
    "print(\"Shape of predictions BEFORE reshape: \"), print(predictions.shape)\n",
    "print(predictions)\n",
    "\n",
    "# reshape into 2d array? into the shape of the train features which is 3d\n",
    "# predictions = predictions.reshape(data_train_features.shape[0], data_train_features.shape[1], data_train_features.shape[2]) # current shape is (length, numOfPrevValues, 1) - new shape (length, numOfPrevValues, 4)\n",
    "# predictions = predictions[:, 0] # getting values for the next time step (t) and not (t+1, t+2, or t+3)\n",
    "# predictions = np.reshape(predictions, newshape=(len(predictions), 1))\n",
    "\n",
    "# plotting accuracies and losses -------------------------------------------------------------------------------\n",
    "get_and_print_rmse_for_model(data_train_label, predictions)\n",
    "get_and_print_R2_for_model(data_train_label, predictions)\n",
    "get_and_print_mae_for_model(data_train_label, predictions)\n",
    "get_and_print_mape_for_model(data_train_label, predictions)\n",
    "\n",
    "plot_actual_and_predictions_line(np.arange(0, len(data_train_label)), data_train_label, predictions)\n",
    "# plot_actual_and_predictions_scatter(np.arange(0, len(data_train_label)), data_train_label, predictions)\n",
    "\n",
    "print(\"\\nAfter reversing the scaling:\\n\")\n",
    "\n",
    "# For if MinMaxScaler was used; change the column number/index to get the values for other health variables\n",
    "predictions_reversed = ((predictions - 0.1) / (1 - 0.1)) * (case4_filteredData_max[0] - case4_filteredData_min[0]) + case4_filteredData_min[0]\n",
    "data_train_label_reversed = ((data_train_label - 0.1) / (1 - 0.1)) * (case4_filteredData_max[0] - case4_filteredData_min[0]) + case4_filteredData_min[0]\n",
    "# data_train_features_reversed = ((data_train_features - 0.1) / (1 - 0.1)) * (combinedData_max[0] - combinedData_min[0]) + combinedData_min[0]\n",
    "\n",
    "# For if standard scaling was used; change the column number/index to get the values for other health variables\n",
    "# predictions_reversed = predictions * combinedData_stdDev[1] + combinedData_mean[1]\n",
    "# data_train_label_reversed = data_train_label * combinedData_stdDev[1] + combinedData_mean[1]\n",
    "# data_train_features_reversed = data_train_features * combinedData_stdDev[0] + combinedData_mean[0]\n",
    "\n",
    "get_and_print_rmse_for_model(data_train_label_reversed, predictions_reversed)\n",
    "get_and_print_R2_for_model(data_train_label_reversed, predictions_reversed)\n",
    "get_and_print_mae_for_model(data_train_label_reversed, predictions_reversed)\n",
    "get_and_print_mape_for_model(data_train_label_reversed, predictions_reversed)\n"
   ]
  },
  {
   "cell_type": "code",
   "execution_count": null,
   "metadata": {
    "id": "GJiRVUNpc-1W"
   },
   "outputs": [],
   "source": [
    "# Predicting with the model for HR - test set - ANN ---------------- NEW METHOD\n",
    "\n",
    "print(\"\\nFor testing set:\\n\")\n",
    "\n",
    "# set initial values\n",
    "numOfPrevValues = 1000\n",
    "batch = []\n",
    "all_values = []\n",
    "\n",
    "# ALL IMPLEMENTED INTO THE LOOP\n",
    "for i in range(0, len(data_test_features) - numOfPrevValues):\n",
    "  print(i)\n",
    "  # 1. set the batch accordingly\n",
    "  if i == 0:\n",
    "    # only first batch comes from data_test features\n",
    "    batch = data_test_features[0]\n",
    "    all_values = batch\n",
    "  else:\n",
    "    batch = all_values[i:]\n",
    "\n",
    "  # 2. reshape the batch\n",
    "  # old shape (2d) - (27,4)\n",
    "  # new shape (3d) - (1,27,4) - need to be 3d because shape of model input is also 3d \n",
    "  batch = batch.reshape(1, data_test_features[0].shape[0], data_test_features[0].shape[1])\n",
    "\n",
    "  # 3. make the prediction\n",
    "  predicted_val = ann_model_hr.predict(batch)\n",
    "  # revert reshaping to 2d\n",
    "  batch = batch.reshape(data_test_features[0].shape[0], data_test_features[0].shape[1])\n",
    "\n",
    "  # 4. append to all values array\n",
    "  # all_values = batch\n",
    "  all_values = np.append(all_values, [predicted_val[0]], axis=0)\n",
    "  all_values = np.array(all_values)\n",
    "\n",
    "  # 5. print everything\n",
    "  print(f\"LOOP #{i}:\")\n",
    "  print(f\"Batch {i} shape: {batch.shape}\")\n",
    "  # print(batch)\n",
    "  print(f\"Predicted {i} shape: {predicted_val.shape}\")\n",
    "  # print(predicted_val)\n",
    "  print(f\"All predicted values shape: {all_values.shape}\")\n",
    "  # print(all_values)\n"
   ]
  },
  {
   "cell_type": "code",
   "execution_count": null,
   "metadata": {
    "id": "T-hnoExecn9l"
   },
   "outputs": [],
   "source": [
    "# Predicting with the model for HR - test set - ANN - OLD METHOD DON'T USE\n",
    "\n",
    "# print(\"\\nFor testing set:\\n\")\n",
    "\n",
    "# predictions = ann_model_hr.predict(data_test_features)\n",
    "\n",
    "# predictions = predictions.reshape(data_test_features.shape[0], data_test_features.shape[1]) # current shape is (length, numOfPrevValues, 1)\n",
    "# predictions = predictions[:, 0] # getting values for the next time step (t) and not (t+1, t+2, or t+3)\n",
    "# predictions = np.reshape(predictions, newshape=(len(predictions), 1))\n",
    "# predictions[predictions > 1.0] = 1.0\n",
    "\n",
    "get_and_print_rmse_for_model(data_test_label, all_values)\n",
    "get_and_print_R2_for_model(data_test_label, all_values)\n",
    "get_and_print_mae_for_model(data_test_label, all_values)\n",
    "get_and_print_mape_for_model(data_test_label, all_values)\n",
    "\n",
    "plot_actual_and_predictions_line(np.arange(0, len(data_test_label)), data_test_label, all_values)\n",
    "# plot_actual_and_predictions_scatter(np.arange(0, len(data_test_label)), data_test_label, all_values)\n",
    "\n",
    "# # this function won't plot properly if there are more than 3 variables in the model\n",
    "# plot_model_data3D(data_test_features[:, :, 0][:, 0].flatten(), data_test_features[:, :, 2][:, 0].flatten(), data_test_features[:, :, 1][:, 0].flatten(),\n",
    "#                  predictions.flatten(), \"R-Wave Voltages\", \"SpO2\", \"HR\") \n",
    "\n",
    "# column 1 for HR values, 0 for ECG R-Wave Voltages\n",
    "print(\"\\nAfter reversing the scaling: \\n\")\n",
    "\n",
    "# For if MinMaxScaler was used; change the column number/index to get the values for other health variables\n",
    "predictions_reversed = ((all_values - 0.1) / (1 - 0.1)) * (case4_filteredData_max[0] - case4_filteredData_max[0]) + case4_filteredData_max[0]\n",
    "data_test_label_reversed = ((data_test_label - 0.1) / (1 - 0.1)) * (case4_filteredData_max[0] - case4_filteredData_max[0]) + case4_filteredData_max[0]\n",
    "# data_test_features_reversed = ((data_test_features - 0.1) / (1 - 0.1)) * (combinedData_max[0] - combinedData_min[0]) + combinedData_min[0]\n",
    "# predictions_reversed[predictions_reversed > 100] = 100\n",
    "\n",
    "# For if standard scaling was used; change the column number/index to get the values for other health variables\n",
    "# predictions_reversed = predictions * combinedData_stdDev[1] + combinedData_mean[1]\n",
    "# data_test_label_reversed = data_test_label * combinedData_stdDev[1] + combinedData_mean[1]\n",
    "# data_test_features_reversed = data_test_features * combinedData_stdDev[0] + combinedData_mean[0]\n",
    "\n",
    "get_and_print_rmse_for_model(data_test_label_reversed, predictions_reversed)\n",
    "get_and_print_R2_for_model(data_test_label_reversed, predictions_reversed)\n",
    "get_and_print_mae_for_model(data_test_label_reversed, predictions_reversed)\n",
    "get_and_print_mape_for_model(data_test_label_reversed, predictions_reversed)"
   ]
  },
  {
   "cell_type": "markdown",
   "metadata": {
    "id": "IZ0Bo5V27-cb"
   },
   "source": [
    "#plotting results \n"
   ]
  },
  {
   "cell_type": "code",
   "execution_count": null,
   "metadata": {
    "id": "n6kxVeXNVvCe"
   },
   "outputs": [],
   "source": [
    "#Plotting results\n",
    "\n",
    "#HR\n",
    "fig = plt.figure(figsize=(12, 8))\n",
    "xtrain_set = np.arange(0, len(data_train_features))\n",
    "ytrain_set = np.array(data_train_label[:,0])\n",
    "plt.plot(xtrain_set, ytrain_set, 'b', label=\"Actual Train\")\n",
    "\n",
    "xtest_set = np.arange(len(data_train_features),len(data_train_features) + len(data_test_features))\n",
    "ytest_set = np.array(data_test_label[:,0])\n",
    "plt.plot(xtest_set, ytest_set, 'r', label=\"Actual Test\")\n",
    "\n",
    "pred_train_sig = np.array(predictions[:,0])\n",
    "plt.plot(xtrain_set, pred_train_sig, 'orange', label=\"Predicted Train\", linestyle=\"dotted\")\n",
    "\n",
    "pred_test_sig = np.array(all_values[:,0])\n",
    "plt.plot(xtest_set, pred_test_sig,'green', label=\"Predicted Test\", linestyle=\"dotted\")\n",
    "plt.title(\"Heart Rate (HR)\")\n",
    "plt.legend()\n",
    "plt.show()\n",
    "\n",
    "\n",
    "\n",
    "# #SpO2\n",
    "# fig = plt.figure(figsize=(12, 8))\n",
    "# xtrain_set = np.arange(0, len(data_train_features))\n",
    "# ytrain_set = np.array(data_train_label[:,1])\n",
    "# plt.plot(xtrain_set, ytrain_set, 'b', label=\"Actual Train\")\n",
    "\n",
    "# xtest_set = np.arange(len(data_train_features),len(data_train_features) + len(data_test_features))\n",
    "# ytest_set = np.array(data_test_label[:,1])\n",
    "# plt.plot(xtest_set, ytest_set, 'r', label=\"Actual Test\")\n",
    "\n",
    "# pred_train_sig = np.array(predictions[:,1])\n",
    "# plt.plot(xtrain_set, pred_train_sig, 'orange', label=\"Predicted Train\", linestyle=\"dotted\")\n",
    "\n",
    "# pred_test_sig = np.array(all_values[:,1])\n",
    "# plt.plot(xtest_set, pred_test_sig,'green', label=\"Predicted Test\", linestyle=\"dotted\")\n",
    "# plt.title(\"SpO2\")\n",
    "# plt.legend()\n",
    "# plt.show()\n",
    "\n",
    "\n",
    "\n",
    "\n",
    "\n",
    "# #NBP\n",
    "# fig = plt.figure(figsize=(12, 8))\n",
    "# xtrain_set = np.arange(0, len(data_train_features))\n",
    "# ytrain_set = np.array(data_train_label[:,2])\n",
    "# plt.plot(xtrain_set, ytrain_set, 'b', label=\"Actual Train\")\n",
    "\n",
    "# xtest_set = np.arange(len(data_train_features),len(data_train_features) + len(data_test_features))\n",
    "# ytest_set = np.array(data_test_label[:,2])\n",
    "# plt.plot(xtest_set, ytest_set, 'r', label=\"Actual Test\")\n",
    "\n",
    "# pred_train_sig = np.array(predictions[:,2])\n",
    "# plt.plot(xtrain_set, pred_train_sig, 'orange', label=\"Predicted Train\", linestyle=\"dotted\")\n",
    "\n",
    "# pred_test_sig = np.array(all_values[:,2])\n",
    "# plt.plot(xtest_set, pred_test_sig,'green', label=\"Predicted Test\", linestyle=\"dotted\")\n",
    "# plt.title(\"NBP\")\n",
    "# plt.legend()\n",
    "# plt.show()\n",
    "\n",
    "\n",
    "\n",
    "\n",
    "\n",
    "# #ECG\n",
    "# fig = plt.figure(figsize=(12, 8))\n",
    "# xtrain_set = np.arange(0, len(data_train_features))\n",
    "# ytrain_set = np.array(data_train_label[:,3])\n",
    "# plt.plot(xtrain_set, ytrain_set, 'b', label=\"Actual Train\")\n",
    "\n",
    "# xtest_set = np.arange(len(data_train_features),len(data_train_features) + len(data_test_features))\n",
    "# ytest_set = np.array(data_test_label[:,3])\n",
    "# plt.plot(xtest_set, ytest_set, 'r', label=\"Actual Test\")\n",
    "\n",
    "# pred_train_sig = np.array(predictions[:,3])\n",
    "# plt.plot(xtrain_set, pred_train_sig, 'orange', label=\"Predicted Train\", linestyle=\"dotted\")\n",
    "\n",
    "# pred_test_sig = np.array(all_values[:,3])\n",
    "# plt.plot(xtest_set, pred_test_sig,'green', label=\"Predicted Test\", linestyle=\"dotted\")\n",
    "# plt.title(\"ECG\")\n",
    "# plt.legend()\n",
    "# plt.show()"
   ]
  }
 ],
 "metadata": {
  "colab": {
   "provenance": [
    {
     "file_id": "1-cdfxszYM6yUekbDX7y_AJZmOKeWCyvH",
     "timestamp": 1671461931140
    },
    {
     "file_id": "1Shwqhd1Qt8JHUgztCgsEN-HqNSDtYZwP",
     "timestamp": 1670774373165
    },
    {
     "file_id": "1tMZTQqKPUtp6dcaU-lGqqhSK__dWbf8C",
     "timestamp": 1669662562932
    }
   ]
  },
  "kernelspec": {
   "display_name": "Python 3 (ipykernel)",
   "language": "python",
   "name": "python3"
  },
  "language_info": {
   "codemirror_mode": {
    "name": "ipython",
    "version": 3
   },
   "file_extension": ".py",
   "mimetype": "text/x-python",
   "name": "python",
   "nbconvert_exporter": "python",
   "pygments_lexer": "ipython3",
   "version": "3.9.13"
  }
 },
 "nbformat": 4,
 "nbformat_minor": 1
}
