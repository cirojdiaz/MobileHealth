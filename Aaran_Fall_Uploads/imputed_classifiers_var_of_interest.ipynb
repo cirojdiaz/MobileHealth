{
 "cells": [
  {
   "cell_type": "code",
   "execution_count": 1,
   "metadata": {},
   "outputs": [],
   "source": [
    "#import libraries\n",
    "import pandas as pd\n",
    "import numpy as np\n",
    "from sklearn.ensemble import AdaBoostClassifier\n",
    "from sklearn.ensemble import BaggingClassifier\n",
    "from sklearn.naive_bayes import BernoulliNB\n",
    "from sklearn.calibration import CalibratedClassifierCV\n",
    "from sklearn.naive_bayes import CategoricalNB\n",
    "from sklearn.multioutput import ClassifierChain\n",
    "from sklearn.naive_bayes import ComplementNB\n",
    "from sklearn.tree import DecisionTreeClassifier\n",
    "from sklearn.dummy import DummyClassifier\n",
    "from sklearn.tree import ExtraTreeClassifier\n",
    "from sklearn.ensemble import ExtraTreesClassifier\n",
    "from sklearn.naive_bayes import GaussianNB\n",
    "from sklearn.gaussian_process import GaussianProcessClassifier\n",
    "from sklearn.ensemble import GradientBoostingClassifier\n",
    "from sklearn.ensemble import HistGradientBoostingClassifier\n",
    "from sklearn.neighbors import KNeighborsClassifier\n",
    "from sklearn.semi_supervised import LabelPropagation\n",
    "from sklearn.semi_supervised import LabelSpreading\n",
    "from sklearn.discriminant_analysis import LinearDiscriminantAnalysis\n",
    "from sklearn.svm import LinearSVC\n",
    "from sklearn.linear_model import LogisticRegression\n",
    "from sklearn.linear_model import LogisticRegressionCV\n",
    "from sklearn.neural_network import MLPClassifier\n",
    "from sklearn.multioutput import MultiOutputClassifier\n",
    "from sklearn.naive_bayes import MultinomialNB\n",
    "from sklearn.neighbors import NearestCentroid\n",
    "from sklearn.svm import NuSVC\n",
    "from sklearn.multiclass import OneVsOneClassifier\n",
    "from sklearn.multiclass import OneVsRestClassifier\n",
    "from sklearn.multiclass import OutputCodeClassifier\n",
    "from sklearn.linear_model import PassiveAggressiveClassifier\n",
    "from sklearn.linear_model import Perceptron\n",
    "from sklearn.discriminant_analysis import QuadraticDiscriminantAnalysis\n",
    "from sklearn.neighbors import RadiusNeighborsClassifier\n",
    "from sklearn.ensemble import RandomForestClassifier\n",
    "from sklearn.linear_model import RidgeClassifier\n",
    "from sklearn.linear_model import RidgeClassifierCV\n",
    "from sklearn.linear_model import SGDClassifier\n",
    "from sklearn.svm import SVC\n",
    "from sklearn.ensemble import StackingClassifier\n",
    "from sklearn.ensemble import VotingClassifier\n",
    "from sklearn.metrics import accuracy_score,classification_report\n",
    "import sklearn.impute as imputers\n",
    "from sklearn.model_selection import StratifiedKFold\n",
    "import warnings\n",
    "warnings.filterwarnings(\"ignore\")"
   ]
  },
  {
   "cell_type": "code",
   "execution_count": 4,
   "metadata": {},
   "outputs": [
    {
     "name": "stdout",
     "output_type": "stream",
     "text": [
      "41\n"
     ]
    }
   ],
   "source": [
    "from sklearn.utils import all_estimators\n",
    "estimators = all_estimators(type_filter='classifier')\n",
    "classification_estimators = []\n",
    "i = 1\n",
    "for name, class_ in estimators:\n",
    "    classification_estimators.append(class_.__name__)\n",
    "print(len(classification_estimators))"
   ]
  },
  {
   "cell_type": "code",
   "execution_count": 2,
   "metadata": {},
   "outputs": [
    {
     "data": {
      "text/plain": [
       "1    62257\n",
       "0    21063\n",
       "Name: PostCond, dtype: int64"
      ]
     },
     "execution_count": 2,
     "metadata": {},
     "output_type": "execute_result"
    }
   ],
   "source": [
    "#load data\n",
    "df = pd.read_csv('var_of_interest.csv')\n",
    "X = df.iloc[:, :-1].values\n",
    "y = df.iloc[:, -1].values\n",
    "df.head()\n",
    "df[\"PostCond\"].value_counts()"
   ]
  },
  {
   "cell_type": "code",
   "execution_count": 4,
   "metadata": {},
   "outputs": [],
   "source": [
    "# #Splitting the dataset into the Training set and Test set\n",
    "# from sklearn.model_selection import train_test_split\n",
    "# X_train, X_test, y_train, y_test = train_test_split(X, y, test_size = 0.25, random_state = 0)"
   ]
  },
  {
   "cell_type": "code",
   "execution_count": 5,
   "metadata": {},
   "outputs": [],
   "source": [
    "skf = StratifiedKFold(n_splits = 10, shuffle=True, random_state=42)\n",
    "\n",
    "indices = skf.split(X, y)\n",
    "X_train = dict()\n",
    "y_train = dict()\n",
    "X_test = dict()\n",
    "y_test = dict()\n",
    "cnt = 0\n",
    "from sklearn.preprocessing import StandardScaler\n",
    "\n",
    "for train_i, test_i in indices:\n",
    "    X_train_i = X[train_i]\n",
    "    X_test_i = X[test_i]\n",
    "    y_train_i = y[train_i]\n",
    "    y_test_i = y[test_i]\n",
    "\n",
    "    sc1 = StandardScaler()\n",
    "    imputer = imputers.IterativeImputer(random_state=42)\n",
    "    \n",
    "    X_train_i = imputer.fit_transform(X_train_i)\n",
    "    X_train_i = sc1.fit_transform(X_train_i)\n",
    "    X_test_i = imputer.transform(X_test_i)\n",
    "    X_test_i = sc1.transform(X_test_i)\n",
    "    \n",
    "    X_train[cnt] = X_train_i\n",
    "    X_test[cnt] = X_test_i\n",
    "    y_train[cnt] = y_train_i\n",
    "    y_test[cnt] = y_test_i\n",
    "\n",
    "    cnt += 1\n"
   ]
  },
  {
   "cell_type": "code",
   "execution_count": 5,
   "metadata": {},
   "outputs": [],
   "source": [
    "# #Scaling the Dataset\n",
    "# from sklearn.preprocessing import StandardScaler\n",
    "# sc1 = StandardScaler()\n",
    "# sc2 = StandardScaler()\n",
    "# imputer = imputers.IterativeImputer(random_state=42)\n",
    "# # X_train = sc1.fit_transform(X_train)\n",
    "# X_train = imputer.fit_transform(X_train)\n",
    "# X_train = sc2.fit_transform(X_train)\n",
    "# # X_test = sc1.transform(X_test)\n",
    "# X_test = imputer.transform(X_test)\n",
    "# X_test = sc2.transform(X_test)"
   ]
  },
  {
   "cell_type": "code",
   "execution_count": 6,
   "metadata": {},
   "outputs": [],
   "source": [
    "models=[AdaBoostClassifier,BaggingClassifier,BernoulliNB,CalibratedClassifierCV,DecisionTreeClassifier,DummyClassifier,\n",
    "        ExtraTreeClassifier,ExtraTreesClassifier,GaussianNB,GradientBoostingClassifier,HistGradientBoostingClassifier,KNeighborsClassifier,\n",
    "        LinearDiscriminantAnalysis,LinearSVC,LogisticRegression,LogisticRegressionCV,MLPClassifier,\n",
    "        NearestCentroid,PassiveAggressiveClassifier,Perceptron,QuadraticDiscriminantAnalysis,\n",
    "        RandomForestClassifier,RidgeClassifier,RidgeClassifierCV,SGDClassifier,SVC] \n",
    "\n",
    "cross_val_models = dict()\n",
    "for i in range(10):\n",
    "        cross_val_models[i] = list()\n",
    "        for model in models:\n",
    "                cross_val_models[i].append(model)\n",
    "            \n",
    "#CategoricalNB\n",
    "#ClassifierChain\n",
    "#ComplementNB\n",
    "#GaussianProcessClassifier\n",
    "#LabelPropagation\n",
    "#LabelSpreading\n",
    "#MultinomialNB\n",
    "#NuSVC\n",
    "#OneVsOneClassifier\n",
    "#OneVsRestClassifier,\n",
    "#OutputCodeClassifier\n",
    "#RadiusNeighborsClassifier\n",
    "#StackingClassifier\n",
    "#VotingClassifier"
   ]
  },
  {
   "cell_type": "code",
   "execution_count": 7,
   "metadata": {},
   "outputs": [
    {
     "name": "stdout",
     "output_type": "stream",
     "text": [
      "model : <class 'sklearn.ensemble._weight_boosting.AdaBoostClassifier'> and  accuracy score is : 0.50022, recall: 0.99921, precision: 0.74727, f1: 0.85508\n",
      "model : <class 'sklearn.ensemble._bagging.BaggingClassifier'> and  accuracy score is : 0.55799, recall: 0.8593500000000001, precision: 0.77361, f1: 0.81424\n",
      "model : <class 'sklearn.naive_bayes.BernoulliNB'> and  accuracy score is : 0.5, recall: 1.0, precision: 0.74717, f1: 0.8553\n",
      "model : <class 'sklearn.calibration.CalibratedClassifierCV'> and  accuracy score is : 0.50015, recall: 0.99978, precision: 0.7472599999999999, f1: 0.8552799999999999\n",
      "model : <class 'sklearn.tree._classes.DecisionTreeClassifier'> and  accuracy score is : 0.54592, recall: 0.75203, precision: 0.77101, f1: 0.76139\n",
      "model : <class 'sklearn.dummy.DummyClassifier'> and  accuracy score is : 0.5, recall: 1.0, precision: 0.74717, f1: 0.8553\n",
      "model : <class 'sklearn.tree._classes.ExtraTreeClassifier'> and  accuracy score is : 0.55238, recall: 0.75996, precision: 0.77418, f1: 0.76701\n",
      "model : <class 'sklearn.ensemble._forest.ExtraTreesClassifier'> and  accuracy score is : 0.57102, recall: 0.96797, precision: 0.77599, f1: 0.86142\n",
      "model : <class 'sklearn.naive_bayes.GaussianNB'> and  accuracy score is : 0.53558, recall: 0.7141, precision: 0.76723, f1: 0.73733\n",
      "model : <class 'sklearn.ensemble._gb.GradientBoostingClassifier'> and  accuracy score is : 0.5006200000000001, recall: 0.99942, precision: 0.74743, f1: 0.85525\n",
      "model : <class 'sklearn.ensemble._hist_gradient_boosting.gradient_boosting.HistGradientBoostingClassifier'> and  accuracy score is : 0.50342, recall: 0.9962799999999999, precision: 0.7484999999999999, f1: 0.8548\n",
      "model : <class 'sklearn.neighbors._classification.KNeighborsClassifier'> and  accuracy score is : 0.53443, recall: 0.89549, precision: 0.76202, f1: 0.82339\n",
      "model : <class 'sklearn.discriminant_analysis.LinearDiscriminantAnalysis'> and  accuracy score is : 0.50014, recall: 0.99973, precision: 0.74725, f1: 0.85525\n",
      "model : <class 'sklearn.svm._classes.LinearSVC'> and  accuracy score is : 0.5, recall: 0.99996, precision: 0.74718, f1: 0.8553\n",
      "model : <class 'sklearn.linear_model._logistic.LogisticRegression'> and  accuracy score is : 0.50012, recall: 0.9997900000000001, precision: 0.74724, f1: 0.85527\n",
      "model : <class 'sklearn.linear_model._logistic.LogisticRegressionCV'> and  accuracy score is : 0.49998, recall: 0.99996, precision: 0.74717, f1: 0.8553\n",
      "model : <class 'sklearn.neural_network._multilayer_perceptron.MLPClassifier'> and  accuracy score is : 0.51522, recall: 0.96911, precision: 0.75318, f1: 0.8476\n",
      "model : <class 'sklearn.neighbors._nearest_centroid.NearestCentroid'> and  accuracy score is : 0.54686, recall: 0.5559000000000001, precision: 0.78045, f1: 0.64929\n",
      "model : <class 'sklearn.linear_model._passive_aggressive.PassiveAggressiveClassifier'> and  accuracy score is : 0.51397, recall: 0.73, precision: 0.75466, f1: 0.73968\n",
      "model : <class 'sklearn.linear_model._perceptron.Perceptron'> and  accuracy score is : 0.50861, recall: 0.69591, precision: 0.75189, f1: 0.72127\n",
      "model : <class 'sklearn.discriminant_analysis.QuadraticDiscriminantAnalysis'> and  accuracy score is : 0.51695, recall: 0.44599, precision: 0.76259, f1: 0.54875\n",
      "model : <class 'sklearn.ensemble._forest.RandomForestClassifier'> and  accuracy score is : 0.53789, recall: 0.98433, precision: 0.76203, f1: 0.85904\n",
      "model : <class 'sklearn.linear_model._ridge.RidgeClassifier'> and  accuracy score is : 0.49999, recall: 0.99994, precision: 0.74718, f1: 0.8553\n",
      "model : <class 'sklearn.linear_model._ridge.RidgeClassifierCV'> and  accuracy score is : 0.49999, recall: 0.99994, precision: 0.74718, f1: 0.8553\n",
      "model : <class 'sklearn.linear_model._stochastic_gradient.SGDClassifier'> and  accuracy score is : 0.49999, recall: 0.99998, precision: 0.74717, f1: 0.8553\n"
     ]
    }
   ],
   "source": [
    "#Fitting the Model\n",
    "from statistics import mean\n",
    "from sklearn.metrics import balanced_accuracy_score, recall_score, precision_score, f1_score\n",
    "model_accuracies =[]\n",
    "model_recalls = []\n",
    "model_precisions = []\n",
    "model_f1 = []\n",
    "\n",
    "for i in range(len(models)):\n",
    "    accuracies = list()\n",
    "    recalls = list()\n",
    "    precisions = list()\n",
    "    f1 = list()\n",
    "    for k in X_train.keys():\n",
    "        model = cross_val_models[k][i]()\n",
    "        model.fit(X_train[k], y_train[k])\n",
    "        y_pred= model.predict(X_test[k])\n",
    "        accuracies.append(round(balanced_accuracy_score(y_test[k], y_pred),4))\n",
    "        recalls.append(round(recall_score(y_test[k], y_pred), 4))\n",
    "        precisions.append(round(precision_score(y_test[k], y_pred), 4))\n",
    "        f1.append(round(f1_score(y_test[k], y_pred), 4))\n",
    "\n",
    "    model_accuracies.append(mean(accuracies))\n",
    "    model_recalls.append(mean(recalls))\n",
    "    model_precisions.append(mean(precisions))\n",
    "    model_f1.append(mean(f1))\n",
    "\n",
    "    print (f'model : {models[i]} and  accuracy score is : {mean(accuracies)}, recall: {mean(recalls)}, precision: {mean(precisions)}, f1: {mean(f1)}')\n",
    "    \n",
    "result_df1 = pd.DataFrame({'Accuracy':model_accuracies, 'Recall':model_recalls, 'Precision':model_precisions, 'f1':model_f1}, index=models)\n",
    "result_df1"
   ]
  }
 ],
 "metadata": {
  "kernelspec": {
   "display_name": "tensorflow",
   "language": "python",
   "name": "python3"
  },
  "language_info": {
   "codemirror_mode": {
    "name": "ipython",
    "version": 3
   },
   "file_extension": ".py",
   "mimetype": "text/x-python",
   "name": "python",
   "nbconvert_exporter": "python",
   "pygments_lexer": "ipython3",
   "version": "3.10.8 | packaged by conda-forge | (main, Nov 22 2022, 08:25:29) [Clang 14.0.6 ]"
  },
  "orig_nbformat": 4,
  "vscode": {
   "interpreter": {
    "hash": "09f61af4f65d4634c17b8a51ddf1eb855b373cdae4e53182aef1e6aee687f5e7"
   }
  }
 },
 "nbformat": 4,
 "nbformat_minor": 2
}
