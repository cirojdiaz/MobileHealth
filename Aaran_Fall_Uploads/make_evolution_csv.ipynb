{
 "cells": [
  {
   "cell_type": "code",
   "execution_count": 3,
   "metadata": {},
   "outputs": [],
   "source": [
    "import pandas as pd\n",
    "import os\n",
    "import numpy as np\n",
    "import tools\n",
    "import sklearn.impute as imputers"
   ]
  },
  {
   "cell_type": "code",
   "execution_count": 4,
   "metadata": {},
   "outputs": [
    {
     "ename": "AttributeError",
     "evalue": "module 'sklearn.impute' has no attribute 'IterativeImputer'",
     "output_type": "error",
     "traceback": [
      "\u001b[0;31m---------------------------------------------------------------------------\u001b[0m",
      "\u001b[0;31mAttributeError\u001b[0m                            Traceback (most recent call last)",
      "Cell \u001b[0;32mIn[4], line 9\u001b[0m\n\u001b[1;32m      7\u001b[0m labels \u001b[39m=\u001b[39m \u001b[39mdict\u001b[39m()\n\u001b[1;32m      8\u001b[0m labels[\u001b[39m\"\u001b[39m\u001b[39mPostCond\u001b[39m\u001b[39m\"\u001b[39m] \u001b[39m=\u001b[39m df[\u001b[39m\"\u001b[39m\u001b[39mPostCond\u001b[39m\u001b[39m\"\u001b[39m]\n\u001b[0;32m----> 9\u001b[0m imputer \u001b[39m=\u001b[39m imputers\u001b[39m.\u001b[39;49mIterativeImputer(random_state\u001b[39m=\u001b[39m\u001b[39m42\u001b[39m)\n\u001b[1;32m     10\u001b[0m X \u001b[39m=\u001b[39m imputer\u001b[39m.\u001b[39mfit_transform(X)\n\u001b[1;32m     11\u001b[0m imputed_X_df \u001b[39m=\u001b[39m pd\u001b[39m.\u001b[39mDataFrame(X, columns\u001b[39m=\u001b[39mcol_names)\n",
      "\u001b[0;31mAttributeError\u001b[0m: module 'sklearn.impute' has no attribute 'IterativeImputer'"
     ]
    }
   ],
   "source": [
    "os.chdir(\"/Users/aaran/MHA_Upload_my_changes/Duke_Dataset\")\n",
    "\n",
    "df = pd.read_csv('var_of_interest_updated.csv')\n",
    "trends = tools.return_trends(df, [[2], [3], [4], [5], [6], [7], [8], [9], [10], [11], [12], [13]], [\"DIASBP_R\", \"PULSE_R\", \"SYSBP_R\", \"WEIGHT_R\", \"CREATININE_R\", \"HDL_R\", \"LDL_R\", \"TOTCHOL_R\"])\n",
    "X = df.drop(labels=[\"PostCond\", \"RSUBJID\"], axis=1).values\n",
    "col_names = df.drop(labels=[\"PostCond\", \"RSUBJID\"], axis=1).columns\n",
    "labels = dict()\n",
    "labels[\"PostCond\"] = df[\"PostCond\"]\n",
    "imputer = imputers.IterativeImputer(random_state=42)\n",
    "X = imputer.fit_transform(X)\n",
    "imputed_X_df = pd.DataFrame(X, columns=col_names)\n",
    "imputed_subj_dict = tools.create_subj_dict(pd.concat([imputed_X_df, labels], axis=1))\n",
    "imputed_subj_dict[\"RSUBJID\"] = df[\"RSUBJID\"]\n",
    "normalized_subj_dict = tools.dist_from_age_mean(imputed_subj_dict, trends)\n",
    "linearized_subj_dict = tools.dict_to_linfit(normalized_subj_dict, [\"DIASBP_R\", \"PULSE_R\", \"SYSBP_R\", \"WEIGHT_R\", \"CREATININE_R\", \"HDL_R\", \"LDL_R\", \"TOTCHOL_R\"])\n",
    "final_df = tools.lin_dict_to_df(linearized_subj_dict)\n",
    "\n",
    "final_df.to_csv('evolutionary.csv')\n",
    "# columns=[\"age\", \"sex\", \"cp\", \"trestbps\", \"chol\", \"fbs\", \"restecg\", \"thalach\", \"exang\", \"oldpeak\", \"slope\", \"ca\", \"thal\", \"target\"]\n",
    "# df = df.drop_duplicates(columns=[\"Age\", \"Sex\", \"ChestPainType\", \"RestingBP\", \"Cholesterol\", \"FastingBS\", \"RestingECG\", \"MaxHR\", \"ExerciseAngina\", \"Oldpeak\", \"ST_Slope\", \"HeartDisease\"])\n",
    "\n",
    "# df.describe(chunk_summary=True)"
   ]
  }
 ],
 "metadata": {
  "kernelspec": {
   "display_name": "tensorflow",
   "language": "python",
   "name": "python3"
  },
  "language_info": {
   "codemirror_mode": {
    "name": "ipython",
    "version": 3
   },
   "file_extension": ".py",
   "mimetype": "text/x-python",
   "name": "python",
   "nbconvert_exporter": "python",
   "pygments_lexer": "ipython3",
   "version": "3.10.8 | packaged by conda-forge | (main, Nov 22 2022, 08:25:29) [Clang 14.0.6 ]"
  },
  "orig_nbformat": 4,
  "vscode": {
   "interpreter": {
    "hash": "09f61af4f65d4634c17b8a51ddf1eb855b373cdae4e53182aef1e6aee687f5e7"
   }
  }
 },
 "nbformat": 4,
 "nbformat_minor": 2
}
