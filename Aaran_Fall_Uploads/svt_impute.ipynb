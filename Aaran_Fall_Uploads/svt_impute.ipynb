{
 "cells": [
  {
   "cell_type": "code",
   "execution_count": 3,
   "metadata": {},
   "outputs": [],
   "source": [
    "import pandas as pd\n",
    "import numpy as np\n",
    "from src.matrix_completion import matrix_completion\n",
    "import os"
   ]
  },
  {
   "cell_type": "code",
   "execution_count": 4,
   "metadata": {},
   "outputs": [
    {
     "ename": "",
     "evalue": "",
     "output_type": "error",
     "traceback": [
      "\u001b[1;31mThe Kernel crashed while executing code in the the current cell or a previous cell. Please review the code in the cell(s) to identify a possible cause of the failure. Click <a href='https://aka.ms/vscodeJupyterKernelCrash'>here</a> for more info. View Jupyter <a href='command:jupyter.viewOutput'>log</a> for further details."
     ]
    },
    {
     "ename": "",
     "evalue": "",
     "output_type": "error",
     "traceback": [
      "\u001b[1;31mCanceled future for execute_request message before replies were done"
     ]
    }
   ],
   "source": [
    "os.chdir(\"/Users/aaran/MHA_Upload_my_changes/Duke_Dataset\")\n",
    "\n",
    "cols = [\"AGE_G\", \"GENDER\", \"RACE_G\", \"ACS\", \"CHFSEV\", \"PRE_CULM_CONDITION\", \"HXANGINA\", \"HXCEREB\", \"HXCHF\", \"HXCOPD\", \"HXDIAB\", \"HXHTN\", \"HXHYL\", \"HXMI\", \"HXSMOKE\",\t\"NUMPRMI\", \"DIASBP_R\", \"PULSE_R\", \"SYSBP_R\", \"CBRUITS\",\t\"HEIGHT_R\",\t\"S3\", \"WEIGHT_R\", \"CREATININE_R\", \"HDL_R\", \"LDL_R\",\t\"TOTCHOL_R\", \"CATHAPPR\", \"DIAGCATH\", \"INTVCATH\", \"CORDOM\", \"GRAFTST\", \"LADST\", \"LCXST\", \"LMST\", \"LVEF_R\", \"NUMDZV\", \"PRXLADST\", \"RCAST\"]\n",
    "\n",
    "df = pd.read_csv('dukecathr_classification_FeatureSelections_for_Imputations.csv', usecols=cols)\n",
    "\n",
    "X = df.to_numpy()\n",
    "\n",
    "X_hat = matrix_completion(X, 50, 0.01)\n",
    "\n",
    "df_new = pd.DataFrame(X_hat, columns=cols)\n",
    "\n",
    "df_new.to_csv('completed_matrix.csv')\n"
   ]
  }
 ],
 "metadata": {
  "kernelspec": {
   "display_name": "tensorflow",
   "language": "python",
   "name": "python3"
  },
  "language_info": {
   "codemirror_mode": {
    "name": "ipython",
    "version": 3
   },
   "file_extension": ".py",
   "mimetype": "text/x-python",
   "name": "python",
   "nbconvert_exporter": "python",
   "pygments_lexer": "ipython3",
   "version": "3.10.8 | packaged by conda-forge | (main, Nov 22 2022, 08:25:29) [Clang 14.0.6 ]"
  },
  "orig_nbformat": 4,
  "vscode": {
   "interpreter": {
    "hash": "09f61af4f65d4634c17b8a51ddf1eb855b373cdae4e53182aef1e6aee687f5e7"
   }
  }
 },
 "nbformat": 4,
 "nbformat_minor": 2
}
