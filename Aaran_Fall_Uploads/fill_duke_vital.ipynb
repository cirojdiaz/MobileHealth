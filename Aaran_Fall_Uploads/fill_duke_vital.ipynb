{
 "cells": [
  {
   "cell_type": "code",
   "execution_count": 1,
   "metadata": {},
   "outputs": [],
   "source": [
    "import pandas as pd\n",
    "import numpy as np\n",
    "import math"
   ]
  },
  {
   "cell_type": "code",
   "execution_count": 2,
   "metadata": {},
   "outputs": [],
   "source": [
    "def copy_values(X, X_hat):\n",
    "    n, m = X.shape\n",
    "    for i in range(n):\n",
    "        for j in range(m):\n",
    "            if not math.isnan(X[i][j]):\n",
    "                X_hat[i][j] = X[i][j]\n",
    "    return X_hat\n",
    "\n",
    "def matrix_completion(X, threshold=1, epsilon=0.01):\n",
    "    \"\"\"\n",
    "    Lower rank matrix completion using iterative singular value thresholding\n",
    "    :param X:\n",
    "    :param threshold:\n",
    "    :param epsilon:\n",
    "    :return:\n",
    "    \"\"\"\n",
    "    n, m = X.shape\n",
    "    X_hat = np.zeros((n, m))\n",
    "    X_hat = copy_values(X, X_hat)\n",
    "    while True:\n",
    "        X_hat_old = X_hat\n",
    "        u, e, vh = np.linalg.svd(X_hat, full_matrices=False)\n",
    "        # remove singular values less than threshold\n",
    "        e = list(map(lambda val: val if val >= threshold else 0, e))\n",
    "        E = np.zeros((m, m))\n",
    "        E[0:min(m, n), 0:min(m, n)] = np.diag(e)\n",
    "        X_hat = np.matmul(np.matmul(u, E), vh)\n",
    "        X_hat = copy_values(X, X_hat)\n",
    "        f_norm = np.linalg.norm(X_hat - X_hat_old)\n",
    "        if f_norm < epsilon:\n",
    "            break\n",
    "    return X_hat"
   ]
  },
  {
   "cell_type": "code",
   "execution_count": 3,
   "metadata": {},
   "outputs": [],
   "source": [
    "df = pd.read_csv(\"duke_vital.csv\", index_col=0)\n",
    "columns = df.columns\n",
    "\n",
    "X = df.to_numpy()\n",
    "import pandas as pd\n",
    "import numpy as np\n",
    "import math\n",
    "X_hat = matrix_completion(X, 10, 0.01)\n",
    "\n",
    "df_new = pd.DataFrame(X_hat, columns = df.columns)\n",
    "\n",
    "df_new.to_csv('completed_matrix.csv')"
   ]
  }
 ],
 "metadata": {
  "kernelspec": {
   "display_name": "tensorflow",
   "language": "python",
   "name": "python3"
  },
  "language_info": {
   "codemirror_mode": {
    "name": "ipython",
    "version": 3
   },
   "file_extension": ".py",
   "mimetype": "text/x-python",
   "name": "python",
   "nbconvert_exporter": "python",
   "pygments_lexer": "ipython3",
   "version": "3.10.8 | packaged by conda-forge | (main, Nov 22 2022, 08:25:29) [Clang 14.0.6 ]"
  },
  "orig_nbformat": 4,
  "vscode": {
   "interpreter": {
    "hash": "09f61af4f65d4634c17b8a51ddf1eb855b373cdae4e53182aef1e6aee687f5e7"
   }
  }
 },
 "nbformat": 4,
 "nbformat_minor": 2
}
