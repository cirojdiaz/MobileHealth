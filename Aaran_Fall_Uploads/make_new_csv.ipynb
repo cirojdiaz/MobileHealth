{
 "cells": [
  {
   "cell_type": "code",
   "execution_count": 2,
   "metadata": {},
   "outputs": [],
   "source": [
    "import os\n",
    "import h2o\n",
    "import pandas as pd"
   ]
  },
  {
   "cell_type": "code",
   "execution_count": 3,
   "metadata": {},
   "outputs": [
    {
     "name": "stdout",
     "output_type": "stream",
     "text": [
      "0        1\n",
      "1        1\n",
      "2        0\n",
      "3        1\n",
      "4        1\n",
      "        ..\n",
      "83315    0\n",
      "83316    0\n",
      "83317    1\n",
      "83318    1\n",
      "83319    0\n",
      "Name: PostCond, Length: 83320, dtype: int64\n",
      "0.747203552568411\n"
     ]
    }
   ],
   "source": [
    "os.chdir(\"/Users/aaran/MHA_Upload_my_changes/Duke_Dataset\")\n",
    "\n",
    "df = pd.read_csv('dukecathr.csv', )\n",
    "\n",
    "df[\"DEATH\"].fillna(-1, inplace = True)\n",
    "df[\"DSCABG\"].fillna(-1, inplace = True)\n",
    "df[\"DSMI\"].fillna(-1, inplace = True)\n",
    "df[\"DSPCI\"].fillna(-1, inplace = True)\n",
    "df[\"DSSTROKE\"].fillna(-1, inplace = True)\n",
    "\n",
    "def map_func(row):\n",
    "    if row[\"DSCABG\"] > 0 or row[\"DSMI\"] > 0 or row[\"DSPCI\"] or row[\"DSSTROKE\"] >= 0:\n",
    "        return 1\n",
    "    return 0\n",
    "\n",
    "df[\"PostCond\"] = df[[\"DSCABG\", \"DSMI\", \"DSPCI\", \"DSSTROKE\"]].apply(map_func, axis=1)\n",
    "print(df[\"PostCond\"])\n",
    "print(df[\"PostCond\"].mean())\n",
    "df_filtered = df[[\"RSUBJID\", \"RDAYSFROMINDEX\", \"AGE_G\", \"RACE_G\", \"GENDER\", \"HXCOPD\", \"HXDIAB\", \"HXHTN\", \"HXHYL\", \"HXSMOKE\", \"DIASBP_R\", \"PULSE_R\", \"SYSBP_R\", \"HEIGHT_R\", \"WEIGHT_R\", \"CREATININE_R\", \"HDL_R\", \"LDL_R\", \"TOTCHOL_R\", \"PostCond\"]]\n",
    "df_filtered.to_csv('var_of_interest_updated.csv')\n",
    "# columns=[\"age\", \"sex\", \"cp\", \"trestbps\", \"chol\", \"fbs\", \"restecg\", \"thalach\", \"exang\", \"oldpeak\", \"slope\", \"ca\", \"thal\", \"target\"]\n",
    "# df = df.drop_duplicates(columns=[\"Age\", \"Sex\", \"ChestPainType\", \"RestingBP\", \"Cholesterol\", \"FastingBS\", \"RestingECG\", \"MaxHR\", \"ExerciseAngina\", \"Oldpeak\", \"ST_Slope\", \"HeartDisease\"])\n",
    "\n",
    "# df.describe(chunk_summary=True)"
   ]
  }
 ],
 "metadata": {
  "kernelspec": {
   "display_name": "tensorflow",
   "language": "python",
   "name": "python3"
  },
  "language_info": {
   "codemirror_mode": {
    "name": "ipython",
    "version": 3
   },
   "file_extension": ".py",
   "mimetype": "text/x-python",
   "name": "python",
   "nbconvert_exporter": "python",
   "pygments_lexer": "ipython3",
   "version": "3.10.8 | packaged by conda-forge | (main, Nov 22 2022, 08:25:29) [Clang 14.0.6 ]"
  },
  "orig_nbformat": 4,
  "vscode": {
   "interpreter": {
    "hash": "09f61af4f65d4634c17b8a51ddf1eb855b373cdae4e53182aef1e6aee687f5e7"
   }
  }
 },
 "nbformat": 4,
 "nbformat_minor": 2
}
