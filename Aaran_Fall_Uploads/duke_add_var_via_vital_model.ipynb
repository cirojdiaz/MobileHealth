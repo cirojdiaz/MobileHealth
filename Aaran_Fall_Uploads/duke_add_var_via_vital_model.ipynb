{
 "cells": [
  {
   "cell_type": "code",
   "execution_count": 1,
   "metadata": {},
   "outputs": [],
   "source": [
    "import pandas as pd\n",
    "import numpy as np\n",
    "from xgboost import XGBRegressor"
   ]
  },
  {
   "cell_type": "code",
   "execution_count": 2,
   "metadata": {},
   "outputs": [
    {
     "name": "stdout",
     "output_type": "stream",
     "text": [
      " length of vital_df before dropping NaN in common columns: 6364\n",
      "16\n",
      " length of vital_df after dropping NaN in common columns: 6201\n"
     ]
    }
   ],
   "source": [
    "common_columns = [\"AGE_G\", \"GENDER\", \"HEIGHT_R\", \"WEIGHT_R\"]\n",
    "\n",
    "duke_df = pd.read_csv(\"var_of_interest_updated.csv\")\n",
    "vital_df = pd.read_csv(\"clinical_lab_data.csv\")\n",
    "print(f' length of vital_df before dropping NaN in common columns: {len(vital_df)}')\n",
    "vital_df = vital_df.dropna(axis=0, subset=common_columns)\n",
    "print(len(vital_df.columns))\n",
    "print(f' length of vital_df after dropping NaN in common columns: {len(vital_df)}')"
   ]
  },
  {
   "cell_type": "code",
   "execution_count": 3,
   "metadata": {},
   "outputs": [],
   "source": [
    "vital_common_col = vital_df[common_columns]\n",
    "new_var_models = dict()\n",
    "for col in vital_df.drop(labels=common_columns, axis=1).columns:\n",
    "    new_var_models[col] = XGBRegressor()\n",
    "    frame = pd.concat([vital_common_col, vital_df[[col]]], axis=1)\n",
    "    frame = frame.dropna(axis=0)\n",
    "    new_var_models[col].fit(frame[common_columns], frame[col])"
   ]
  },
  {
   "cell_type": "code",
   "execution_count": 5,
   "metadata": {},
   "outputs": [],
   "source": [
    "duke_common_col = duke_df[common_columns]\n",
    "for col in vital_df.drop(labels=common_columns, axis=1).columns:\n",
    "    pred = new_var_models[col].predict(duke_common_col)\n",
    "    duke_df[col] = pred"
   ]
  },
  {
   "cell_type": "code",
   "execution_count": null,
   "metadata": {},
   "outputs": [],
   "source": [
    "duke_df.to_csv(\"duke_vital_model_imputed.csv\")"
   ]
  }
 ],
 "metadata": {
  "kernelspec": {
   "display_name": "tensorflow",
   "language": "python",
   "name": "python3"
  },
  "language_info": {
   "codemirror_mode": {
    "name": "ipython",
    "version": 3
   },
   "file_extension": ".py",
   "mimetype": "text/x-python",
   "name": "python",
   "nbconvert_exporter": "python",
   "pygments_lexer": "ipython3",
   "version": "3.10.8 | packaged by conda-forge | (main, Nov 22 2022, 08:25:29) [Clang 14.0.6 ]"
  },
  "orig_nbformat": 4,
  "vscode": {
   "interpreter": {
    "hash": "09f61af4f65d4634c17b8a51ddf1eb855b373cdae4e53182aef1e6aee687f5e7"
   }
  }
 },
 "nbformat": 4,
 "nbformat_minor": 2
}
